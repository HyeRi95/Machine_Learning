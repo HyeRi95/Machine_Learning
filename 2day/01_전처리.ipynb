{
 "cells": [
  {
   "cell_type": "markdown",
   "id": "0e54fccc",
   "metadata": {},
   "source": [
    "# 머신러닝에서 사용되는 전처리 기법"
   ]
  },
  {
   "cell_type": "code",
   "execution_count": null,
   "id": "ead1b5d4",
   "metadata": {},
   "outputs": [],
   "source": [
    "### 데이터 준비하기\n",
    "# - 도미와 빙어 데이터 가지고오기\n",
    "# - 2차원 데이터로 만들기 "
   ]
  },
  {
   "cell_type": "code",
   "execution_count": 8,
   "id": "733cc4df",
   "metadata": {},
   "outputs": [],
   "source": [
    "import numpy as np"
   ]
  },
  {
   "cell_type": "code",
   "execution_count": 1,
   "id": "6df7f971",
   "metadata": {},
   "outputs": [],
   "source": [
    "### 데이터 가지고 오기\n",
    "# - 도미 데이터\n",
    "\n",
    "# - 도미 길이\n",
    "bream_length = [25.4, 26.3, 26.5, 29.0, 29.0, 29.7, 29.7, 30.0, \n",
    "                30.0, 30.7, 31.0, 31.0, 31.5, 32.0, 32.0, 32.0, \n",
    "                33.0, 33.0, 33.5, 33.5, 34.0, 34.0, 34.5, 35.0, \n",
    "                35.0, 35.0, 35.0, 36.0, 36.0, 37.0, 38.5, 38.5, \n",
    "                39.5, 41.0, 41.0]\n",
    "\n",
    "# - 도미 무게\n",
    "bream_weight = [242.0, 290.0, 340.0, 363.0, 430.0, 450.0, 500.0, \n",
    "                390.0, 450.0, 500.0, 475.0, 500.0, 500.0, 340.0, \n",
    "                600.0, 600.0, 700.0, 700.0, 610.0, 650.0, 575.0, \n",
    "                685.0, 620.0, 680.0, 700.0, 725.0, 720.0, 714.0, \n",
    "                850.0, 1000.0, 920.0, 955.0, 925.0, 975.0, 950.0]"
   ]
  },
  {
   "cell_type": "code",
   "execution_count": 2,
   "id": "d06f9e12",
   "metadata": {},
   "outputs": [],
   "source": [
    "### 데이터 가지고 오기\n",
    "# - 빙어 데이터\n",
    "\n",
    "# - 빙어 길이\n",
    "smelt_length = [9.8, 10.5, 10.6, 11.0, 11.2, 11.3, 11.8, 11.8, 12.0, 12.2, 12.4, 13.0, 14.3, 15.0]\n",
    "\n",
    "# - 빙어 무게\n",
    "smelt_weight = [6.7, 7.5, 7.0, 9.7, 9.8, 8.7, 10.0, 9.9, 9.8, 12.2, 13.4, 12.2, 19.7, 19.9]"
   ]
  },
  {
   "cell_type": "code",
   "execution_count": 3,
   "id": "0fb2a6f8",
   "metadata": {},
   "outputs": [],
   "source": [
    "# 데이터 합치기(독립변수들을 합치기)\n",
    "# 도미와 빙어의 길이는 길이끼리, 무게는 무게끼리 합쳐서 하나의 데이터셋 만들기\n",
    "\n",
    "# 도미와 빙어의 길이 데이터 합치기\n",
    "# 리스트 합치기 + 연산자 \n",
    "length = bream_length+smelt_length\n",
    "\n",
    "# 도미와 빙어 무게 데이터 합치기\n",
    "weight = bream_weight+smelt_weight"
   ]
  },
  {
   "cell_type": "code",
   "execution_count": 6,
   "id": "5a4e027a",
   "metadata": {},
   "outputs": [],
   "source": [
    "### 리스트 내포 프로그램 : list comprehension 이라고 합니다\n",
    "# zip() : 각각의 리스트 안에서 각 인덱스의 쌍을 반환해 줍니다.\n",
    "# 반복은 zip() 함수가 반환해주는 갯수만큼 반복수행 \n",
    "fish_data = [[len,wei] for len, wei in zip(length, weight)] # 리스트 comprehension 리스트안에서 프로그래밍 "
   ]
  },
  {
   "cell_type": "code",
   "execution_count": 5,
   "id": "20834dea",
   "metadata": {},
   "outputs": [
    {
     "name": "stdout",
     "output_type": "stream",
     "text": [
      "[1, 1, 1, 1, 1, 1, 1, 1, 1, 1, 1, 1, 1, 1, 1, 1, 1, 1, 1, 1, 1, 1, 1, 1, 1, 1, 1, 1, 1, 1, 1, 1, 1, 1, 1, 0, 0, 0, 0, 0, 0, 0, 0, 0, 0, 0, 0, 0, 0]\n"
     ]
    }
   ],
   "source": [
    "# 리스트에 1을 35개 0을 14개 넣기 --- 방법3\n",
    "fish_target = [1]*35 + [0]*14\n",
    "print(fish_target)"
   ]
  },
  {
   "cell_type": "code",
   "execution_count": 10,
   "id": "48d54d1f",
   "metadata": {},
   "outputs": [
    {
     "data": {
      "text/plain": [
       "array([[1, 4],\n",
       "       [2, 5],\n",
       "       [3, 6]])"
      ]
     },
     "execution_count": 10,
     "metadata": {},
     "output_type": "execute_result"
    }
   ],
   "source": [
    "### numpy가 제공하는 함수를 이용한 2차원 데이터 생성하기 \n",
    "# 샘플\n",
    "a = [1,2,3]\n",
    "b = [4,5,6]\n",
    "np.column_stack((a,b))"
   ]
  },
  {
   "cell_type": "code",
   "execution_count": 14,
   "id": "43f76cf8",
   "metadata": {},
   "outputs": [
    {
     "data": {
      "text/plain": [
       "array([[  25.4,  242. ],\n",
       "       [  26.3,  290. ],\n",
       "       [  26.5,  340. ],\n",
       "       [  29. ,  363. ],\n",
       "       [  29. ,  430. ],\n",
       "       [  29.7,  450. ],\n",
       "       [  29.7,  500. ],\n",
       "       [  30. ,  390. ],\n",
       "       [  30. ,  450. ],\n",
       "       [  30.7,  500. ],\n",
       "       [  31. ,  475. ],\n",
       "       [  31. ,  500. ],\n",
       "       [  31.5,  500. ],\n",
       "       [  32. ,  340. ],\n",
       "       [  32. ,  600. ],\n",
       "       [  32. ,  600. ],\n",
       "       [  33. ,  700. ],\n",
       "       [  33. ,  700. ],\n",
       "       [  33.5,  610. ],\n",
       "       [  33.5,  650. ],\n",
       "       [  34. ,  575. ],\n",
       "       [  34. ,  685. ],\n",
       "       [  34.5,  620. ],\n",
       "       [  35. ,  680. ],\n",
       "       [  35. ,  700. ],\n",
       "       [  35. ,  725. ],\n",
       "       [  35. ,  720. ],\n",
       "       [  36. ,  714. ],\n",
       "       [  36. ,  850. ],\n",
       "       [  37. , 1000. ],\n",
       "       [  38.5,  920. ],\n",
       "       [  38.5,  955. ],\n",
       "       [  39.5,  925. ],\n",
       "       [  41. ,  975. ],\n",
       "       [  41. ,  950. ],\n",
       "       [   9.8,    6.7],\n",
       "       [  10.5,    7.5],\n",
       "       [  10.6,    7. ],\n",
       "       [  11. ,    9.7],\n",
       "       [  11.2,    9.8],\n",
       "       [  11.3,    8.7],\n",
       "       [  11.8,   10. ],\n",
       "       [  11.8,    9.9],\n",
       "       [  12. ,    9.8],\n",
       "       [  12.2,   12.2],\n",
       "       [  12.4,   13.4],\n",
       "       [  13. ,   12.2],\n",
       "       [  14.3,   19.7],\n",
       "       [  15. ,   19.9]])"
      ]
     },
     "execution_count": 14,
     "metadata": {},
     "output_type": "execute_result"
    }
   ],
   "source": [
    "fish_data = np.column_stack((length,weight))\n",
    "fish_data"
   ]
  },
  {
   "cell_type": "code",
   "execution_count": 21,
   "id": "340b408b",
   "metadata": {},
   "outputs": [
    {
     "name": "stdout",
     "output_type": "stream",
     "text": [
      "[1. 1. 1. 1. 1.]\n",
      "[0. 0. 0. 0. 0.]\n",
      "[1. 1. 1. 1. 1. 0. 0. 0. 0. 0.]\n"
     ]
    }
   ],
   "source": [
    "###\n",
    "# numpy에서 1,0 만드는 함수 \n",
    "print(np.ones(5))\n",
    "print(np.zeros(5))\n",
    "# numpy는 튜플로..! \n",
    "print(np.concatenate((np.ones(5),np.zeros(5))))"
   ]
  },
  {
   "cell_type": "code",
   "execution_count": 22,
   "id": "35c94a58",
   "metadata": {},
   "outputs": [
    {
     "data": {
      "text/plain": [
       "array([1., 1., 1., 1., 1., 1., 1., 1., 1., 1., 1., 1., 1., 1., 1., 1., 1.,\n",
       "       1., 1., 1., 1., 1., 1., 1., 1., 1., 1., 1., 1., 1., 1., 1., 1., 1.,\n",
       "       1., 0., 0., 0., 0., 0., 0., 0., 0., 0., 0., 0., 0., 0., 0.])"
      ]
     },
     "execution_count": 22,
     "metadata": {},
     "output_type": "execute_result"
    }
   ],
   "source": [
    "### numpy를 이용해서 1과 0의 임의 값 만들기\n",
    "# - 튜플 형태로 만들어야 합니다!!! \n",
    "fish_target = np.concatenate((np.ones(35),np.zeros(14)))\n",
    "fish_target"
   ]
  },
  {
   "cell_type": "markdown",
   "id": "bed5cd94",
   "metadata": {},
   "source": [
    "# 훈련데이터 세트와 테스트 데이터 세트 만들기\n",
    "#### - 훈련데이터세트 : 독립변수의 훈련데이터와 target데이터 생성\n",
    "#### - 테스트데이터 세트 : 독립변수의 테스트 데이터와 target 데이터 생성\n",
    "\n",
    "#### * train_data , train_target : 훈련에 사용 \n",
    "#### * test_data , test_target : 평가 및 예측에 사용\n"
   ]
  },
  {
   "cell_type": "code",
   "execution_count": 29,
   "id": "250a5471",
   "metadata": {},
   "outputs": [
    {
     "name": "stdout",
     "output_type": "stream",
     "text": [
      "(섞기전) index =  [ 0  1  2  3  4  5  6  7  8  9 10 11 12 13 14 15 16 17 18 19 20 21 22 23\n",
      " 24 25 26 27 28 29 30 31 32 33 34 35 36 37 38 39 40 41 42 43 44 45 46 47\n",
      " 48]\n",
      "-------------------------------------------------------------------------------------------\n",
      "(섞은후) index =  [13 45 47 44 17 27 26 25 31 19 12  4 34  8  3  6 40 41 46 15  9 16 24 33\n",
      " 30  0 43 32  5 29 11 36  1 21  2 37 35 23 39 10 22 18 48 20  7 42 14 28\n",
      " 38]\n",
      "-------------------------------------------------------------------------------------------\n",
      "훈련데이터(train_input) : \n",
      " [[  32.   340. ]\n",
      " [  12.4   13.4]\n",
      " [  14.3   19.7]\n",
      " [  12.2   12.2]\n",
      " [  33.   700. ]\n",
      " [  36.   714. ]\n",
      " [  35.   720. ]\n",
      " [  35.   725. ]\n",
      " [  38.5  955. ]\n",
      " [  33.5  650. ]\n",
      " [  31.5  500. ]\n",
      " [  29.   430. ]\n",
      " [  41.   950. ]\n",
      " [  30.   450. ]\n",
      " [  29.   363. ]\n",
      " [  29.7  500. ]\n",
      " [  11.3    8.7]\n",
      " [  11.8   10. ]\n",
      " [  13.    12.2]\n",
      " [  32.   600. ]\n",
      " [  30.7  500. ]\n",
      " [  33.   700. ]\n",
      " [  35.   700. ]\n",
      " [  41.   975. ]\n",
      " [  38.5  920. ]\n",
      " [  25.4  242. ]\n",
      " [  12.     9.8]\n",
      " [  39.5  925. ]\n",
      " [  29.7  450. ]\n",
      " [  37.  1000. ]\n",
      " [  31.   500. ]\n",
      " [  10.5    7.5]\n",
      " [  26.3  290. ]\n",
      " [  34.   685. ]\n",
      " [  26.5  340. ]]\n",
      "-------------------------------------------------------------------------------------------\n",
      "훈련데이터(train_target) :  [1. 0. 0. 0. 1. 1. 1. 1. 1. 1. 1. 1. 1. 1. 1. 1. 0. 0. 0. 1. 1. 1. 1. 1.\n",
      " 1. 1. 0. 1. 1. 1. 1. 0. 1. 1. 1.]\n",
      "-------------------------------------------------------------------------------------------\n",
      "테스트데이터(test_input) : \n",
      " [[ 10.6   7. ]\n",
      " [  9.8   6.7]\n",
      " [ 35.  680. ]\n",
      " [ 11.2   9.8]\n",
      " [ 31.  475. ]\n",
      " [ 34.5 620. ]\n",
      " [ 33.5 610. ]\n",
      " [ 15.   19.9]\n",
      " [ 34.  575. ]\n",
      " [ 30.  390. ]\n",
      " [ 11.8   9.9]\n",
      " [ 32.  600. ]\n",
      " [ 36.  850. ]\n",
      " [ 11.    9.7]]\n",
      "-------------------------------------------------------------------------------------------\n",
      "테스트데이터(test_target) :  [0. 0. 1. 0. 1. 1. 1. 0. 1. 1. 0. 1. 1. 0.]\n"
     ]
    }
   ],
   "source": [
    "# 훈련 및 테스트 데이터세트 생성하기\n",
    "\n",
    "### numpy shuffle() 함수를 이용해서 배열(리스트) 데이터 섞기\n",
    "np.random.seed(42)\n",
    "#0~48까지의 순차적인 번호 생성하기\n",
    "index = np.arange(49)\n",
    "print('(섞기전) index = ',index)\n",
    "print('-------------------------------------------------------------------------------------------')\n",
    "\n",
    "# 0~48까지의 순차적 번호를 섞기\n",
    "np.random.shuffle(index)\n",
    "print('(섞은후) index = ' , index)\n",
    "print('-------------------------------------------------------------------------------------------')\n",
    "\n",
    "## 훈련데이터 생성하기\n",
    "# 섞인 인덱스의 상위 35개 해당 값을 input_arr 에서 가져온다\n",
    "train_input = fish_data[index[:35]]\n",
    "train_target = fish_target[index[:35]]\n",
    "print('훈련데이터(train_input) : \\n',train_input)\n",
    "print('-------------------------------------------------------------------------------------------')\n",
    "print('훈련데이터(train_target) : ',train_target)\n",
    "print('-------------------------------------------------------------------------------------------')\n",
    "\n",
    "## 테스트 데이터 생성하기\n",
    "test_input = fish_data[index[35:]]\n",
    "test_target = fish_target[index[35:]]\n",
    "print('테스트데이터(test_input) : \\n' ,test_input)\n",
    "print('-------------------------------------------------------------------------------------------')\n",
    "print('테스트데이터(test_target) : ' ,test_target)"
   ]
  },
  {
   "cell_type": "code",
   "execution_count": null,
   "id": "713b04ed",
   "metadata": {},
   "outputs": [],
   "source": [
    "### sklearn 패키지에는 훈련 및 테스트 데이터를 자동으로 섞어주는 함수가 있다\n",
    "# - train_test_split() 함수 : 섞어주기, 비율로 나누기 "
   ]
  },
  {
   "cell_type": "code",
   "execution_count": 30,
   "id": "a912b455",
   "metadata": {},
   "outputs": [],
   "source": [
    "# 함수 사용을 위해 불러오기\n",
    "from sklearn.model_selection import train_test_split"
   ]
  },
  {
   "cell_type": "code",
   "execution_count": 34,
   "id": "87ee9390",
   "metadata": {},
   "outputs": [
    {
     "data": {
      "text/plain": [
       "[array([[  30. ,  450. ],\n",
       "        [  29. ,  363. ],\n",
       "        [  29.7,  500. ],\n",
       "        [  11.3,    8.7],\n",
       "        [  11.8,   10. ],\n",
       "        [  13. ,   12.2],\n",
       "        [  32. ,  600. ],\n",
       "        [  30.7,  500. ],\n",
       "        [  33. ,  700. ],\n",
       "        [  35. ,  700. ],\n",
       "        [  41. ,  975. ],\n",
       "        [  38.5,  920. ],\n",
       "        [  25.4,  242. ],\n",
       "        [  12. ,    9.8],\n",
       "        [  39.5,  925. ],\n",
       "        [  29.7,  450. ],\n",
       "        [  37. , 1000. ],\n",
       "        [  31. ,  500. ],\n",
       "        [  10.5,    7.5],\n",
       "        [  26.3,  290. ],\n",
       "        [  34. ,  685. ],\n",
       "        [  26.5,  340. ],\n",
       "        [  10.6,    7. ],\n",
       "        [   9.8,    6.7],\n",
       "        [  35. ,  680. ],\n",
       "        [  11.2,    9.8],\n",
       "        [  31. ,  475. ],\n",
       "        [  34.5,  620. ],\n",
       "        [  33.5,  610. ],\n",
       "        [  15. ,   19.9],\n",
       "        [  34. ,  575. ],\n",
       "        [  30. ,  390. ],\n",
       "        [  11.8,    9.9],\n",
       "        [  32. ,  600. ],\n",
       "        [  36. ,  850. ],\n",
       "        [  11. ,    9.7]]),\n",
       " array([[ 32. , 340. ],\n",
       "        [ 12.4,  13.4],\n",
       "        [ 14.3,  19.7],\n",
       "        [ 12.2,  12.2],\n",
       "        [ 33. , 700. ],\n",
       "        [ 36. , 714. ],\n",
       "        [ 35. , 720. ],\n",
       "        [ 35. , 725. ],\n",
       "        [ 38.5, 955. ],\n",
       "        [ 33.5, 650. ],\n",
       "        [ 31.5, 500. ],\n",
       "        [ 29. , 430. ],\n",
       "        [ 41. , 950. ]]),\n",
       " array([1., 1., 1., 0., 0., 0., 1., 1., 1., 1., 1., 1., 1., 0., 1., 1., 1.,\n",
       "        1., 0., 1., 1., 1., 0., 0., 1., 0., 1., 1., 1., 0., 1., 1., 0., 1.,\n",
       "        1., 0.]),\n",
       " array([1., 0., 0., 0., 1., 1., 1., 1., 1., 1., 1., 1., 1.])]"
      ]
     },
     "execution_count": 34,
     "metadata": {},
     "output_type": "execute_result"
    }
   ],
   "source": [
    "# 훈련 및 테스트데이터\n",
    "train_test_split(fish_data, fish_target, random_state=42)"
   ]
  },
  {
   "cell_type": "code",
   "execution_count": 37,
   "id": "143f6f5d",
   "metadata": {},
   "outputs": [
    {
     "name": "stdout",
     "output_type": "stream",
     "text": [
      "훈련 데이터 비율 :  0.7346938775510204\n",
      "테스트 데이터 비율 :  0.2653061224489796\n"
     ]
    }
   ],
   "source": [
    "# 훈련및 테스트데이터분류하여 가지고오기\n",
    "# 총 4개의 변수값을 반환해 줍니다\n",
    "\n",
    "# test_size : 테스트데이터의 비율\n",
    "# train_size : 훈련데이터의 비율\n",
    "# 기본적으로 train : test = 75:25의 비율을 사용 (대략적인 비율)\n",
    "# 일반적으로 훈련과 테스트 비율은 7:3 또는 7.5:2.5 비율로 사용 ******* 시험출제 *******\n",
    "train_input, test_input, train_target, test_target = \\\n",
    "    train_test_split(fish_data, fish_target, test_size=0.25, random_state=42)\n",
    "\n",
    "## 훈련과 테스트 데이터의 구분 비유 확인하기\n",
    "# - 구분비율은 훈련input과 테스트 input으로 비율을 체크\n",
    "# - 비율 계산해주세요 \n",
    "print('훈련 데이터 비율 : ' ,len(train_input)/len(fish_data))\n",
    "print('테스트 데이터 비율 : ' ,len(test_input)/len(fish_data))"
   ]
  },
  {
   "cell_type": "code",
   "execution_count": 42,
   "id": "0b571ffe",
   "metadata": {},
   "outputs": [
    {
     "name": "stdout",
     "output_type": "stream",
     "text": [
      "(36, 2) (36,)\n"
     ]
    }
   ],
   "source": [
    "# 훈련데이터 차원 확인하기\n",
    "# 2차원 , 1차원\n",
    "print(train_input.shape, train_target.shape)"
   ]
  },
  {
   "cell_type": "code",
   "execution_count": 43,
   "id": "ffa60756",
   "metadata": {},
   "outputs": [
    {
     "name": "stdout",
     "output_type": "stream",
     "text": [
      "(13, 2) (13,)\n"
     ]
    }
   ],
   "source": [
    "# 테스트 데이터 차원 확인 하기\n",
    "print(test_input.shape , test_target.shape)"
   ]
  },
  {
   "cell_type": "code",
   "execution_count": 49,
   "id": "7c4cd084",
   "metadata": {},
   "outputs": [],
   "source": [
    "### *** 샘플링 편향을 최소화 하기위한 방법\n",
    "# - stratify 속성을 사용\n",
    "# - 속성에는 기준값을 넣어줍니다(보통 종속데이터)\n",
    "# - 종속데이터의 분류 값을 기준으로 test_size의 비율로 섞어줍니다\n",
    "train_input, test_input, train_target, test_target = \\\n",
    "    train_test_split(fish_data, fish_target, stratify = fish_target,test_size=0.25, random_state=42)"
   ]
  },
  {
   "cell_type": "code",
   "execution_count": 50,
   "id": "85f1d90e",
   "metadata": {},
   "outputs": [
    {
     "data": {
      "text/plain": [
       "array([0., 0., 1., 0., 1., 0., 1., 1., 1., 1., 1., 1., 1.])"
      ]
     },
     "execution_count": 50,
     "metadata": {},
     "output_type": "execute_result"
    }
   ],
   "source": [
    "test_target"
   ]
  },
  {
   "cell_type": "markdown",
   "id": "50ef7a28",
   "metadata": {},
   "source": [
    "# 특정 위치의 생선 예측하기\n",
    "#### - 특정 위치의 생선 : 예측 데이터 1개 사용"
   ]
  },
  {
   "cell_type": "code",
   "execution_count": null,
   "id": "6acf2ae7",
   "metadata": {},
   "outputs": [],
   "source": [
    "### [문제]\n",
    "# - 생선의 길이와 무게가 25cm, 150g\n",
    "# - 이 생선은 도미? 방어?\n",
    "# 1. 훈련데이터를 산점도로 시각화 하여 대략 위의 생선의 위치를 눈으로 확인\n",
    "# 2. 모델 객체 생성 > 3. 훈련데이터 학습 > 4. 정확도 확인 > 5. 위의 생선 예측 > 6. 산점도 그래프 시각화\n",
    "# (훈련데이터에 대한 산점도와 위 생선 한개 위치 까지 포함해서)"
   ]
  },
  {
   "cell_type": "code",
   "execution_count": 64,
   "id": "d62e61a9",
   "metadata": {},
   "outputs": [
    {
     "data": {
      "text/plain": [
       "Text(0, 0.5, 'weight')"
      ]
     },
     "execution_count": 64,
     "metadata": {},
     "output_type": "execute_result"
    },
    {
     "data": {
      "image/png": "[encoded data removed]",
      "text/plain": [
       "<Figure size 432x288 with 1 Axes>"
      ]
     },
     "metadata": {
      "needs_background": "light"
     },
     "output_type": "display_data"
    }
   ],
   "source": [
    "# 훈련데이터 산점도 시각화, 25cm 150g 생선의 위치를 그래프에서 확인 \n",
    "import matplotlib.pyplot as plt\n",
    "plt.scatter(train_input[:,0], train_input[:,1], c='orange')\n",
    "plt.scatter(25,150,marker = '^')\n",
    "plt.xlabel('length')\n",
    "plt.ylabel('weight')\n"
   ]
  },
  {
   "cell_type": "code",
   "execution_count": 60,
   "id": "6dd7b1f7",
   "metadata": {
    "collapsed": true
   },
   "outputs": [
    {
     "name": "stderr",
     "output_type": "stream",
     "text": [
      "C:\\Users\\82102\\ml\\lib\\site-packages\\sklearn\\neighbors\\_classification.py:237: FutureWarning: Unlike other reduction functions (e.g. `skew`, `kurtosis`), the default behavior of `mode` typically preserves the axis it acts along. In SciPy 1.11.0, this behavior will change: the default value of `keepdims` will become False, the `axis` over which the statistic is taken will be eliminated, and the value None will no longer be accepted. Set `keepdims` to True or False to avoid this warning.\n",
      "  mode, _ = stats.mode(_y[neigh_ind, k], axis=1)\n"
     ]
    },
    {
     "data": {
      "text/plain": [
       "1.0"
      ]
     },
     "execution_count": 60,
     "metadata": {},
     "output_type": "execute_result"
    }
   ],
   "source": [
    "from sklearn.neighbors import KNeighborsClassifier\n",
    "\n",
    "# 모델 객체 생성 \n",
    "kn = KNeighborsClassifier()\n",
    "\n",
    "# fit(train_input, train_target) : 훈련\n",
    "kn.fit(train_input, train_target)\n",
    "\n",
    "# score(test_input, test_target) : 정확도 확인 \n",
    "kn.score(test_input, test_target)"
   ]
  },
  {
   "cell_type": "code",
   "execution_count": 61,
   "id": "1986f32a",
   "metadata": {
    "collapsed": true
   },
   "outputs": [
    {
     "name": "stderr",
     "output_type": "stream",
     "text": [
      "C:\\Users\\82102\\ml\\lib\\site-packages\\sklearn\\neighbors\\_classification.py:237: FutureWarning: Unlike other reduction functions (e.g. `skew`, `kurtosis`), the default behavior of `mode` typically preserves the axis it acts along. In SciPy 1.11.0, this behavior will change: the default value of `keepdims` will become False, the `axis` over which the statistic is taken will be eliminated, and the value None will no longer be accepted. Set `keepdims` to True or False to avoid this warning.\n",
      "  mode, _ = stats.mode(_y[neigh_ind, k], axis=1)\n"
     ]
    },
    {
     "data": {
      "text/plain": [
       "array([0.])"
      ]
     },
     "execution_count": 61,
     "metadata": {},
     "output_type": "execute_result"
    }
   ],
   "source": [
    "# 25cm 150g 생선 예측하기\n",
    "# predict() 함수에 들어가는 데이터는 2차원!!!!! \n",
    "kn.predict([[25,150]])"
   ]
  },
  {
   "cell_type": "code",
   "execution_count": 63,
   "id": "32558aab",
   "metadata": {},
   "outputs": [
    {
     "name": "stdout",
     "output_type": "stream",
     "text": [
      "[[ 92.00086956 130.48375378 130.73859415 138.32150953 138.39320793]] [[21 33 19 30  1]]\n"
     ]
    }
   ],
   "source": [
    "### 사용된 이웃값 확인하기\n",
    "# - 모델 생성시 기본 5개의 이웃으로 지정되어 훈련이 됩니다\n",
    "# -이웃 5개의 값을 추출하기 위해서는 kneighbors() 함수를 사용합니다\n",
    "# - 첫번째 값은 : 특정 생선과 이웃과의 거리\n",
    "# - 두번쨰 값은 : 이웃 5개의 실체 위치(인덱스번호)\n",
    "distances, indexes = kn.kneighbors([[25,150]])\n",
    "print(distances, indexes)\n",
    "\n",
    "# 21번째 인덱스를 가진 값이 예측하고 싶은 값과 가장 가까운 위치에 있는 값이다 "
   ]
  },
  {
   "cell_type": "code",
   "execution_count": 72,
   "id": "ea116f3b",
   "metadata": {
    "scrolled": true
   },
   "outputs": [
    {
     "data": {
      "text/plain": [
       "Text(0, 0.5, 'weight')"
      ]
     },
     "execution_count": 72,
     "metadata": {},
     "output_type": "execute_result"
    },
    {
     "data": {
      "image/png": "[encoded data removed]",
      "text/plain": [
       "<Figure size 432x288 with 1 Axes>"
      ]
     },
     "metadata": {
      "needs_background": "light"
     },
     "output_type": "display_data"
    }
   ],
   "source": [
    "plt.scatter(train_input[:,0], train_input[:,1], c='orange')\n",
    "plt.scatter(25,150,marker = '^')\n",
    "plt.scatter(train_input[indexes,0],train_input[indexes,1], marker = 'D',c='red')\n",
    "plt.xlabel('lengh')\n",
    "plt.ylabel('weight')\n"
   ]
  },
  {
   "cell_type": "markdown",
   "id": "34c4ac8d",
   "metadata": {},
   "source": [
    "###  < 해석 >\n",
    "- x 축의 범위와 y 축의 범위가 너무 큰 차이로 나타난 현상\n",
    "- x 축의 범위 : 10~40\n",
    "- y 축의 범위 : 0~1000\n",
    "- 두 축의 범위 값이 너무 크게 차이가 나서 발생한 현상\n",
    "- y 축으로 조금만 올라가도 거리는 크게 벌어진다\n",
    "- 도미들의 위치가 위로 조금만 올라가도 거리는 크게 벌어집니다\n",
    "-\n",
    "##### 이러한 현상을 ' 스케일이 다르다' 라고 해석합니다\n",
    "##### 분석시 매우 흔하게 발생하는 현상으로 전처리를 꼭 해주어야 합니다\n",
    "##### 전처리 방법 : x 축과 y 축의 값을 동일하게 맞춰주어야 합니다"
   ]
  },
  {
   "cell_type": "code",
   "execution_count": 73,
   "id": "cd1972e9",
   "metadata": {},
   "outputs": [
    {
     "data": {
      "text/plain": [
       "Text(0, 0.5, 'weight')"
      ]
     },
     "execution_count": 73,
     "metadata": {},
     "output_type": "execute_result"
    },
    {
     "data": {
      "image/png": "[encoded data removed]",
      "text/plain": [
       "<Figure size 432x288 with 1 Axes>"
      ]
     },
     "metadata": {
      "needs_background": "light"
     },
     "output_type": "display_data"
    }
   ],
   "source": [
    "plt.scatter(train_input[:,0], train_input[:,1], c='orange')\n",
    "plt.scatter(25,150,marker = '^')\n",
    "plt.scatter(train_input[indexes,0],train_input[indexes,1], marker = 'D',c='red')\n",
    "### x 축의 범위를 y 축과 동일하게 임의로 정한다\n",
    "plt.xlim((0,1000))\n",
    "plt.xlabel('lengh')\n",
    "plt.ylabel('weight')\n"
   ]
  },
  {
   "cell_type": "markdown",
   "id": "10b6b906",
   "metadata": {},
   "source": [
    "## 스케일 동일하게 맞추기(전처리)\n",
    "#### - 스케일을 맞추는 전처리 방법으로는 '표준점수(standard score)를 사용'\n",
    "#### - 표준점수 : 각 데이터가 원점(0)에서 몇 표준편차만큼 떨어져 있는지를 나타내는 값\n",
    "#### - 평균, 표준편차 계산은 모두 numpy에서 제공하는 함수 사용\n",
    "#### - 표준점수 계산공식\n",
    " - 표준점수 = (각데이터값 - 데이터세트 전체 평균값)/데이터세트 전체 표준편차값 \n"
   ]
  },
  {
   "cell_type": "code",
   "execution_count": 75,
   "id": "cdac8f6c",
   "metadata": {},
   "outputs": [
    {
     "data": {
      "text/plain": [
       "array([ 27.29722222, 454.09722222])"
      ]
     },
     "execution_count": 75,
     "metadata": {},
     "output_type": "execute_result"
    }
   ],
   "source": [
    "# 훈련데이터 전체 평균 구하기 행전체 기준 평균 \n",
    "mean = np.mean(train_input, axis=0)\n",
    "mean"
   ]
  },
  {
   "cell_type": "code",
   "execution_count": 77,
   "id": "436d37bc",
   "metadata": {},
   "outputs": [
    {
     "data": {
      "text/plain": [
       "array([  9.98244253, 323.29893931])"
      ]
     },
     "execution_count": 77,
     "metadata": {},
     "output_type": "execute_result"
    }
   ],
   "source": [
    "# 훈련데이터 전체 표준편차 구하기\n",
    "std = np.std(train_input, axis=0)\n",
    "std"
   ]
  },
  {
   "cell_type": "code",
   "execution_count": 78,
   "id": "a2f434ae",
   "metadata": {},
   "outputs": [
    {
     "data": {
      "text/plain": [
       "array([[ 0.24070039,  0.14198246],\n",
       "       [-1.51237757, -1.36683783],\n",
       "       [ 0.5712808 ,  0.76060496],\n",
       "       [-1.60253587, -1.37766373],\n",
       "       [ 1.22242404,  1.45655528],\n",
       "       [ 0.17057727, -0.07453542],\n",
       "       [ 0.87180845,  0.80390854],\n",
       "       [ 0.87180845,  1.22457184],\n",
       "       [ 0.37092904,  0.06465464],\n",
       "       [ 0.77163257,  0.82246721],\n",
       "       [ 0.97198434,  1.68853872],\n",
       "       [-1.61255346, -1.3742613 ],\n",
       "       [ 0.72154463,  0.51315596],\n",
       "       [-1.53241275, -1.3742613 ],\n",
       "       [ 0.17057727, -0.28177396],\n",
       "       [ 0.5712808 ,  0.76060496],\n",
       "       [ 0.34087627,  0.14198246],\n",
       "       [ 1.12224816,  1.54934866],\n",
       "       [ 0.62136874,  0.60594934],\n",
       "       [-1.30200822, -1.34363949],\n",
       "       [ 0.42101698,  0.14198246],\n",
       "       [-0.19005591, -0.65604058],\n",
       "       [-1.75279969, -1.38384995],\n",
       "       [ 0.47110492,  0.45129371],\n",
       "       [-1.68267658, -1.38137546],\n",
       "       [ 0.62136874,  0.48222484],\n",
       "       [-1.67265899, -1.38292202],\n",
       "       [ 0.77163257,  0.76060496],\n",
       "       [ 0.47110492,  0.45129371],\n",
       "       [ 0.77163257,  0.83793278],\n",
       "       [-1.43223687, -1.36683783],\n",
       "       [ 0.27075315, -0.01267317],\n",
       "       [ 0.47110492, -0.35291555],\n",
       "       [-1.2318851 , -1.34302087],\n",
       "       [ 0.27075315, -0.19825992],\n",
       "       [ 1.37268787,  1.61121091]])"
      ]
     },
     "execution_count": 78,
     "metadata": {},
     "output_type": "execute_result"
    }
   ],
   "source": [
    "# 표준점수 데이터 계산하여 훈련데이터 재생성하기\n",
    "train_scaled = (train_input - mean)/std\n",
    "train_scaled"
   ]
  },
  {
   "cell_type": "markdown",
   "id": "49972f22",
   "metadata": {},
   "source": [
    "## 스케일로 훈련데이터 재생헝 후에는 훈련모델도 재생성"
   ]
  },
  {
   "cell_type": "code",
   "execution_count": 84,
   "id": "85afa251",
   "metadata": {},
   "outputs": [
    {
     "data": {
      "image/png": "[encoded data removed]",
      "text/plain": [
       "<Figure size 432x288 with 1 Axes>"
      ]
     },
     "metadata": {
      "needs_background": "light"
     },
     "output_type": "display_data"
    }
   ],
   "source": [
    "plt.scatter(train_scaled[:,0],train_scaled[:,1])\n",
    "plt.scatter(25,150,marker='^')\n",
    "plt.xlabel('length')\n",
    "plt.ylabel('weight')\n",
    "plt.show()\n",
    "\n",
    "# 해석\n",
    "# - 훈련 데이터는 스케일을 맞추었지만\n",
    "# - 예측데이터는 스케일을 맞추기 못해서 발생한 현상\n",
    "# - 예측데이터 한개도 스케일 작업을 해줘야 합니다\n",
    "# - 한개의 예측데이터 스케일 작업은 훈련데이터를 사용하여 계산된 평균과 표준편차값을 사용해야 합니다"
   ]
  },
  {
   "cell_type": "code",
   "execution_count": 86,
   "id": "f9d1a248",
   "metadata": {},
   "outputs": [
    {
     "data": {
      "text/plain": [
       "array([-0.23012627, -0.94060693])"
      ]
     },
     "execution_count": 86,
     "metadata": {},
     "output_type": "execute_result"
    }
   ],
   "source": [
    "# 예측데이터 스케일 작업하기\n",
    "new = ([25,150] - mean)/std\n",
    "new"
   ]
  },
  {
   "cell_type": "code",
   "execution_count": 88,
   "id": "482fd0d7",
   "metadata": {},
   "outputs": [
    {
     "data": {
      "image/png": "[encoded data removed]",
      "text/plain": [
       "<Figure size 432x288 with 1 Axes>"
      ]
     },
     "metadata": {
      "needs_background": "light"
     },
     "output_type": "display_data"
    }
   ],
   "source": [
    "plt.scatter(train_scaled[:,0],train_scaled[:,1])\n",
    "plt.scatter(new[0],new[1],marker='^')\n",
    "plt.xlabel('length')\n",
    "plt.ylabel('weight')\n",
    "plt.show()"
   ]
  },
  {
   "cell_type": "markdown",
   "id": "d53599bf",
   "metadata": {},
   "source": [
    "### [문제]\n",
    "- 직접훈련 > 검증 > 테스트 > 산점도 그리기 (이웃까지 모두 포함)"
   ]
  },
  {
   "cell_type": "code",
   "execution_count": 96,
   "id": "01917238",
   "metadata": {
    "collapsed": true
   },
   "outputs": [
    {
     "name": "stderr",
     "output_type": "stream",
     "text": [
      "C:\\Users\\82102\\ml\\lib\\site-packages\\sklearn\\neighbors\\_classification.py:237: FutureWarning: Unlike other reduction functions (e.g. `skew`, `kurtosis`), the default behavior of `mode` typically preserves the axis it acts along. In SciPy 1.11.0, this behavior will change: the default value of `keepdims` will become False, the `axis` over which the statistic is taken will be eliminated, and the value None will no longer be accepted. Set `keepdims` to True or False to avoid this warning.\n",
      "  mode, _ = stats.mode(_y[neigh_ind, k], axis=1)\n"
     ]
    },
    {
     "data": {
      "text/plain": [
       "array([1.])"
      ]
     },
     "execution_count": 96,
     "metadata": {},
     "output_type": "execute_result"
    }
   ],
   "source": [
    "# 모델 객체 생성 \n",
    "kn_new = KNeighborsClassifier()\n",
    "\n",
    "# fit(train_input, train_target) : 훈련\n",
    "kn_new.fit(train_scaled, train_target)"
   ]
  },
  {
   "cell_type": "code",
   "execution_count": 101,
   "id": "b374053e",
   "metadata": {
    "collapsed": true
   },
   "outputs": [
    {
     "data": {
      "text/plain": [
       "array([[-1.63258863, -1.37457062],\n",
       "       [-1.55244793, -1.37395199],\n",
       "       [ 0.24070039, -0.01267317],\n",
       "       [-1.55244793, -1.37364268],\n",
       "       [-0.07986244, -0.35291555],\n",
       "       [-1.4923424 , -1.3631261 ],\n",
       "       [ 0.67145669,  0.71420828],\n",
       "       [ 0.67145669,  0.3739659 ],\n",
       "       [ 1.12224816,  1.44108972],\n",
       "       [ 0.77163257,  0.69874271],\n",
       "       [-0.09989762, -0.50757117],\n",
       "       [ 0.37092904,  0.14198246],\n",
       "       [ 1.37268787,  1.5338831 ]])"
      ]
     },
     "execution_count": 101,
     "metadata": {},
     "output_type": "execute_result"
    }
   ],
   "source": [
    "# 테스트 데이터 스케일 동일하게 처리 \n",
    "test_scaled = (test_input - mean)/std\n",
    "test_scaled"
   ]
  },
  {
   "cell_type": "code",
   "execution_count": 102,
   "id": "e26429ac",
   "metadata": {
    "collapsed": true
   },
   "outputs": [
    {
     "name": "stderr",
     "output_type": "stream",
     "text": [
      "C:\\Users\\82102\\ml\\lib\\site-packages\\sklearn\\neighbors\\_classification.py:237: FutureWarning: Unlike other reduction functions (e.g. `skew`, `kurtosis`), the default behavior of `mode` typically preserves the axis it acts along. In SciPy 1.11.0, this behavior will change: the default value of `keepdims` will become False, the `axis` over which the statistic is taken will be eliminated, and the value None will no longer be accepted. Set `keepdims` to True or False to avoid this warning.\n",
      "  mode, _ = stats.mode(_y[neigh_ind, k], axis=1)\n"
     ]
    },
    {
     "data": {
      "text/plain": [
       "1.0"
      ]
     },
     "execution_count": 102,
     "metadata": {},
     "output_type": "execute_result"
    }
   ],
   "source": [
    "# score(test_input, test_target) : 테스트\n",
    "kn_new.score(test_scaled, test_target)"
   ]
  },
  {
   "cell_type": "code",
   "execution_count": 103,
   "id": "3cac016c",
   "metadata": {
    "collapsed": true
   },
   "outputs": [
    {
     "name": "stderr",
     "output_type": "stream",
     "text": [
      "C:\\Users\\82102\\ml\\lib\\site-packages\\sklearn\\neighbors\\_classification.py:237: FutureWarning: Unlike other reduction functions (e.g. `skew`, `kurtosis`), the default behavior of `mode` typically preserves the axis it acts along. In SciPy 1.11.0, this behavior will change: the default value of `keepdims` will become False, the `axis` over which the statistic is taken will be eliminated, and the value None will no longer be accepted. Set `keepdims` to True or False to avoid this warning.\n",
      "  mode, _ = stats.mode(_y[neigh_ind, k], axis=1)\n",
      "C:\\Users\\82102\\ml\\lib\\site-packages\\sklearn\\neighbors\\_classification.py:237: FutureWarning: Unlike other reduction functions (e.g. `skew`, `kurtosis`), the default behavior of `mode` typically preserves the axis it acts along. In SciPy 1.11.0, this behavior will change: the default value of `keepdims` will become False, the `axis` over which the statistic is taken will be eliminated, and the value None will no longer be accepted. Set `keepdims` to True or False to avoid this warning.\n",
      "  mode, _ = stats.mode(_y[neigh_ind, k], axis=1)\n"
     ]
    },
    {
     "data": {
      "text/plain": [
       "array([1.])"
      ]
     },
     "execution_count": 103,
     "metadata": {},
     "output_type": "execute_result"
    }
   ],
   "source": [
    "# 두개 동일 \n",
    "kn_new.predict([[new[0],new[1]]])\n",
    "kn_new.predict([new])"
   ]
  },
  {
   "cell_type": "code",
   "execution_count": 97,
   "id": "7c4a16f3",
   "metadata": {},
   "outputs": [
    {
     "name": "stdout",
     "output_type": "stream",
     "text": [
      "[[0.2873737  0.7711188  0.89552179 0.91493515 0.95427626]] [[21 14 34 32  5]]\n"
     ]
    }
   ],
   "source": [
    "distances, indexes = kn_new.kneighbors([[new[0],new[1]]])\n",
    "distances, indexes = kn_new.kneighbors([new])\n",
    "print(distances, indexes)"
   ]
  },
  {
   "cell_type": "code",
   "execution_count": 99,
   "id": "68fe4847",
   "metadata": {},
   "outputs": [
    {
     "data": {
      "text/plain": [
       "Text(0, 0.5, 'weight')"
      ]
     },
     "execution_count": 99,
     "metadata": {},
     "output_type": "execute_result"
    },
    {
     "data": {
      "image/png": "[encoded data removed]",
      "text/plain": [
       "<Figure size 432x288 with 1 Axes>"
      ]
     },
     "metadata": {
      "needs_background": "light"
     },
     "output_type": "display_data"
    }
   ],
   "source": [
    "plt.scatter(train_scaled[:,0], train_scaled[:,1], c='orange')\n",
    "plt.scatter(new[0],new[1],marker = '^')\n",
    "plt.scatter(train_scaled[indexes,0],train_scaled[indexes,1], marker = 'D',c='red')\n",
    "plt.xlabel('lengh')\n",
    "plt.ylabel('weight')\n"
   ]
  }
 ],
 "metadata": {
  "kernelspec": {
   "display_name": "ml_kernel",
   "language": "python",
   "name": "ml"
  },
  "language_info": {
   "codemirror_mode": {
    "name": "ipython",
    "version": 3
   },
   "file_extension": ".py",
   "mimetype": "text/x-python",
   "name": "python",
   "nbconvert_exporter": "python",
   "pygments_lexer": "ipython3",
   "version": "3.9.12"
  }
 },
 "nbformat": 4,
 "nbformat_minor": 5
}
