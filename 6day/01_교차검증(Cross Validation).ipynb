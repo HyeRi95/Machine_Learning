{
 "cells": [
  {
   "cell_type": "code",
   "execution_count": 1,
   "id": "4297a222",
   "metadata": {},
   "outputs": [
    {
     "data": {
      "text/html": [
       "<div>\n",
       "<style scoped>\n",
       "    .dataframe tbody tr th:only-of-type {\n",
       "        vertical-align: middle;\n",
       "    }\n",
       "\n",
       "    .dataframe tbody tr th {\n",
       "        vertical-align: top;\n",
       "    }\n",
       "\n",
       "    .dataframe thead th {\n",
       "        text-align: right;\n",
       "    }\n",
       "</style>\n",
       "<table border=\"1\" class=\"dataframe\">\n",
       "  <thead>\n",
       "    <tr style=\"text-align: right;\">\n",
       "      <th></th>\n",
       "      <th>alcohol</th>\n",
       "      <th>sugar</th>\n",
       "      <th>pH</th>\n",
       "      <th>class</th>\n",
       "    </tr>\n",
       "  </thead>\n",
       "  <tbody>\n",
       "    <tr>\n",
       "      <th>0</th>\n",
       "      <td>9.4</td>\n",
       "      <td>1.9</td>\n",
       "      <td>3.51</td>\n",
       "      <td>0.0</td>\n",
       "    </tr>\n",
       "    <tr>\n",
       "      <th>1</th>\n",
       "      <td>9.8</td>\n",
       "      <td>2.6</td>\n",
       "      <td>3.20</td>\n",
       "      <td>0.0</td>\n",
       "    </tr>\n",
       "    <tr>\n",
       "      <th>2</th>\n",
       "      <td>9.8</td>\n",
       "      <td>2.3</td>\n",
       "      <td>3.26</td>\n",
       "      <td>0.0</td>\n",
       "    </tr>\n",
       "    <tr>\n",
       "      <th>3</th>\n",
       "      <td>9.8</td>\n",
       "      <td>1.9</td>\n",
       "      <td>3.16</td>\n",
       "      <td>0.0</td>\n",
       "    </tr>\n",
       "    <tr>\n",
       "      <th>4</th>\n",
       "      <td>9.4</td>\n",
       "      <td>1.9</td>\n",
       "      <td>3.51</td>\n",
       "      <td>0.0</td>\n",
       "    </tr>\n",
       "  </tbody>\n",
       "</table>\n",
       "</div>"
      ],
      "text/plain": [
       "   alcohol  sugar    pH  class\n",
       "0      9.4    1.9  3.51    0.0\n",
       "1      9.8    2.6  3.20    0.0\n",
       "2      9.8    2.3  3.26    0.0\n",
       "3      9.8    1.9  3.16    0.0\n",
       "4      9.4    1.9  3.51    0.0"
      ]
     },
     "execution_count": 1,
     "metadata": {},
     "output_type": "execute_result"
    }
   ],
   "source": [
    "### 08_wine.csv 파일 불러들이고 출력\n",
    "import pandas as pd \n",
    "import numpy as np\n",
    "wine = pd.read_csv('./data/08_wine.csv')\n",
    "wine.head()"
   ]
  },
  {
   "cell_type": "code",
   "execution_count": 5,
   "id": "94a9242a",
   "metadata": {},
   "outputs": [
    {
     "name": "stdout",
     "output_type": "stream",
     "text": [
      "(6497, 3) (6497,)\n"
     ]
    }
   ],
   "source": [
    "data = wine[['alcohol','sugar','pH']].to_numpy()\n",
    "target = wine['class'].to_numpy()\n",
    "print(data.shape,target.shape)"
   ]
  },
  {
   "cell_type": "markdown",
   "id": "524bb1a2",
   "metadata": {},
   "source": [
    "## 교차검증 : train_test_split() 방식 \n",
    "####  훈련데이터:검증데이터:테스트 데이터 =  6:2:2\n",
    "#### 보통 많이 사용하는 방식 "
   ]
  },
  {
   "cell_type": "code",
   "execution_count": 10,
   "id": "2d7c5474",
   "metadata": {},
   "outputs": [
    {
     "name": "stdout",
     "output_type": "stream",
     "text": [
      "(5197, 3) (5197,)\n",
      "(1300, 3) (1300,)\n"
     ]
    }
   ],
   "source": [
    "# 훈련데이터와 테스트데이터를 8:2로 쪼개기 \n",
    "from sklearn.model_selection import train_test_split\n",
    "train_input, test_input, train_target,test_target = train_test_split(data,target,test_size=0.2,random_state=42)\n",
    "print(train_input.shape,train_target.shape)\n",
    "print(test_input.shape,test_target.shape)\n"
   ]
  },
  {
   "cell_type": "code",
   "execution_count": 11,
   "id": "702f959e",
   "metadata": {},
   "outputs": [
    {
     "name": "stdout",
     "output_type": "stream",
     "text": [
      "(4157, 3) (4157,)\n",
      "(1040, 3) (1040,)\n"
     ]
    }
   ],
   "source": [
    "### 2. 훈련데이터를 이용해서 검증데이터 생성하기\n",
    "sub_input, val_input, sub_target,val_target = train_test_split(train_input,train_target,test_size=0.2,random_state=42)\n",
    "print(sub_input.shape,sub_target.shape)\n",
    "print(val_input.shape,val_target.shape)"
   ]
  },
  {
   "cell_type": "markdown",
   "id": "e26881d5",
   "metadata": {},
   "source": [
    "### 결정트리"
   ]
  },
  {
   "cell_type": "code",
   "execution_count": 14,
   "id": "599d8f9e",
   "metadata": {},
   "outputs": [
    {
     "name": "stdout",
     "output_type": "stream",
     "text": [
      "0.9971133028626413\n",
      "0.864423076923077\n"
     ]
    }
   ],
   "source": [
    "from sklearn.tree import DecisionTreeClassifier\n",
    "dtc = DecisionTreeClassifier(random_state=42) # 괄호안에 넣는 값 사람이 지정 : 하이퍼파라미터, 정확도 높이기 위해 찾아내야한다 \n",
    "dtc.fit(sub_input, sub_target)\n",
    "print(dtc.score(sub_input, sub_target))\n",
    "print(dtc.score(val_input,val_target))"
   ]
  },
  {
   "cell_type": "code",
   "execution_count": 15,
   "id": "792672e9",
   "metadata": {},
   "outputs": [
    {
     "data": {
      "text/plain": [
       "0.8569230769230769"
      ]
     },
     "execution_count": 15,
     "metadata": {},
     "output_type": "execute_result"
    }
   ],
   "source": [
    "# 과대적합 \n",
    "# 훈련데이터 정확도 > 테스트 데이터 정확도 \n",
    "dtc.score(test_input,test_target)"
   ]
  },
  {
   "cell_type": "markdown",
   "id": "87b80e93",
   "metadata": {},
   "source": [
    "## 교차 검증 시작 "
   ]
  },
  {
   "cell_type": "markdown",
   "id": "c2f1801a",
   "metadata": {},
   "source": [
    "#### - 훈련데이터와 검증데이터를 구분할 필요없이 내부적으로 구분해서 사용\n",
    "#### - 내부적으로 구분에 사용하는 데이터는 훈련(train)데이터\n",
    "#### - 데이터 준비는 기존처럼 훈련과 테스트 데이터만 준비\n",
    "#### - 검증데이터는 별도로 준비안해도 됨"
   ]
  },
  {
   "cell_type": "markdown",
   "id": "0cc5704b",
   "metadata": {},
   "source": [
    "### 교차검증에 사용되는 주요키워드\n",
    "#### 3-폴드(fold) 교차검증\n",
    "#### : 훈련데이터를 세부분으로 나눠서 데이터를 쪼개고 수행\n",
    "#### : 구간마다 훈련데이터를 검증데이터로 바꿔가면서 수행\n",
    "#### : k-폴드 교차검증 또는 k-겹 교차검증이라고도 함\n",
    "\n",
    "#### * 보통 5-폴드 교차검증 또는 10-폴드 교차검증을 사용\n",
    "#### : 훈련데이터로 80% 이상을 모두 모델 훈련에 사용 가능 "
   ]
  },
  {
   "cell_type": "code",
   "execution_count": 16,
   "id": "37d79f4e",
   "metadata": {},
   "outputs": [
    {
     "name": "stdout",
     "output_type": "stream",
     "text": [
      "(5197, 3) (5197,)\n",
      "(1300, 3) (1300,)\n"
     ]
    }
   ],
   "source": [
    "### 사용하는 데이터 다시확인\n",
    "# test 데이터는 마지막에 한번 사용 \n",
    "print(train_input.shape, train_target.shape)\n",
    "print(test_input.shape, test_target.shape)"
   ]
  },
  {
   "cell_type": "code",
   "execution_count": 37,
   "id": "67869faf",
   "metadata": {},
   "outputs": [
    {
     "name": "stdout",
     "output_type": "stream",
     "text": [
      "{'fit_time': array([0.01296473, 0.01296544, 0.01296806, 0.01265216, 0.01196742]), 'score_time': array([0.0010004 , 0.00116301, 0.00199318, 0.00099874, 0.0009973 ]), 'test_score': array([0.86923077, 0.84615385, 0.87680462, 0.84889317, 0.83541867])}\n",
      "최종:  0.855300214703487\n",
      "0.855300214703487\n"
     ]
    }
   ],
   "source": [
    "### 교차검증 모듈 : cross_validate\n",
    "from sklearn.model_selection import cross_validate\n",
    "\n",
    "# dtc : 결정트리 훈련모델(다른모델을 사용한 경우 해당모델 적어주면된다)\n",
    "# 두번째값 : 훈련데이터(fold에서 훈련데이터 쪼갤때 사용)\n",
    "# 세번째값 : 검증데이터(fold에서 검증데이터 쪼갤때 사용)\n",
    "scores = cross_validate(dtc,train_input,train_target)\n",
    "print(scores)\n",
    "# 기본값은 5폴드\n",
    "# test_score : 각 겹의 평균값\n",
    "\n",
    "## 딕셔너리의 test_score의 평균값이 최종 훈려모델의 평가점수(정확도)\n",
    "\n",
    "# 최종 훈련모델의 성능\n",
    "scores['test_score'].mean()\n",
    "\n",
    "# 강사님 코딩\n",
    "print('최종: ' ,np.mean(scores['test_score']))\n",
    "\n",
    "# 다른방법\n",
    "sum=0\n",
    "for i in range (0,5,1) :\n",
    "    sum = scores['test_score'][i]+sum\n",
    "    \n",
    "print(sum/5)    "
   ]
  },
  {
   "cell_type": "code",
   "execution_count": 46,
   "id": "d401d330",
   "metadata": {},
   "outputs": [
    {
     "name": "stdout",
     "output_type": "stream",
     "text": [
      "{'fit_time': array([0.01343155, 0.0132575 , 0.01296687, 0.01298308, 0.01197052]), 'score_time': array([0.00080609, 0.00070047, 0.00099778, 0.00099444, 0.00101447]), 'test_score': array([0.86923077, 0.84615385, 0.87680462, 0.84889317, 0.83541867])}\n",
      "최종 :  0.855300214703487\n"
     ]
    }
   ],
   "source": [
    "### 훈련데이터를 섞거나, 폴드의 갯수를 지정할 수 있는 클래스\n",
    "# - StratifiedKFold\n",
    "from sklearn.model_selection import StratifiedKFold\n",
    "\n",
    "# 교차검증 함수 그대로 사용\n",
    "# cv : 분할기 속성\n",
    "#    : 분할기로 StratifiedKFold 클래스 사용\n",
    "#    : 속성값이 없을 경우 기본 fold 는 5, 기본 섞지는 않음 \n",
    "scores = cross_validate(dtc,train_input, train_target, cv=StratifiedKFold())\n",
    "\n",
    "print(scores)\n",
    "print('최종 : ',np.mean(scores['test_score']))"
   ]
  },
  {
   "cell_type": "code",
   "execution_count": 51,
   "id": "562b503b",
   "metadata": {},
   "outputs": [
    {
     "name": "stdout",
     "output_type": "stream",
     "text": [
      "{'fit_time': array([0.00800467, 0.00759912, 0.00697494, 0.00691724, 0.00699687,\n",
      "       0.00632095, 0.00601888, 0.00598407, 0.00504756, 0.        ,\n",
      "       0.        , 0.01869774, 0.        , 0.        , 0.01784348,\n",
      "       0.        , 0.        , 0.01666355, 0.        , 0.01015186]), 'score_time': array([0.        , 0.00100374, 0.        , 0.        , 0.        ,\n",
      "       0.        , 0.        , 0.        , 0.        , 0.        ,\n",
      "       0.        , 0.        , 0.        , 0.        , 0.        ,\n",
      "       0.        , 0.        , 0.        , 0.        , 0.        ]), 'test_score': array([0.85384615, 0.85384615, 0.88461538, 0.86923077, 0.84230769,\n",
      "       0.86538462, 0.87307692, 0.85384615, 0.83461538, 0.84615385,\n",
      "       0.87307692, 0.86923077, 0.85      , 0.86538462, 0.86153846,\n",
      "       0.86538462, 0.84615385, 0.83783784, 0.8996139 , 0.86100386])}\n",
      "최종 :  0.8603073953073954\n"
     ]
    }
   ],
   "source": [
    "# n_splits : fold 갯수 shuffle : 섞기\n",
    "splitter = StratifiedKFold(n_splits=20, shuffle = True,random_state=42)\n",
    "scores = cross_validate(dtc,train_input, train_target, cv=splitter)\n",
    "\n",
    "print(scores)\n",
    "print('최종 : ',np.mean(scores['test_score']))"
   ]
  },
  {
   "cell_type": "markdown",
   "id": "ddd5b349",
   "metadata": {},
   "source": [
    "## 하이퍼파라미터 튜닝(AutoML)"
   ]
  },
  {
   "cell_type": "markdown",
   "id": "78047451",
   "metadata": {},
   "source": [
    "### 교차검증, 하이퍼파라미터 찾기, 모델훈련을 한번에 자동으로 수행\n",
    "#### - 이런 개념을 AutoML이라고 합니다\n",
    "#### - 사용패키지 : sklearn.model_selection\n",
    "#### - 사용 클래스 : GridSearchCV\n",
    "#### - 그리드 서치 라고도 합니다 "
   ]
  },
  {
   "cell_type": "markdown",
   "id": "b0eb55d3",
   "metadata": {},
   "source": [
    "## 결정트리의 max_depth(트리의 깊이) 값 찾기\n",
    "#### - 그리드서치(GridSearchCV) 객체(모델) 사용\n"
   ]
  },
  {
   "cell_type": "code",
   "execution_count": 56,
   "id": "669cde4e",
   "metadata": {},
   "outputs": [
    {
     "data": {
      "text/html": [
       "<style>#sk-container-id-1 {color: black;background-color: white;}#sk-container-id-1 pre{padding: 0;}#sk-container-id-1 div.sk-toggleable {background-color: white;}#sk-container-id-1 label.sk-toggleable__label {cursor: pointer;display: block;width: 100%;margin-bottom: 0;padding: 0.3em;box-sizing: border-box;text-align: center;}#sk-container-id-1 label.sk-toggleable__label-arrow:before {content: \"▸\";float: left;margin-right: 0.25em;color: #696969;}#sk-container-id-1 label.sk-toggleable__label-arrow:hover:before {color: black;}#sk-container-id-1 div.sk-estimator:hover label.sk-toggleable__label-arrow:before {color: black;}#sk-container-id-1 div.sk-toggleable__content {max-height: 0;max-width: 0;overflow: hidden;text-align: left;background-color: #f0f8ff;}#sk-container-id-1 div.sk-toggleable__content pre {margin: 0.2em;color: black;border-radius: 0.25em;background-color: #f0f8ff;}#sk-container-id-1 input.sk-toggleable__control:checked~div.sk-toggleable__content {max-height: 200px;max-width: 100%;overflow: auto;}#sk-container-id-1 input.sk-toggleable__control:checked~label.sk-toggleable__label-arrow:before {content: \"▾\";}#sk-container-id-1 div.sk-estimator input.sk-toggleable__control:checked~label.sk-toggleable__label {background-color: #d4ebff;}#sk-container-id-1 div.sk-label input.sk-toggleable__control:checked~label.sk-toggleable__label {background-color: #d4ebff;}#sk-container-id-1 input.sk-hidden--visually {border: 0;clip: rect(1px 1px 1px 1px);clip: rect(1px, 1px, 1px, 1px);height: 1px;margin: -1px;overflow: hidden;padding: 0;position: absolute;width: 1px;}#sk-container-id-1 div.sk-estimator {font-family: monospace;background-color: #f0f8ff;border: 1px dotted black;border-radius: 0.25em;box-sizing: border-box;margin-bottom: 0.5em;}#sk-container-id-1 div.sk-estimator:hover {background-color: #d4ebff;}#sk-container-id-1 div.sk-parallel-item::after {content: \"\";width: 100%;border-bottom: 1px solid gray;flex-grow: 1;}#sk-container-id-1 div.sk-label:hover label.sk-toggleable__label {background-color: #d4ebff;}#sk-container-id-1 div.sk-serial::before {content: \"\";position: absolute;border-left: 1px solid gray;box-sizing: border-box;top: 0;bottom: 0;left: 50%;z-index: 0;}#sk-container-id-1 div.sk-serial {display: flex;flex-direction: column;align-items: center;background-color: white;padding-right: 0.2em;padding-left: 0.2em;position: relative;}#sk-container-id-1 div.sk-item {position: relative;z-index: 1;}#sk-container-id-1 div.sk-parallel {display: flex;align-items: stretch;justify-content: center;background-color: white;position: relative;}#sk-container-id-1 div.sk-item::before, #sk-container-id-1 div.sk-parallel-item::before {content: \"\";position: absolute;border-left: 1px solid gray;box-sizing: border-box;top: 0;bottom: 0;left: 50%;z-index: -1;}#sk-container-id-1 div.sk-parallel-item {display: flex;flex-direction: column;z-index: 1;position: relative;background-color: white;}#sk-container-id-1 div.sk-parallel-item:first-child::after {align-self: flex-end;width: 50%;}#sk-container-id-1 div.sk-parallel-item:last-child::after {align-self: flex-start;width: 50%;}#sk-container-id-1 div.sk-parallel-item:only-child::after {width: 0;}#sk-container-id-1 div.sk-dashed-wrapped {border: 1px dashed gray;margin: 0 0.4em 0.5em 0.4em;box-sizing: border-box;padding-bottom: 0.4em;background-color: white;}#sk-container-id-1 div.sk-label label {font-family: monospace;font-weight: bold;display: inline-block;line-height: 1.2em;}#sk-container-id-1 div.sk-label-container {text-align: center;}#sk-container-id-1 div.sk-container {/* jupyter's `normalize.less` sets `[hidden] { display: none; }` but bootstrap.min.css set `[hidden] { display: none !important; }` so we also need the `!important` here to be able to override the default hidden behavior on the sphinx rendered scikit-learn.org. See: https://github.com/scikit-learn/scikit-learn/issues/21755 */display: inline-block !important;position: relative;}#sk-container-id-1 div.sk-text-repr-fallback {display: none;}</style><div id=\"sk-container-id-1\" class=\"sk-top-container\"><div class=\"sk-text-repr-fallback\"><pre>GridSearchCV(estimator=DecisionTreeClassifier(random_state=42), n_jobs=-1,\n",
       "             param_grid={&#x27;max_depth&#x27;: range(5, 20)})</pre><b>In a Jupyter environment, please rerun this cell to show the HTML representation or trust the notebook. <br />On GitHub, the HTML representation is unable to render, please try loading this page with nbviewer.org.</b></div><div class=\"sk-container\" hidden><div class=\"sk-item sk-dashed-wrapped\"><div class=\"sk-label-container\"><div class=\"sk-label sk-toggleable\"><input class=\"sk-toggleable__control sk-hidden--visually\" id=\"sk-estimator-id-1\" type=\"checkbox\" ><label for=\"sk-estimator-id-1\" class=\"sk-toggleable__label sk-toggleable__label-arrow\">GridSearchCV</label><div class=\"sk-toggleable__content\"><pre>GridSearchCV(estimator=DecisionTreeClassifier(random_state=42), n_jobs=-1,\n",
       "             param_grid={&#x27;max_depth&#x27;: range(5, 20)})</pre></div></div></div><div class=\"sk-parallel\"><div class=\"sk-parallel-item\"><div class=\"sk-item\"><div class=\"sk-label-container\"><div class=\"sk-label sk-toggleable\"><input class=\"sk-toggleable__control sk-hidden--visually\" id=\"sk-estimator-id-2\" type=\"checkbox\" ><label for=\"sk-estimator-id-2\" class=\"sk-toggleable__label sk-toggleable__label-arrow\">estimator: DecisionTreeClassifier</label><div class=\"sk-toggleable__content\"><pre>DecisionTreeClassifier(random_state=42)</pre></div></div></div><div class=\"sk-serial\"><div class=\"sk-item\"><div class=\"sk-estimator sk-toggleable\"><input class=\"sk-toggleable__control sk-hidden--visually\" id=\"sk-estimator-id-3\" type=\"checkbox\" ><label for=\"sk-estimator-id-3\" class=\"sk-toggleable__label sk-toggleable__label-arrow\">DecisionTreeClassifier</label><div class=\"sk-toggleable__content\"><pre>DecisionTreeClassifier(random_state=42)</pre></div></div></div></div></div></div></div></div></div></div>"
      ],
      "text/plain": [
       "GridSearchCV(estimator=DecisionTreeClassifier(random_state=42), n_jobs=-1,\n",
       "             param_grid={'max_depth': range(5, 20)})"
      ]
     },
     "execution_count": 56,
     "metadata": {},
     "output_type": "execute_result"
    }
   ],
   "source": [
    "from sklearn.model_selection import GridSearchCV \n",
    "\n",
    "\n",
    "# 찾을 하이퍼파라미터는 딕셔너리로\n",
    "# 실제 파라미터 변수이름 그대로 찾을 범위 지정\n",
    "params = {'max_depth' : range(5,20,1)}\n",
    "\n",
    "\n",
    "#객체(모델)생성\n",
    "# - 첫번째 값: 훈련모델 넣기\n",
    "# - 두번째 값 : 찾을 하이퍼파라미터 값들(딕셔너리로 정의)\n",
    "# - 세번째 값 : CPU코어 갯수(-1은 모든 코어 사용, 병렬처리)\n",
    "\n",
    "gs = GridSearchCV(DecisionTreeClassifier(random_state=42),params, n_jobs=-1)\n",
    "\n",
    "# 훈련시키기\n",
    "gs.fit(train_input, train_target)"
   ]
  },
  {
   "cell_type": "code",
   "execution_count": 58,
   "id": "1af37a37",
   "metadata": {},
   "outputs": [
    {
     "name": "stdout",
     "output_type": "stream",
     "text": [
      "DecisionTreeClassifier(max_depth=8, random_state=42)\n"
     ]
    }
   ],
   "source": [
    "#  그리드서치의 결과\n",
    "# - 하이퍼파라미터의 찾은 값 알려줌\n",
    "# - 중요 : 훈련모델이 생성되어 반환됨 \n",
    "print(gs.best_estimator_)"
   ]
  },
  {
   "cell_type": "code",
   "execution_count": 61,
   "id": "baa5e490",
   "metadata": {},
   "outputs": [
    {
     "name": "stdout",
     "output_type": "stream",
     "text": [
      "0.9003271117952665\n"
     ]
    }
   ],
   "source": [
    "# 그리드서치를 통해 생성된 훈련모델을 통해 평가하기 , 훈련데이터 전체 사용 \n",
    "dtc = gs.best_estimator_\n",
    "print(dtc.score(train_input,train_target))"
   ]
  },
  {
   "cell_type": "code",
   "execution_count": 62,
   "id": "ec07c09a",
   "metadata": {
    "scrolled": true
   },
   "outputs": [
    {
     "name": "stdout",
     "output_type": "stream",
     "text": [
      "{'max_depth': 8}\n"
     ]
    }
   ],
   "source": [
    "print(gs.best_params_)"
   ]
  },
  {
   "cell_type": "code",
   "execution_count": 65,
   "id": "7b03b939",
   "metadata": {
    "collapsed": true
   },
   "outputs": [
    {
     "name": "stdout",
     "output_type": "stream",
     "text": [
      "{'mean_fit_time': array([0.00707402, 0.0072783 , 0.0101254 , 0.00762482, 0.00825768,\n",
      "       0.00990772, 0.0075491 , 0.0073916 , 0.00698133, 0.00767112,\n",
      "       0.00757985, 0.00738029, 0.00826235, 0.00786171, 0.00718026]), 'std_fit_time': array([0.00115871, 0.00119593, 0.00270525, 0.00079209, 0.00171705,\n",
      "       0.00453835, 0.00078498, 0.00049153, 0.00063068, 0.0004164 ,\n",
      "       0.00048788, 0.00048877, 0.00141276, 0.00074612, 0.00074641]), 'mean_score_time': array([0.00094857, 0.00021181, 0.00065942, 0.00090961, 0.00090041,\n",
      "       0.00080395, 0.00099735, 0.00039296, 0.00059848, 0.00058208,\n",
      "       0.00099669, 0.00059862, 0.00053148, 0.00090904, 0.00059834]), 'std_score_time': array([2.88041678e-04, 4.23622131e-04, 3.74074037e-04, 1.75858126e-04,\n",
      "       4.91923955e-04, 4.13257162e-04, 3.81469727e-07, 4.81366920e-04,\n",
      "       4.88655740e-04, 5.01716937e-04, 1.51240840e-06, 4.88772355e-04,\n",
      "       4.51424420e-04, 5.02897240e-04, 4.88538707e-04]), 'param_max_depth': masked_array(data=[5, 6, 7, 8, 9, 10, 11, 12, 13, 14, 15, 16, 17, 18, 19],\n",
      "             mask=[False, False, False, False, False, False, False, False,\n",
      "                   False, False, False, False, False, False, False],\n",
      "       fill_value='?',\n",
      "            dtype=object), 'params': [{'max_depth': 5}, {'max_depth': 6}, {'max_depth': 7}, {'max_depth': 8}, {'max_depth': 9}, {'max_depth': 10}, {'max_depth': 11}, {'max_depth': 12}, {'max_depth': 13}, {'max_depth': 14}, {'max_depth': 15}, {'max_depth': 16}, {'max_depth': 17}, {'max_depth': 18}, {'max_depth': 19}], 'split0_test_score': array([0.84711538, 0.84807692, 0.85769231, 0.85288462, 0.85769231,\n",
      "       0.84519231, 0.85865385, 0.86730769, 0.86538462, 0.86826923,\n",
      "       0.86730769, 0.86442308, 0.86346154, 0.86634615, 0.87211538]), 'split1_test_score': array([0.86346154, 0.85480769, 0.85192308, 0.85480769, 0.85961538,\n",
      "       0.84711538, 0.85096154, 0.84807692, 0.85384615, 0.85192308,\n",
      "       0.85384615, 0.84903846, 0.85      , 0.85384615, 0.85673077]), 'split2_test_score': array([0.88065448, 0.87391723, 0.87584216, 0.87872955, 0.87102984,\n",
      "       0.87680462, 0.88065448, 0.8825794 , 0.87391723, 0.87006737,\n",
      "       0.86814244, 0.87680462, 0.8719923 , 0.87391723, 0.87872955]), 'split3_test_score': array([0.83638114, 0.84311838, 0.84311838, 0.84696824, 0.84215592,\n",
      "       0.84696824, 0.85274302, 0.84889317, 0.85370549, 0.85851781,\n",
      "       0.85466795, 0.85948027, 0.85274302, 0.85659288, 0.84985563]), 'split4_test_score': array([0.8614052 , 0.85948027, 0.8479307 , 0.86525505, 0.85466795,\n",
      "       0.85274302, 0.84889317, 0.84889317, 0.83926853, 0.84119346,\n",
      "       0.8373436 , 0.83830606, 0.83926853, 0.83830606, 0.8373436 ]), 'mean_test_score': array([0.85780355, 0.8558801 , 0.85530133, 0.85972903, 0.85703228,\n",
      "       0.85376471, 0.85838121, 0.85915007, 0.8572244 , 0.85799419,\n",
      "       0.85626157, 0.8576105 , 0.85549308, 0.8578017 , 0.85895499]), 'std_test_score': array([0.0151017 , 0.0106132 , 0.01132965, 0.01118445, 0.00927293,\n",
      "       0.01179638, 0.01160204, 0.01377319, 0.01175966, 0.01068396,\n",
      "       0.01121994, 0.01314886, 0.01128444, 0.01208226, 0.01496013]), 'rank_test_score': array([ 6, 12, 14,  1, 10, 15,  4,  2,  9,  5, 11,  8, 13,  7,  3])}\n"
     ]
    }
   ],
   "source": [
    "print(gs.cv_results_)"
   ]
  },
  {
   "cell_type": "code",
   "execution_count": 72,
   "id": "ef42e392",
   "metadata": {},
   "outputs": [
    {
     "name": "stdout",
     "output_type": "stream",
     "text": [
      "dict_keys(['mean_fit_time', 'std_fit_time', 'mean_score_time', 'std_score_time', 'param_max_depth', 'params', 'split0_test_score', 'split1_test_score', 'split2_test_score', 'split3_test_score', 'split4_test_score', 'mean_test_score', 'std_test_score', 'rank_test_score'])\n"
     ]
    }
   ],
   "source": [
    "print(gs.cv_results_.keys())"
   ]
  },
  {
   "cell_type": "code",
   "execution_count": 73,
   "id": "ea9261b7",
   "metadata": {},
   "outputs": [
    {
     "name": "stdout",
     "output_type": "stream",
     "text": [
      "[{'max_depth': 5}, {'max_depth': 6}, {'max_depth': 7}, {'max_depth': 8}, {'max_depth': 9}, {'max_depth': 10}, {'max_depth': 11}, {'max_depth': 12}, {'max_depth': 13}, {'max_depth': 14}, {'max_depth': 15}, {'max_depth': 16}, {'max_depth': 17}, {'max_depth': 18}, {'max_depth': 19}]\n"
     ]
    }
   ],
   "source": [
    "### params 값 확인하기\n",
    "print(gs.cv_results_['params'])"
   ]
  },
  {
   "cell_type": "code",
   "execution_count": 74,
   "id": "eca4aefd",
   "metadata": {},
   "outputs": [
    {
     "name": "stdout",
     "output_type": "stream",
     "text": [
      "[0.84711538 0.84807692 0.85769231 0.85288462 0.85769231 0.84519231\n",
      " 0.85865385 0.86730769 0.86538462 0.86826923 0.86730769 0.86442308\n",
      " 0.86346154 0.86634615 0.87211538]\n"
     ]
    }
   ],
   "source": [
    "# 1폴드 조회하기\n",
    "# max_depth=5 ~ max_depth=19 까지 15번 수행 , max_depth=8이 가장 적합한 값 \n",
    "print(gs.cv_results_['split0_test_score'])"
   ]
  },
  {
   "cell_type": "code",
   "execution_count": 76,
   "id": "296069b3",
   "metadata": {},
   "outputs": [
    {
     "name": "stdout",
     "output_type": "stream",
     "text": [
      "0.8584615384615385\n"
     ]
    }
   ],
   "source": [
    "### 훈련모델 최종 검증하기 \n",
    "# 과대적합\n",
    "print(dtc.score(test_input, test_target))"
   ]
  },
  {
   "cell_type": "code",
   "execution_count": 77,
   "id": "6ded9977",
   "metadata": {},
   "outputs": [
    {
     "name": "stdout",
     "output_type": "stream",
     "text": [
      "[{'max_depth': 5}, {'max_depth': 6}, {'max_depth': 7}, {'max_depth': 8}, {'max_depth': 9}, {'max_depth': 10}, {'max_depth': 11}, {'max_depth': 12}, {'max_depth': 13}, {'max_depth': 14}, {'max_depth': 15}, {'max_depth': 16}, {'max_depth': 17}, {'max_depth': 18}, {'max_depth': 19}]\n",
      "[0.84711538 0.84807692 0.85769231 0.85288462 0.85769231 0.84519231\n",
      " 0.85865385 0.86730769 0.86538462 0.86826923 0.86730769 0.86442308\n",
      " 0.86346154 0.86634615 0.87211538]\n"
     ]
    }
   ],
   "source": [
    "print(gs.cv_results_['params'])\n",
    "print(gs.cv_results_['split0_test_score'])"
   ]
  },
  {
   "cell_type": "code",
   "execution_count": 86,
   "id": "d22b08b8",
   "metadata": {},
   "outputs": [
    {
     "data": {
      "text/html": [
       "<div>\n",
       "<style scoped>\n",
       "    .dataframe tbody tr th:only-of-type {\n",
       "        vertical-align: middle;\n",
       "    }\n",
       "\n",
       "    .dataframe tbody tr th {\n",
       "        vertical-align: top;\n",
       "    }\n",
       "\n",
       "    .dataframe thead th {\n",
       "        text-align: right;\n",
       "    }\n",
       "</style>\n",
       "<table border=\"1\" class=\"dataframe\">\n",
       "  <thead>\n",
       "    <tr style=\"text-align: right;\">\n",
       "      <th></th>\n",
       "      <th>max_depth</th>\n",
       "      <th>split_0_test_score</th>\n",
       "      <th>split_1_test_score</th>\n",
       "      <th>split_2_test_score</th>\n",
       "      <th>split_3_test_score</th>\n",
       "      <th>split_4_test_score</th>\n",
       "    </tr>\n",
       "  </thead>\n",
       "  <tbody>\n",
       "    <tr>\n",
       "      <th>0</th>\n",
       "      <td>5</td>\n",
       "      <td>0.847115</td>\n",
       "      <td>0.863462</td>\n",
       "      <td>0.880654</td>\n",
       "      <td>0.836381</td>\n",
       "      <td>0.861405</td>\n",
       "    </tr>\n",
       "    <tr>\n",
       "      <th>1</th>\n",
       "      <td>6</td>\n",
       "      <td>0.848077</td>\n",
       "      <td>0.854808</td>\n",
       "      <td>0.873917</td>\n",
       "      <td>0.843118</td>\n",
       "      <td>0.859480</td>\n",
       "    </tr>\n",
       "    <tr>\n",
       "      <th>2</th>\n",
       "      <td>7</td>\n",
       "      <td>0.857692</td>\n",
       "      <td>0.851923</td>\n",
       "      <td>0.875842</td>\n",
       "      <td>0.843118</td>\n",
       "      <td>0.847931</td>\n",
       "    </tr>\n",
       "    <tr>\n",
       "      <th>3</th>\n",
       "      <td>8</td>\n",
       "      <td>0.852885</td>\n",
       "      <td>0.854808</td>\n",
       "      <td>0.878730</td>\n",
       "      <td>0.846968</td>\n",
       "      <td>0.865255</td>\n",
       "    </tr>\n",
       "    <tr>\n",
       "      <th>4</th>\n",
       "      <td>9</td>\n",
       "      <td>0.857692</td>\n",
       "      <td>0.859615</td>\n",
       "      <td>0.871030</td>\n",
       "      <td>0.842156</td>\n",
       "      <td>0.854668</td>\n",
       "    </tr>\n",
       "    <tr>\n",
       "      <th>5</th>\n",
       "      <td>10</td>\n",
       "      <td>0.845192</td>\n",
       "      <td>0.847115</td>\n",
       "      <td>0.876805</td>\n",
       "      <td>0.846968</td>\n",
       "      <td>0.852743</td>\n",
       "    </tr>\n",
       "    <tr>\n",
       "      <th>6</th>\n",
       "      <td>11</td>\n",
       "      <td>0.858654</td>\n",
       "      <td>0.850962</td>\n",
       "      <td>0.880654</td>\n",
       "      <td>0.852743</td>\n",
       "      <td>0.848893</td>\n",
       "    </tr>\n",
       "    <tr>\n",
       "      <th>7</th>\n",
       "      <td>12</td>\n",
       "      <td>0.867308</td>\n",
       "      <td>0.848077</td>\n",
       "      <td>0.882579</td>\n",
       "      <td>0.848893</td>\n",
       "      <td>0.848893</td>\n",
       "    </tr>\n",
       "    <tr>\n",
       "      <th>8</th>\n",
       "      <td>13</td>\n",
       "      <td>0.865385</td>\n",
       "      <td>0.853846</td>\n",
       "      <td>0.873917</td>\n",
       "      <td>0.853705</td>\n",
       "      <td>0.839269</td>\n",
       "    </tr>\n",
       "    <tr>\n",
       "      <th>9</th>\n",
       "      <td>14</td>\n",
       "      <td>0.868269</td>\n",
       "      <td>0.851923</td>\n",
       "      <td>0.870067</td>\n",
       "      <td>0.858518</td>\n",
       "      <td>0.841193</td>\n",
       "    </tr>\n",
       "    <tr>\n",
       "      <th>10</th>\n",
       "      <td>15</td>\n",
       "      <td>0.867308</td>\n",
       "      <td>0.853846</td>\n",
       "      <td>0.868142</td>\n",
       "      <td>0.854668</td>\n",
       "      <td>0.837344</td>\n",
       "    </tr>\n",
       "    <tr>\n",
       "      <th>11</th>\n",
       "      <td>16</td>\n",
       "      <td>0.864423</td>\n",
       "      <td>0.849038</td>\n",
       "      <td>0.876805</td>\n",
       "      <td>0.859480</td>\n",
       "      <td>0.838306</td>\n",
       "    </tr>\n",
       "    <tr>\n",
       "      <th>12</th>\n",
       "      <td>17</td>\n",
       "      <td>0.863462</td>\n",
       "      <td>0.850000</td>\n",
       "      <td>0.871992</td>\n",
       "      <td>0.852743</td>\n",
       "      <td>0.839269</td>\n",
       "    </tr>\n",
       "    <tr>\n",
       "      <th>13</th>\n",
       "      <td>18</td>\n",
       "      <td>0.866346</td>\n",
       "      <td>0.853846</td>\n",
       "      <td>0.873917</td>\n",
       "      <td>0.856593</td>\n",
       "      <td>0.838306</td>\n",
       "    </tr>\n",
       "    <tr>\n",
       "      <th>14</th>\n",
       "      <td>19</td>\n",
       "      <td>0.872115</td>\n",
       "      <td>0.856731</td>\n",
       "      <td>0.878730</td>\n",
       "      <td>0.849856</td>\n",
       "      <td>0.837344</td>\n",
       "    </tr>\n",
       "  </tbody>\n",
       "</table>\n",
       "</div>"
      ],
      "text/plain": [
       "    max_depth  split_0_test_score  split_1_test_score  split_2_test_score  \\\n",
       "0           5            0.847115            0.863462            0.880654   \n",
       "1           6            0.848077            0.854808            0.873917   \n",
       "2           7            0.857692            0.851923            0.875842   \n",
       "3           8            0.852885            0.854808            0.878730   \n",
       "4           9            0.857692            0.859615            0.871030   \n",
       "5          10            0.845192            0.847115            0.876805   \n",
       "6          11            0.858654            0.850962            0.880654   \n",
       "7          12            0.867308            0.848077            0.882579   \n",
       "8          13            0.865385            0.853846            0.873917   \n",
       "9          14            0.868269            0.851923            0.870067   \n",
       "10         15            0.867308            0.853846            0.868142   \n",
       "11         16            0.864423            0.849038            0.876805   \n",
       "12         17            0.863462            0.850000            0.871992   \n",
       "13         18            0.866346            0.853846            0.873917   \n",
       "14         19            0.872115            0.856731            0.878730   \n",
       "\n",
       "    split_3_test_score  split_4_test_score  \n",
       "0             0.836381            0.861405  \n",
       "1             0.843118            0.859480  \n",
       "2             0.843118            0.847931  \n",
       "3             0.846968            0.865255  \n",
       "4             0.842156            0.854668  \n",
       "5             0.846968            0.852743  \n",
       "6             0.852743            0.848893  \n",
       "7             0.848893            0.848893  \n",
       "8             0.853705            0.839269  \n",
       "9             0.858518            0.841193  \n",
       "10            0.854668            0.837344  \n",
       "11            0.859480            0.838306  \n",
       "12            0.852743            0.839269  \n",
       "13            0.856593            0.838306  \n",
       "14            0.849856            0.837344  "
      ]
     },
     "execution_count": 86,
     "metadata": {},
     "output_type": "execute_result"
    }
   ],
   "source": [
    "table = pd.DataFrame(gs.cv_results_['params'])\n",
    "table['split_0_test_score'] = pd.DataFrame(gs.cv_results_['split0_test_score'])\n",
    "table['split_1_test_score'] = pd.DataFrame(gs.cv_results_['split1_test_score'])\n",
    "table['split_2_test_score'] = pd.DataFrame(gs.cv_results_['split2_test_score'])\n",
    "table['split_3_test_score'] = pd.DataFrame(gs.cv_results_['split3_test_score'])\n",
    "table['split_4_test_score'] = pd.DataFrame(gs.cv_results_['split4_test_score'])\n",
    "table"
   ]
  },
  {
   "cell_type": "markdown",
   "id": "ad1f1960",
   "metadata": {},
   "source": [
    "###  찾을 하이퍼파라미터 여러개 사용하기"
   ]
  },
  {
   "cell_type": "code",
   "execution_count": 101,
   "id": "01ccdaa7",
   "metadata": {},
   "outputs": [
    {
     "data": {
      "text/html": [
       "<style>#sk-container-id-8 {color: black;background-color: white;}#sk-container-id-8 pre{padding: 0;}#sk-container-id-8 div.sk-toggleable {background-color: white;}#sk-container-id-8 label.sk-toggleable__label {cursor: pointer;display: block;width: 100%;margin-bottom: 0;padding: 0.3em;box-sizing: border-box;text-align: center;}#sk-container-id-8 label.sk-toggleable__label-arrow:before {content: \"▸\";float: left;margin-right: 0.25em;color: #696969;}#sk-container-id-8 label.sk-toggleable__label-arrow:hover:before {color: black;}#sk-container-id-8 div.sk-estimator:hover label.sk-toggleable__label-arrow:before {color: black;}#sk-container-id-8 div.sk-toggleable__content {max-height: 0;max-width: 0;overflow: hidden;text-align: left;background-color: #f0f8ff;}#sk-container-id-8 div.sk-toggleable__content pre {margin: 0.2em;color: black;border-radius: 0.25em;background-color: #f0f8ff;}#sk-container-id-8 input.sk-toggleable__control:checked~div.sk-toggleable__content {max-height: 200px;max-width: 100%;overflow: auto;}#sk-container-id-8 input.sk-toggleable__control:checked~label.sk-toggleable__label-arrow:before {content: \"▾\";}#sk-container-id-8 div.sk-estimator input.sk-toggleable__control:checked~label.sk-toggleable__label {background-color: #d4ebff;}#sk-container-id-8 div.sk-label input.sk-toggleable__control:checked~label.sk-toggleable__label {background-color: #d4ebff;}#sk-container-id-8 input.sk-hidden--visually {border: 0;clip: rect(1px 1px 1px 1px);clip: rect(1px, 1px, 1px, 1px);height: 1px;margin: -1px;overflow: hidden;padding: 0;position: absolute;width: 1px;}#sk-container-id-8 div.sk-estimator {font-family: monospace;background-color: #f0f8ff;border: 1px dotted black;border-radius: 0.25em;box-sizing: border-box;margin-bottom: 0.5em;}#sk-container-id-8 div.sk-estimator:hover {background-color: #d4ebff;}#sk-container-id-8 div.sk-parallel-item::after {content: \"\";width: 100%;border-bottom: 1px solid gray;flex-grow: 1;}#sk-container-id-8 div.sk-label:hover label.sk-toggleable__label {background-color: #d4ebff;}#sk-container-id-8 div.sk-serial::before {content: \"\";position: absolute;border-left: 1px solid gray;box-sizing: border-box;top: 0;bottom: 0;left: 50%;z-index: 0;}#sk-container-id-8 div.sk-serial {display: flex;flex-direction: column;align-items: center;background-color: white;padding-right: 0.2em;padding-left: 0.2em;position: relative;}#sk-container-id-8 div.sk-item {position: relative;z-index: 1;}#sk-container-id-8 div.sk-parallel {display: flex;align-items: stretch;justify-content: center;background-color: white;position: relative;}#sk-container-id-8 div.sk-item::before, #sk-container-id-8 div.sk-parallel-item::before {content: \"\";position: absolute;border-left: 1px solid gray;box-sizing: border-box;top: 0;bottom: 0;left: 50%;z-index: -1;}#sk-container-id-8 div.sk-parallel-item {display: flex;flex-direction: column;z-index: 1;position: relative;background-color: white;}#sk-container-id-8 div.sk-parallel-item:first-child::after {align-self: flex-end;width: 50%;}#sk-container-id-8 div.sk-parallel-item:last-child::after {align-self: flex-start;width: 50%;}#sk-container-id-8 div.sk-parallel-item:only-child::after {width: 0;}#sk-container-id-8 div.sk-dashed-wrapped {border: 1px dashed gray;margin: 0 0.4em 0.5em 0.4em;box-sizing: border-box;padding-bottom: 0.4em;background-color: white;}#sk-container-id-8 div.sk-label label {font-family: monospace;font-weight: bold;display: inline-block;line-height: 1.2em;}#sk-container-id-8 div.sk-label-container {text-align: center;}#sk-container-id-8 div.sk-container {/* jupyter's `normalize.less` sets `[hidden] { display: none; }` but bootstrap.min.css set `[hidden] { display: none !important; }` so we also need the `!important` here to be able to override the default hidden behavior on the sphinx rendered scikit-learn.org. See: https://github.com/scikit-learn/scikit-learn/issues/21755 */display: inline-block !important;position: relative;}#sk-container-id-8 div.sk-text-repr-fallback {display: none;}</style><div id=\"sk-container-id-8\" class=\"sk-top-container\"><div class=\"sk-text-repr-fallback\"><pre>GridSearchCV(estimator=DecisionTreeClassifier(random_state=42), n_jobs=-1,\n",
       "             param_grid={&#x27;max_depth&#x27;: range(5, 20),\n",
       "                         &#x27;min_impurity_decrease&#x27;: array([0.0001, 0.0002, 0.0003, 0.0004, 0.0005, 0.0006, 0.0007, 0.0008,\n",
       "       0.0009]),\n",
       "                         &#x27;min_samples_split&#x27;: range(2, 100, 10)})</pre><b>In a Jupyter environment, please rerun this cell to show the HTML representation or trust the notebook. <br />On GitHub, the HTML representation is unable to render, please try loading this page with nbviewer.org.</b></div><div class=\"sk-container\" hidden><div class=\"sk-item sk-dashed-wrapped\"><div class=\"sk-label-container\"><div class=\"sk-label sk-toggleable\"><input class=\"sk-toggleable__control sk-hidden--visually\" id=\"sk-estimator-id-20\" type=\"checkbox\" ><label for=\"sk-estimator-id-20\" class=\"sk-toggleable__label sk-toggleable__label-arrow\">GridSearchCV</label><div class=\"sk-toggleable__content\"><pre>GridSearchCV(estimator=DecisionTreeClassifier(random_state=42), n_jobs=-1,\n",
       "             param_grid={&#x27;max_depth&#x27;: range(5, 20),\n",
       "                         &#x27;min_impurity_decrease&#x27;: array([0.0001, 0.0002, 0.0003, 0.0004, 0.0005, 0.0006, 0.0007, 0.0008,\n",
       "       0.0009]),\n",
       "                         &#x27;min_samples_split&#x27;: range(2, 100, 10)})</pre></div></div></div><div class=\"sk-parallel\"><div class=\"sk-parallel-item\"><div class=\"sk-item\"><div class=\"sk-label-container\"><div class=\"sk-label sk-toggleable\"><input class=\"sk-toggleable__control sk-hidden--visually\" id=\"sk-estimator-id-21\" type=\"checkbox\" ><label for=\"sk-estimator-id-21\" class=\"sk-toggleable__label sk-toggleable__label-arrow\">estimator: DecisionTreeClassifier</label><div class=\"sk-toggleable__content\"><pre>DecisionTreeClassifier(random_state=42)</pre></div></div></div><div class=\"sk-serial\"><div class=\"sk-item\"><div class=\"sk-estimator sk-toggleable\"><input class=\"sk-toggleable__control sk-hidden--visually\" id=\"sk-estimator-id-22\" type=\"checkbox\" ><label for=\"sk-estimator-id-22\" class=\"sk-toggleable__label sk-toggleable__label-arrow\">DecisionTreeClassifier</label><div class=\"sk-toggleable__content\"><pre>DecisionTreeClassifier(random_state=42)</pre></div></div></div></div></div></div></div></div></div></div>"
      ],
      "text/plain": [
       "GridSearchCV(estimator=DecisionTreeClassifier(random_state=42), n_jobs=-1,\n",
       "             param_grid={'max_depth': range(5, 20),\n",
       "                         'min_impurity_decrease': array([0.0001, 0.0002, 0.0003, 0.0004, 0.0005, 0.0006, 0.0007, 0.0008,\n",
       "       0.0009]),\n",
       "                         'min_samples_split': range(2, 100, 10)})"
      ]
     },
     "execution_count": 101,
     "metadata": {},
     "output_type": "execute_result"
    }
   ],
   "source": [
    "# min_impurity_decrease : 결정트리 노드 분리시 불순도 감소 최소량 \n",
    "# max_depth :  결정트리 깊이\n",
    "# min_samples_split : 결정트리 노드를 나누기 위한 최소 샘플 갯수\n",
    "params = {'min_impurity_decrease' : np.arange(0.0001,0.001,0.0001),\n",
    "          'max_depth' : range(5,20,1),\n",
    "          'min_samples_split' : range(2,100,10)}\n",
    "    \n",
    "### 그리드서치 훈련시키기\n",
    "gs=GridSearchCV(DecisionTreeClassifier(random_state=42),\n",
    "                params, n_jobs=-1)\n",
    "gs.fit(train_input, train_target)"
   ]
  },
  {
   "cell_type": "code",
   "execution_count": 95,
   "id": "c5ae5541",
   "metadata": {},
   "outputs": [
    {
     "name": "stdout",
     "output_type": "stream",
     "text": [
      "{'max_depth': 14, 'min_impurity_decrease': 0.0004, 'min_samples_split': 12}\n"
     ]
    }
   ],
   "source": [
    "print(gs.best_params_)"
   ]
  },
  {
   "cell_type": "code",
   "execution_count": 96,
   "id": "dd22c888",
   "metadata": {},
   "outputs": [
    {
     "name": "stdout",
     "output_type": "stream",
     "text": [
      "0.892053107562055\n",
      "0.8615384615384616\n"
     ]
    }
   ],
   "source": [
    "dtc = gs.best_estimator_\n",
    "print(dtc.score(train_input, train_target))\n",
    "print(dtc.score(test_input, test_target))"
   ]
  },
  {
   "cell_type": "code",
   "execution_count": 102,
   "id": "1d4442ea",
   "metadata": {},
   "outputs": [
    {
     "data": {
      "text/html": [
       "<style>#sk-container-id-9 {color: black;background-color: white;}#sk-container-id-9 pre{padding: 0;}#sk-container-id-9 div.sk-toggleable {background-color: white;}#sk-container-id-9 label.sk-toggleable__label {cursor: pointer;display: block;width: 100%;margin-bottom: 0;padding: 0.3em;box-sizing: border-box;text-align: center;}#sk-container-id-9 label.sk-toggleable__label-arrow:before {content: \"▸\";float: left;margin-right: 0.25em;color: #696969;}#sk-container-id-9 label.sk-toggleable__label-arrow:hover:before {color: black;}#sk-container-id-9 div.sk-estimator:hover label.sk-toggleable__label-arrow:before {color: black;}#sk-container-id-9 div.sk-toggleable__content {max-height: 0;max-width: 0;overflow: hidden;text-align: left;background-color: #f0f8ff;}#sk-container-id-9 div.sk-toggleable__content pre {margin: 0.2em;color: black;border-radius: 0.25em;background-color: #f0f8ff;}#sk-container-id-9 input.sk-toggleable__control:checked~div.sk-toggleable__content {max-height: 200px;max-width: 100%;overflow: auto;}#sk-container-id-9 input.sk-toggleable__control:checked~label.sk-toggleable__label-arrow:before {content: \"▾\";}#sk-container-id-9 div.sk-estimator input.sk-toggleable__control:checked~label.sk-toggleable__label {background-color: #d4ebff;}#sk-container-id-9 div.sk-label input.sk-toggleable__control:checked~label.sk-toggleable__label {background-color: #d4ebff;}#sk-container-id-9 input.sk-hidden--visually {border: 0;clip: rect(1px 1px 1px 1px);clip: rect(1px, 1px, 1px, 1px);height: 1px;margin: -1px;overflow: hidden;padding: 0;position: absolute;width: 1px;}#sk-container-id-9 div.sk-estimator {font-family: monospace;background-color: #f0f8ff;border: 1px dotted black;border-radius: 0.25em;box-sizing: border-box;margin-bottom: 0.5em;}#sk-container-id-9 div.sk-estimator:hover {background-color: #d4ebff;}#sk-container-id-9 div.sk-parallel-item::after {content: \"\";width: 100%;border-bottom: 1px solid gray;flex-grow: 1;}#sk-container-id-9 div.sk-label:hover label.sk-toggleable__label {background-color: #d4ebff;}#sk-container-id-9 div.sk-serial::before {content: \"\";position: absolute;border-left: 1px solid gray;box-sizing: border-box;top: 0;bottom: 0;left: 50%;z-index: 0;}#sk-container-id-9 div.sk-serial {display: flex;flex-direction: column;align-items: center;background-color: white;padding-right: 0.2em;padding-left: 0.2em;position: relative;}#sk-container-id-9 div.sk-item {position: relative;z-index: 1;}#sk-container-id-9 div.sk-parallel {display: flex;align-items: stretch;justify-content: center;background-color: white;position: relative;}#sk-container-id-9 div.sk-item::before, #sk-container-id-9 div.sk-parallel-item::before {content: \"\";position: absolute;border-left: 1px solid gray;box-sizing: border-box;top: 0;bottom: 0;left: 50%;z-index: -1;}#sk-container-id-9 div.sk-parallel-item {display: flex;flex-direction: column;z-index: 1;position: relative;background-color: white;}#sk-container-id-9 div.sk-parallel-item:first-child::after {align-self: flex-end;width: 50%;}#sk-container-id-9 div.sk-parallel-item:last-child::after {align-self: flex-start;width: 50%;}#sk-container-id-9 div.sk-parallel-item:only-child::after {width: 0;}#sk-container-id-9 div.sk-dashed-wrapped {border: 1px dashed gray;margin: 0 0.4em 0.5em 0.4em;box-sizing: border-box;padding-bottom: 0.4em;background-color: white;}#sk-container-id-9 div.sk-label label {font-family: monospace;font-weight: bold;display: inline-block;line-height: 1.2em;}#sk-container-id-9 div.sk-label-container {text-align: center;}#sk-container-id-9 div.sk-container {/* jupyter's `normalize.less` sets `[hidden] { display: none; }` but bootstrap.min.css set `[hidden] { display: none !important; }` so we also need the `!important` here to be able to override the default hidden behavior on the sphinx rendered scikit-learn.org. See: https://github.com/scikit-learn/scikit-learn/issues/21755 */display: inline-block !important;position: relative;}#sk-container-id-9 div.sk-text-repr-fallback {display: none;}</style><div id=\"sk-container-id-9\" class=\"sk-top-container\"><div class=\"sk-text-repr-fallback\"><pre>GridSearchCV(estimator=DecisionTreeClassifier(random_state=42), n_jobs=-1,\n",
       "             param_grid={&#x27;max_depth&#x27;: range(5, 20),\n",
       "                         &#x27;min_impurity_decrease&#x27;: array([0.0001, 0.0002, 0.0003, 0.0004, 0.0005, 0.0006, 0.0007, 0.0008,\n",
       "       0.0009]),\n",
       "                         &#x27;min_samples_split&#x27;: range(2, 100, 10)})</pre><b>In a Jupyter environment, please rerun this cell to show the HTML representation or trust the notebook. <br />On GitHub, the HTML representation is unable to render, please try loading this page with nbviewer.org.</b></div><div class=\"sk-container\" hidden><div class=\"sk-item sk-dashed-wrapped\"><div class=\"sk-label-container\"><div class=\"sk-label sk-toggleable\"><input class=\"sk-toggleable__control sk-hidden--visually\" id=\"sk-estimator-id-23\" type=\"checkbox\" ><label for=\"sk-estimator-id-23\" class=\"sk-toggleable__label sk-toggleable__label-arrow\">GridSearchCV</label><div class=\"sk-toggleable__content\"><pre>GridSearchCV(estimator=DecisionTreeClassifier(random_state=42), n_jobs=-1,\n",
       "             param_grid={&#x27;max_depth&#x27;: range(5, 20),\n",
       "                         &#x27;min_impurity_decrease&#x27;: array([0.0001, 0.0002, 0.0003, 0.0004, 0.0005, 0.0006, 0.0007, 0.0008,\n",
       "       0.0009]),\n",
       "                         &#x27;min_samples_split&#x27;: range(2, 100, 10)})</pre></div></div></div><div class=\"sk-parallel\"><div class=\"sk-parallel-item\"><div class=\"sk-item\"><div class=\"sk-label-container\"><div class=\"sk-label sk-toggleable\"><input class=\"sk-toggleable__control sk-hidden--visually\" id=\"sk-estimator-id-24\" type=\"checkbox\" ><label for=\"sk-estimator-id-24\" class=\"sk-toggleable__label sk-toggleable__label-arrow\">estimator: DecisionTreeClassifier</label><div class=\"sk-toggleable__content\"><pre>DecisionTreeClassifier(random_state=42)</pre></div></div></div><div class=\"sk-serial\"><div class=\"sk-item\"><div class=\"sk-estimator sk-toggleable\"><input class=\"sk-toggleable__control sk-hidden--visually\" id=\"sk-estimator-id-25\" type=\"checkbox\" ><label for=\"sk-estimator-id-25\" class=\"sk-toggleable__label sk-toggleable__label-arrow\">DecisionTreeClassifier</label><div class=\"sk-toggleable__content\"><pre>DecisionTreeClassifier(random_state=42)</pre></div></div></div></div></div></div></div></div></div></div>"
      ],
      "text/plain": [
       "GridSearchCV(estimator=DecisionTreeClassifier(random_state=42), n_jobs=-1,\n",
       "             param_grid={'max_depth': range(5, 20),\n",
       "                         'min_impurity_decrease': array([0.0001, 0.0002, 0.0003, 0.0004, 0.0005, 0.0006, 0.0007, 0.0008,\n",
       "       0.0009]),\n",
       "                         'min_samples_split': range(2, 100, 10)})"
      ]
     },
     "execution_count": 102,
     "metadata": {},
     "output_type": "execute_result"
    }
   ],
   "source": [
    "######## #################수정필요######################333\n",
    "### 10-폴드 지정하기\n",
    "splitter = StratifiedKFold(n_splits=7, shuffle = True, random_state=42)\n",
    "scores = cross_validate(dtc,train_input,train_target)\n",
    "params = {'min_impurity_decrease' : np.arange(0.0001,0.001,0.0001),\n",
    "          'max_depth' : range(5,20,1),\n",
    "          'min_samples_split' : range(2,100,10)}\n",
    "gs = GridSearchCV(DecisionTreeClassifier(random_state=42),params, n_jobs=-1)\n",
    "\n",
    "\n",
    "                \n",
    "gs.fit(train_input, train_target)"
   ]
  },
  {
   "cell_type": "code",
   "execution_count": 104,
   "id": "e6b49fae",
   "metadata": {},
   "outputs": [
    {
     "name": "stdout",
     "output_type": "stream",
     "text": [
      "0.892053107562055\n",
      "0.8615384615384616\n"
     ]
    }
   ],
   "source": [
    "dtc =gs.best_estimator_\n",
    "print(dtc.score(train_input, train_target))\n",
    "print(dtc.score(test_input, test_target))\n"
   ]
  },
  {
   "cell_type": "code",
   "execution_count": null,
   "id": "c0faeb51",
   "metadata": {},
   "outputs": [],
   "source": [
    "### 랜덤서치 사용시 아래조건 만족해야\n",
    "# - 하이퍼파라미터값이 수치인 것들만사용\n",
    "# - 범위나 간격을 미리 정하기 어려울 경우\n",
    "# - 너무 많은 매개변수가 있어서 그리드서치 수행시간이 오래걸리는 경우\n",
    "#  사용모듈: uniform(실수값) , randint(정수값)\n",
    "# - 매개변수를 샘플링할때 확률분포객체를 전달 "
   ]
  },
  {
   "cell_type": "code",
   "execution_count": 105,
   "id": "76b1abab",
   "metadata": {},
   "outputs": [],
   "source": [
    "from scipy.stats import uniform, randint"
   ]
  },
  {
   "cell_type": "code",
   "execution_count": 107,
   "id": "53b3805a",
   "metadata": {},
   "outputs": [
    {
     "name": "stdout",
     "output_type": "stream",
     "text": [
      "[0 7 2 9 8 8 3 9 9 2 9 8 3 2 9 7 2 2 4 9 3 2 7 3 6 8 2 7 4 3 0 5 0 9 6 4 5\n",
      " 9 6 7 6 6 1 8 9 2 7 2 3 9 1 9 6 9 1 0 1 9 0 8 3 0 1 8 1 6 1 8 3 2 6 5 1 3\n",
      " 4 2 0 5 0 7 4 3 9 2 8 8 3 1 5 9 2 2 0 9 2 0 3 3 7 2]\n"
     ]
    }
   ],
   "source": [
    "### 범위설정\n",
    "rgen = randint(0,10)\n",
    "rgen\n",
    "\n",
    "### 범위내에서 임의값 출력하기\n",
    "print(rgen.rvs(100))"
   ]
  },
  {
   "cell_type": "code",
   "execution_count": 108,
   "id": "354dd7c1",
   "metadata": {},
   "outputs": [
    {
     "name": "stdout",
     "output_type": "stream",
     "text": [
      "[0.28941879 0.65277119 0.61722651 0.25847319 0.31802927 0.72400651\n",
      " 0.77828459 0.27752331 0.55444788 0.80523595 0.09929453 0.15402696\n",
      " 0.99916752 0.16895867 0.23387033 0.98389405 0.26077521 0.83205209\n",
      " 0.08562233 0.17277534 0.84181564 0.16705942 0.92374897 0.33581112\n",
      " 0.85841449 0.56388843 0.30141775 0.93185986 0.76602971 0.52901686\n",
      " 0.18633288 0.82409183 0.28708396 0.17323761 0.03507325 0.03161638\n",
      " 0.6670464  0.22414703 0.09682671 0.42905464 0.18774719 0.34090094\n",
      " 0.6095203  0.35112643 0.38831529 0.89704449 0.87883569 0.12291383\n",
      " 0.33957813 0.52044302]\n"
     ]
    }
   ],
   "source": [
    "# 실수값 \n",
    "# 범위설정 \n",
    "ugen = uniform(0,1)\n",
    "# 임의의값 50개 조회\n",
    "print(ugen.rvs(50))"
   ]
  },
  {
   "cell_type": "code",
   "execution_count": 125,
   "id": "7c34b98b",
   "metadata": {},
   "outputs": [
    {
     "data": {
      "text/html": [
       "<style>#sk-container-id-13 {color: black;background-color: white;}#sk-container-id-13 pre{padding: 0;}#sk-container-id-13 div.sk-toggleable {background-color: white;}#sk-container-id-13 label.sk-toggleable__label {cursor: pointer;display: block;width: 100%;margin-bottom: 0;padding: 0.3em;box-sizing: border-box;text-align: center;}#sk-container-id-13 label.sk-toggleable__label-arrow:before {content: \"▸\";float: left;margin-right: 0.25em;color: #696969;}#sk-container-id-13 label.sk-toggleable__label-arrow:hover:before {color: black;}#sk-container-id-13 div.sk-estimator:hover label.sk-toggleable__label-arrow:before {color: black;}#sk-container-id-13 div.sk-toggleable__content {max-height: 0;max-width: 0;overflow: hidden;text-align: left;background-color: #f0f8ff;}#sk-container-id-13 div.sk-toggleable__content pre {margin: 0.2em;color: black;border-radius: 0.25em;background-color: #f0f8ff;}#sk-container-id-13 input.sk-toggleable__control:checked~div.sk-toggleable__content {max-height: 200px;max-width: 100%;overflow: auto;}#sk-container-id-13 input.sk-toggleable__control:checked~label.sk-toggleable__label-arrow:before {content: \"▾\";}#sk-container-id-13 div.sk-estimator input.sk-toggleable__control:checked~label.sk-toggleable__label {background-color: #d4ebff;}#sk-container-id-13 div.sk-label input.sk-toggleable__control:checked~label.sk-toggleable__label {background-color: #d4ebff;}#sk-container-id-13 input.sk-hidden--visually {border: 0;clip: rect(1px 1px 1px 1px);clip: rect(1px, 1px, 1px, 1px);height: 1px;margin: -1px;overflow: hidden;padding: 0;position: absolute;width: 1px;}#sk-container-id-13 div.sk-estimator {font-family: monospace;background-color: #f0f8ff;border: 1px dotted black;border-radius: 0.25em;box-sizing: border-box;margin-bottom: 0.5em;}#sk-container-id-13 div.sk-estimator:hover {background-color: #d4ebff;}#sk-container-id-13 div.sk-parallel-item::after {content: \"\";width: 100%;border-bottom: 1px solid gray;flex-grow: 1;}#sk-container-id-13 div.sk-label:hover label.sk-toggleable__label {background-color: #d4ebff;}#sk-container-id-13 div.sk-serial::before {content: \"\";position: absolute;border-left: 1px solid gray;box-sizing: border-box;top: 0;bottom: 0;left: 50%;z-index: 0;}#sk-container-id-13 div.sk-serial {display: flex;flex-direction: column;align-items: center;background-color: white;padding-right: 0.2em;padding-left: 0.2em;position: relative;}#sk-container-id-13 div.sk-item {position: relative;z-index: 1;}#sk-container-id-13 div.sk-parallel {display: flex;align-items: stretch;justify-content: center;background-color: white;position: relative;}#sk-container-id-13 div.sk-item::before, #sk-container-id-13 div.sk-parallel-item::before {content: \"\";position: absolute;border-left: 1px solid gray;box-sizing: border-box;top: 0;bottom: 0;left: 50%;z-index: -1;}#sk-container-id-13 div.sk-parallel-item {display: flex;flex-direction: column;z-index: 1;position: relative;background-color: white;}#sk-container-id-13 div.sk-parallel-item:first-child::after {align-self: flex-end;width: 50%;}#sk-container-id-13 div.sk-parallel-item:last-child::after {align-self: flex-start;width: 50%;}#sk-container-id-13 div.sk-parallel-item:only-child::after {width: 0;}#sk-container-id-13 div.sk-dashed-wrapped {border: 1px dashed gray;margin: 0 0.4em 0.5em 0.4em;box-sizing: border-box;padding-bottom: 0.4em;background-color: white;}#sk-container-id-13 div.sk-label label {font-family: monospace;font-weight: bold;display: inline-block;line-height: 1.2em;}#sk-container-id-13 div.sk-label-container {text-align: center;}#sk-container-id-13 div.sk-container {/* jupyter's `normalize.less` sets `[hidden] { display: none; }` but bootstrap.min.css set `[hidden] { display: none !important; }` so we also need the `!important` here to be able to override the default hidden behavior on the sphinx rendered scikit-learn.org. See: https://github.com/scikit-learn/scikit-learn/issues/21755 */display: inline-block !important;position: relative;}#sk-container-id-13 div.sk-text-repr-fallback {display: none;}</style><div id=\"sk-container-id-13\" class=\"sk-top-container\"><div class=\"sk-text-repr-fallback\"><pre>RandomizedSearchCV(estimator=DecisionTreeClassifier(random_state=42),\n",
       "                   n_iter=100, n_jobs=-1,\n",
       "                   param_distributions={&#x27;max_depth&#x27;: &lt;scipy.stats._distn_infrastructure.rv_discrete_frozen object at 0x000002B031CE8160&gt;,\n",
       "                                        &#x27;min_impurity_decrease&#x27;: &lt;scipy.stats._distn_infrastructure.rv_continuous_frozen object at 0x000002B032626850&gt;,\n",
       "                                        &#x27;min_samples_split&#x27;: &lt;scipy.stats._distn_infrastructure.rv_discrete_frozen object at 0x000002B0325FDFA0&gt;},\n",
       "                   random_state=42)</pre><b>In a Jupyter environment, please rerun this cell to show the HTML representation or trust the notebook. <br />On GitHub, the HTML representation is unable to render, please try loading this page with nbviewer.org.</b></div><div class=\"sk-container\" hidden><div class=\"sk-item sk-dashed-wrapped\"><div class=\"sk-label-container\"><div class=\"sk-label sk-toggleable\"><input class=\"sk-toggleable__control sk-hidden--visually\" id=\"sk-estimator-id-35\" type=\"checkbox\" ><label for=\"sk-estimator-id-35\" class=\"sk-toggleable__label sk-toggleable__label-arrow\">RandomizedSearchCV</label><div class=\"sk-toggleable__content\"><pre>RandomizedSearchCV(estimator=DecisionTreeClassifier(random_state=42),\n",
       "                   n_iter=100, n_jobs=-1,\n",
       "                   param_distributions={&#x27;max_depth&#x27;: &lt;scipy.stats._distn_infrastructure.rv_discrete_frozen object at 0x000002B031CE8160&gt;,\n",
       "                                        &#x27;min_impurity_decrease&#x27;: &lt;scipy.stats._distn_infrastructure.rv_continuous_frozen object at 0x000002B032626850&gt;,\n",
       "                                        &#x27;min_samples_split&#x27;: &lt;scipy.stats._distn_infrastructure.rv_discrete_frozen object at 0x000002B0325FDFA0&gt;},\n",
       "                   random_state=42)</pre></div></div></div><div class=\"sk-parallel\"><div class=\"sk-parallel-item\"><div class=\"sk-item\"><div class=\"sk-label-container\"><div class=\"sk-label sk-toggleable\"><input class=\"sk-toggleable__control sk-hidden--visually\" id=\"sk-estimator-id-36\" type=\"checkbox\" ><label for=\"sk-estimator-id-36\" class=\"sk-toggleable__label sk-toggleable__label-arrow\">estimator: DecisionTreeClassifier</label><div class=\"sk-toggleable__content\"><pre>DecisionTreeClassifier(random_state=42)</pre></div></div></div><div class=\"sk-serial\"><div class=\"sk-item\"><div class=\"sk-estimator sk-toggleable\"><input class=\"sk-toggleable__control sk-hidden--visually\" id=\"sk-estimator-id-37\" type=\"checkbox\" ><label for=\"sk-estimator-id-37\" class=\"sk-toggleable__label sk-toggleable__label-arrow\">DecisionTreeClassifier</label><div class=\"sk-toggleable__content\"><pre>DecisionTreeClassifier(random_state=42)</pre></div></div></div></div></div></div></div></div></div></div>"
      ],
      "text/plain": [
       "RandomizedSearchCV(estimator=DecisionTreeClassifier(random_state=42),\n",
       "                   n_iter=100, n_jobs=-1,\n",
       "                   param_distributions={'max_depth': <scipy.stats._distn_infrastructure.rv_discrete_frozen object at 0x000002B031CE8160>,\n",
       "                                        'min_impurity_decrease': <scipy.stats._distn_infrastructure.rv_continuous_frozen object at 0x000002B032626850>,\n",
       "                                        'min_samples_split': <scipy.stats._distn_infrastructure.rv_discrete_frozen object at 0x000002B0325FDFA0>},\n",
       "                   random_state=42)"
      ]
     },
     "execution_count": 125,
     "metadata": {},
     "output_type": "execute_result"
    }
   ],
   "source": [
    "###########################################수정 필요 #################################################\n",
    "### 하이퍼파라미터 매개변수 정의하기\n",
    "params = {'min_impurity_decrease' : uniform(0.0001,0.001),\n",
    "          'max_depth' : randint(20,50),\n",
    "          'min_samples_split' : randint(2,25)}\n",
    "\n",
    "# 랜덤서치 클래스(모델) : RandomizedSearchCV()\n",
    "# 사용방법은 그리드서치와 동일\n",
    "# 결정트리 모델사용, 훈련반복 횟수 100회, 코어 전체, 시드 42\n",
    "# n_iter=100 : 반복횟수 params에서 uniform 값이 임의로 추출해서 훈련하지만 범위가 없어서 적어준다\n",
    "\n",
    "from sklearn.model_selection import RandomizedSearchCV\n",
    "\n",
    "rs = RandomizedSearchCV(DecisionTreeClassifier(random_state=42),params,n_iter=100, n_jobs=-1,random_state=42)\n",
    "rs.fit(train_input, train_target)"
   ]
  },
  {
   "cell_type": "code",
   "execution_count": 127,
   "id": "b403d82a",
   "metadata": {},
   "outputs": [
    {
     "name": "stdout",
     "output_type": "stream",
     "text": [
      "{'max_depth': 29, 'min_impurity_decrease': 0.000437615171403628, 'min_samples_split': 16}\n"
     ]
    }
   ],
   "source": [
    "print(rs.best_params_)"
   ]
  },
  {
   "cell_type": "code",
   "execution_count": 128,
   "id": "352aa888",
   "metadata": {
    "scrolled": true
   },
   "outputs": [
    {
     "name": "stdout",
     "output_type": "stream",
     "text": [
      "dict_keys(['mean_fit_time', 'std_fit_time', 'mean_score_time', 'std_score_time', 'param_max_depth', 'param_min_impurity_decrease', 'param_min_samples_split', 'params', 'split0_test_score', 'split1_test_score', 'split2_test_score', 'split3_test_score', 'split4_test_score', 'mean_test_score', 'std_test_score', 'rank_test_score'])\n"
     ]
    }
   ],
   "source": [
    "print(rs.cv_results_.keys())"
   ]
  },
  {
   "cell_type": "code",
   "execution_count": 129,
   "id": "dc65f3fd",
   "metadata": {},
   "outputs": [
    {
     "name": "stdout",
     "output_type": "stream",
     "text": [
      "[0.86203543 0.86203524 0.86453672 0.8639598  0.86434441 0.86184534\n",
      " 0.86280669 0.86684608 0.86607592 0.86203561 0.85972662 0.8603054\n",
      " 0.86338306 0.86145813 0.86222792 0.86145739 0.86761605 0.86261272\n",
      " 0.86184238 0.86396109 0.86453709 0.86646165 0.86184312 0.86665322\n",
      " 0.86165044 0.86030484 0.86299845 0.86742356 0.86203543 0.86838658\n",
      " 0.86319186 0.86819334 0.85799659 0.86242023 0.86203561 0.86299752\n",
      " 0.86261309 0.86049733 0.86857833 0.86299752 0.86800085 0.86203543\n",
      " 0.8664635  0.86415451 0.86588473 0.86338362 0.8678091  0.86357611\n",
      " 0.8624206  0.85857315 0.86203543 0.86742374 0.86607629 0.86838639\n",
      " 0.86107333 0.86030466 0.86203543 0.86376805 0.86396146 0.86954098\n",
      " 0.86954079 0.86800104 0.86145739 0.86242023 0.85972662 0.86261327\n",
      " 0.86684626 0.86703913 0.86472958 0.86280503 0.86607814 0.86530632\n",
      " 0.86800104 0.86203543 0.86088325 0.86261272 0.86299826 0.86242004\n",
      " 0.86242023 0.86203543 0.86222773 0.86280558 0.8660787  0.85953413\n",
      " 0.86800104 0.86145739 0.86184293 0.86588491 0.86184293 0.86761661\n",
      " 0.86203543 0.86203543 0.86145813 0.86184275 0.8620358  0.86299752\n",
      " 0.86242023 0.86780873 0.86299752 0.86299752]\n"
     ]
    }
   ],
   "source": [
    "print(rs.cv_results_['mean_test_score'])"
   ]
  },
  {
   "cell_type": "code",
   "execution_count": 130,
   "id": "d580ad75",
   "metadata": {},
   "outputs": [
    {
     "data": {
      "text/plain": [
       "0.8695409787517583"
      ]
     },
     "execution_count": 130,
     "metadata": {},
     "output_type": "execute_result"
    }
   ],
   "source": [
    "np.max(rs.cv_results_['mean_test_score'])"
   ]
  },
  {
   "cell_type": "code",
   "execution_count": 132,
   "id": "28265025",
   "metadata": {},
   "outputs": [
    {
     "name": "stdout",
     "output_type": "stream",
     "text": [
      "0.8615384615384616\n"
     ]
    }
   ],
   "source": [
    "dtc = gs.best_estimator_\n",
    "print(dtc.score(test_input,test_target))"
   ]
  }
 ],
 "metadata": {
  "kernelspec": {
   "display_name": "ml_kernel",
   "language": "python",
   "name": "ml"
  },
  "language_info": {
   "codemirror_mode": {
    "name": "ipython",
    "version": 3
   },
   "file_extension": ".py",
   "mimetype": "text/x-python",
   "name": "python",
   "nbconvert_exporter": "python",
   "pygments_lexer": "ipython3",
   "version": "3.9.12"
  }
 },
 "nbformat": 4,
 "nbformat_minor": 5
}
