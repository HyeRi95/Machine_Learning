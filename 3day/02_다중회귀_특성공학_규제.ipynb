{
 "cells": [
  {
   "cell_type": "markdown",
   "id": "71c06528",
   "metadata": {},
   "source": [
    "## 다중회귀모델(Multiple Regression Model)\n",
    "#### - 여러개의 특성(독립변수 = 항목 = 컬럼 = 변수 = *퓨처)을 사용한 선형 회귀\n",
    "#### - 특성이 많을 수록, 복잡도가 높아 집니다\n",
    "#### - 1개의 특성으로 선형회귀모델이 '직선'을 학습한다면,\n",
    "#### - 2개이상의 특성으로는 선형회귀모델이 '평면'을 학습하게 됩니다\n",
    "##### \n",
    "## 다중회귀모델 공식(방정식)\n",
    "#### y = a*특성 + b*특성2 + c*특성3 +.....+ y절편"
   ]
  },
  {
   "cell_type": "markdown",
   "id": "93b52dc4",
   "metadata": {},
   "source": [
    "### 데이터 불러오기"
   ]
  },
  {
   "cell_type": "code",
   "execution_count": 1,
   "id": "1f5184d4",
   "metadata": {},
   "outputs": [],
   "source": [
    "import pandas as pd \n",
    "import numpy as np"
   ]
  },
  {
   "cell_type": "code",
   "execution_count": 68,
   "id": "42208de9",
   "metadata": {},
   "outputs": [
    {
     "data": {
      "text/html": [
       "<div>\n",
       "<style scoped>\n",
       "    .dataframe tbody tr th:only-of-type {\n",
       "        vertical-align: middle;\n",
       "    }\n",
       "\n",
       "    .dataframe tbody tr th {\n",
       "        vertical-align: top;\n",
       "    }\n",
       "\n",
       "    .dataframe thead th {\n",
       "        text-align: right;\n",
       "    }\n",
       "</style>\n",
       "<table border=\"1\" class=\"dataframe\">\n",
       "  <thead>\n",
       "    <tr style=\"text-align: right;\">\n",
       "      <th></th>\n",
       "      <th>length</th>\n",
       "      <th>height</th>\n",
       "      <th>width</th>\n",
       "    </tr>\n",
       "  </thead>\n",
       "  <tbody>\n",
       "    <tr>\n",
       "      <th>0</th>\n",
       "      <td>8.4</td>\n",
       "      <td>2.11</td>\n",
       "      <td>1.41</td>\n",
       "    </tr>\n",
       "    <tr>\n",
       "      <th>1</th>\n",
       "      <td>13.7</td>\n",
       "      <td>3.53</td>\n",
       "      <td>2.00</td>\n",
       "    </tr>\n",
       "    <tr>\n",
       "      <th>2</th>\n",
       "      <td>15.0</td>\n",
       "      <td>3.82</td>\n",
       "      <td>2.43</td>\n",
       "    </tr>\n",
       "    <tr>\n",
       "      <th>3</th>\n",
       "      <td>16.2</td>\n",
       "      <td>4.59</td>\n",
       "      <td>2.63</td>\n",
       "    </tr>\n",
       "    <tr>\n",
       "      <th>4</th>\n",
       "      <td>17.4</td>\n",
       "      <td>4.59</td>\n",
       "      <td>2.94</td>\n",
       "    </tr>\n",
       "  </tbody>\n",
       "</table>\n",
       "</div>"
      ],
      "text/plain": [
       "   length   height   width\n",
       "0     8.4     2.11    1.41\n",
       "1    13.7     3.53    2.00\n",
       "2    15.0     3.82    2.43\n",
       "3    16.2     4.59    2.63\n",
       "4    17.4     4.59    2.94"
      ]
     },
     "execution_count": 68,
     "metadata": {},
     "output_type": "execute_result"
    }
   ],
   "source": [
    "df = pd.read_csv('./data/03_농어의_길이_높이_두께_데이터.csv')\n",
    "df.head()"
   ]
  },
  {
   "cell_type": "markdown",
   "id": "8d985e17",
   "metadata": {},
   "source": [
    "##  < 사용할 데이터 >\n",
    "#### - 훈련데이터(독립변수) : 길이(length), 높이(height), 두께(width)\n",
    "#### - target데이터(종속변수) : 무게\n",
    "#### - 새로 추가할 데이터 : (길이*높이) = 면적\n",
    "#### - 모든 작업은 sklearn에서 제공하는 함수 이용\n",
    "## \n",
    "## 특성공학\n",
    "#### - 기존의 특성을 이용해서 ' 새로운특성(항목)'을 만들어 내는 작업\n",
    "#### "
   ]
  },
  {
   "cell_type": "code",
   "execution_count": 3,
   "id": "a72e8445",
   "metadata": {},
   "outputs": [],
   "source": [
    "### 데이터 프레임을 2차원으로 바꾸기\n",
    "# 데이터프레임은 2차원\n",
    "# to_numpy()\n",
    "# perch_full : 훈련데이터\n",
    "\n",
    "perch_full = df.to_numpy()"
   ]
  },
  {
   "cell_type": "code",
   "execution_count": 4,
   "id": "e7b753c0",
   "metadata": {},
   "outputs": [],
   "source": [
    "perch_weight = np.array(\n",
    "    [5.9, 32.0, 40.0, 51.5, 70.0, 100.0, 78.0, 80.0, 85.0, 85.0, \n",
    "     110.0, 115.0, 125.0, 130.0, 120.0, 120.0, 130.0, 135.0, 110.0, \n",
    "     130.0, 150.0, 145.0, 150.0, 170.0, 225.0, 145.0, 188.0, 180.0, \n",
    "     197.0, 218.0, 300.0, 260.0, 265.0, 250.0, 250.0, 300.0, 320.0, \n",
    "     514.0, 556.0, 840.0, 685.0, 700.0, 700.0, 690.0, 900.0, 650.0, \n",
    "     820.0, 850.0, 900.0, 1015.0, 820.0, 1100.0, 1000.0, 1100.0, \n",
    "     1000.0, 1000.0]\n",
    "     )"
   ]
  },
  {
   "cell_type": "code",
   "execution_count": 5,
   "id": "ef4bf2c9",
   "metadata": {},
   "outputs": [],
   "source": [
    "from sklearn.model_selection import train_test_split"
   ]
  },
  {
   "cell_type": "code",
   "execution_count": 6,
   "id": "1afe3e1e",
   "metadata": {},
   "outputs": [],
   "source": [
    "# 훈련데이터와 테스트데이터 분리하기\n",
    "# 훈련데이터/테스트데이터 세트 생성하기 \n",
    "# 순서 중요,,! \n",
    "train_input,test_input, train_target,test_target = train_test_split(perch_full, perch_weight, random_state=42)"
   ]
  },
  {
   "cell_type": "code",
   "execution_count": 76,
   "id": "5240079f",
   "metadata": {},
   "outputs": [
    {
     "name": "stdout",
     "output_type": "stream",
     "text": [
      "(42, 3)\n",
      "(42,)\n",
      "(14, 3)\n",
      "(14,)\n"
     ]
    },
    {
     "data": {
      "text/plain": [
       "array([[19.6 ,  5.14,  3.04],\n",
       "       [22.  ,  5.88,  3.52],\n",
       "       [18.7 ,  5.2 ,  3.12],\n",
       "       [17.4 ,  4.59,  2.94],\n",
       "       [36.  , 10.61,  6.74],\n",
       "       [25.  ,  6.44,  3.68],\n",
       "       [40.  , 11.93,  7.11],\n",
       "       [39.  , 12.43,  7.35],\n",
       "       [43.  , 11.93,  7.28],\n",
       "       [22.  ,  5.64,  3.52],\n",
       "       [20.  ,  5.08,  2.77],\n",
       "       [22.  ,  6.11,  3.52],\n",
       "       [24.  ,  7.29,  3.72],\n",
       "       [27.5 ,  7.17,  4.34],\n",
       "       [43.  , 12.51,  7.42],\n",
       "       [40.  , 11.73,  7.22],\n",
       "       [24.  ,  6.38,  3.82],\n",
       "       [21.  ,  5.92,  3.31],\n",
       "       [27.5 ,  7.05,  4.34],\n",
       "       [40.  , 12.38,  7.46],\n",
       "       [32.8 , 10.03,  6.02],\n",
       "       [26.5 ,  7.17,  4.14],\n",
       "       [36.5 , 10.88,  6.86],\n",
       "       [13.7 ,  3.53,  2.  ],\n",
       "       [22.7 ,  5.95,  3.63],\n",
       "       [15.  ,  3.82,  2.43],\n",
       "       [37.  , 10.57,  6.37],\n",
       "       [35.  , 11.49,  7.8 ],\n",
       "       [28.7 ,  7.59,  4.64],\n",
       "       [23.5 ,  6.28,  3.72],\n",
       "       [39.  , 11.14,  6.  ],\n",
       "       [21.  ,  5.69,  3.56],\n",
       "       [23.  ,  5.22,  3.63],\n",
       "       [22.  ,  5.52,  4.  ],\n",
       "       [44.  , 12.49,  7.6 ],\n",
       "       [22.5 ,  6.79,  3.62],\n",
       "       [19.  ,  5.64,  3.05],\n",
       "       [37.  , 10.84,  6.26],\n",
       "       [22.  ,  6.11,  3.41],\n",
       "       [25.6 ,  6.56,  4.24],\n",
       "       [42.  , 12.8 ,  6.87],\n",
       "       [34.5 , 10.26,  6.39]])"
      ]
     },
     "execution_count": 76,
     "metadata": {},
     "output_type": "execute_result"
    }
   ],
   "source": [
    "print(train_input.shape)\n",
    "print(train_target.shape)\n",
    "print(test_input.shape)\n",
    "print(test_target.shape)\n",
    "train_input\n"
   ]
  },
  {
   "cell_type": "code",
   "execution_count": 8,
   "id": "be1eae9a",
   "metadata": {},
   "outputs": [],
   "source": [
    "# sklearn 변환기 클래스 \n",
    "from sklearn.preprocessing import PolynomialFeatures"
   ]
  },
  {
   "cell_type": "code",
   "execution_count": 9,
   "id": "5d50e676",
   "metadata": {},
   "outputs": [
    {
     "name": "stdout",
     "output_type": "stream",
     "text": [
      "[[2. 3. 4. 6. 9.]]\n"
     ]
    }
   ],
   "source": [
    "## 객체생성(모델)\n",
    "# poly = PolynomialFeatures()\n",
    "poly = PolynomialFeatures(include_bias = False)\n",
    "\n",
    "## 임의값 사용\n",
    "temp_data = [[2,3]]\n",
    "\n",
    "### 훈련시키기 ; 새롭게 만들 스스로 특성 조합 찾기\n",
    "poly.fit(temp_data)\n",
    "\n",
    "## 찾은 특성 조합으로 데이터 변환하기\n",
    "print(poly.transform(temp_data))\n",
    "\n",
    "## <변환기 특성 조합 생성 규칙> ---- 틀렷나..? 아닐수도? \n",
    "# - 첫번째 나온 1의값 : y 절편값 (무조건 처음에는 1이 나옴)\n",
    "# - 두번째 ~ 세번째 : 자기자신의 값을 그대로 넣는다 (원본데이터 그대로)\n",
    "# - 네번째 : 2의 값을 제곱 \n",
    "# - 다섯번째 : 2*3\n",
    "# - 여섯번째 : 3의 제곱 \n",
    "\n",
    "# y 절편 1의 값은 PolynomialFeatures 클래스에서 기본적으로\n",
    "# 특성에 추가된 절편값을 무시\n",
    "# - 추가된 y 절편 1의 값은 무시해도 되는 값 \n",
    "# - 보통 PolynomialFeatures 클래스 생성시에 제외시키는 속성을 사용\n",
    "# - include_bias = False 옵션 사용하면 y 절편값 제외시킨다 PolynomialFeatures(include_bias = False)"
   ]
  },
  {
   "cell_type": "markdown",
   "id": "f428f6ba",
   "metadata": {},
   "source": [
    "## 특성 만들기 : sklearn의 변환기\n",
    "#### - sklearn은 특성을 만들거나 전처리 하기위한 다양한 객체를 제공\n",
    "#### - sklearn에서 제공하는 이런 클래스들을 '변환기' 라고 부름\n",
    "## <특성 생성 패키지 >\n",
    "#### - 사용되는 패키지 : sklearn.preprocessing\n",
    "#### - 사용되는 클래스 : PolynomialFeatures\n",
    "#### - 사용되는 함수 : fit(), transforem() , fit_transforms()\n",
    "#### - 특성생성시 사용하는 데이터는 train_input, test_input 2개\n",
    "#### - 훈련에 영향을 미치는 특성(항목)을스스로 찾아서 생성하는 것이 목적이기 때문에 target데이터는 해당사항이 없다 ( 정답은 변경되면 안된다)"
   ]
  },
  {
   "cell_type": "code",
   "execution_count": 73,
   "id": "98bed615",
   "metadata": {},
   "outputs": [
    {
     "name": "stdout",
     "output_type": "stream",
     "text": [
      "(42, 9)\n",
      "(14, 9)\n"
     ]
    },
    {
     "data": {
      "text/plain": [
       "array([[  19.6   ,    5.14  ,    3.04  ,  384.16  ,  100.744 ,   59.584 ,\n",
       "          26.4196,   15.6256,    9.2416],\n",
       "       [  22.    ,    5.88  ,    3.52  ,  484.    ,  129.36  ,   77.44  ,\n",
       "          34.5744,   20.6976,   12.3904],\n",
       "       [  18.7   ,    5.2   ,    3.12  ,  349.69  ,   97.24  ,   58.344 ,\n",
       "          27.04  ,   16.224 ,    9.7344],\n",
       "       [  17.4   ,    4.59  ,    2.94  ,  302.76  ,   79.866 ,   51.156 ,\n",
       "          21.0681,   13.4946,    8.6436],\n",
       "       [  36.    ,   10.61  ,    6.74  , 1296.    ,  381.96  ,  242.64  ,\n",
       "         112.5721,   71.5114,   45.4276],\n",
       "       [  25.    ,    6.44  ,    3.68  ,  625.    ,  161.    ,   92.    ,\n",
       "          41.4736,   23.6992,   13.5424],\n",
       "       [  40.    ,   11.93  ,    7.11  , 1600.    ,  477.2   ,  284.4   ,\n",
       "         142.3249,   84.8223,   50.5521],\n",
       "       [  39.    ,   12.43  ,    7.35  , 1521.    ,  484.77  ,  286.65  ,\n",
       "         154.5049,   91.3605,   54.0225],\n",
       "       [  43.    ,   11.93  ,    7.28  , 1849.    ,  512.99  ,  313.04  ,\n",
       "         142.3249,   86.8504,   52.9984],\n",
       "       [  22.    ,    5.64  ,    3.52  ,  484.    ,  124.08  ,   77.44  ,\n",
       "          31.8096,   19.8528,   12.3904],\n",
       "       [  20.    ,    5.08  ,    2.77  ,  400.    ,  101.6   ,   55.4   ,\n",
       "          25.8064,   14.0716,    7.6729],\n",
       "       [  22.    ,    6.11  ,    3.52  ,  484.    ,  134.42  ,   77.44  ,\n",
       "          37.3321,   21.5072,   12.3904],\n",
       "       [  24.    ,    7.29  ,    3.72  ,  576.    ,  174.96  ,   89.28  ,\n",
       "          53.1441,   27.1188,   13.8384],\n",
       "       [  27.5   ,    7.17  ,    4.34  ,  756.25  ,  197.175 ,  119.35  ,\n",
       "          51.4089,   31.1178,   18.8356],\n",
       "       [  43.    ,   12.51  ,    7.42  , 1849.    ,  537.93  ,  319.06  ,\n",
       "         156.5001,   92.8242,   55.0564],\n",
       "       [  40.    ,   11.73  ,    7.22  , 1600.    ,  469.2   ,  288.8   ,\n",
       "         137.5929,   84.6906,   52.1284],\n",
       "       [  24.    ,    6.38  ,    3.82  ,  576.    ,  153.12  ,   91.68  ,\n",
       "          40.7044,   24.3716,   14.5924],\n",
       "       [  21.    ,    5.92  ,    3.31  ,  441.    ,  124.32  ,   69.51  ,\n",
       "          35.0464,   19.5952,   10.9561],\n",
       "       [  27.5   ,    7.05  ,    4.34  ,  756.25  ,  193.875 ,  119.35  ,\n",
       "          49.7025,   30.597 ,   18.8356],\n",
       "       [  40.    ,   12.38  ,    7.46  , 1600.    ,  495.2   ,  298.4   ,\n",
       "         153.2644,   92.3548,   55.6516],\n",
       "       [  32.8   ,   10.03  ,    6.02  , 1075.84  ,  328.984 ,  197.456 ,\n",
       "         100.6009,   60.3806,   36.2404],\n",
       "       [  26.5   ,    7.17  ,    4.14  ,  702.25  ,  190.005 ,  109.71  ,\n",
       "          51.4089,   29.6838,   17.1396],\n",
       "       [  36.5   ,   10.88  ,    6.86  , 1332.25  ,  397.12  ,  250.39  ,\n",
       "         118.3744,   74.6368,   47.0596],\n",
       "       [  13.7   ,    3.53  ,    2.    ,  187.69  ,   48.361 ,   27.4   ,\n",
       "          12.4609,    7.06  ,    4.    ],\n",
       "       [  22.7   ,    5.95  ,    3.63  ,  515.29  ,  135.065 ,   82.401 ,\n",
       "          35.4025,   21.5985,   13.1769],\n",
       "       [  15.    ,    3.82  ,    2.43  ,  225.    ,   57.3   ,   36.45  ,\n",
       "          14.5924,    9.2826,    5.9049],\n",
       "       [  37.    ,   10.57  ,    6.37  , 1369.    ,  391.09  ,  235.69  ,\n",
       "         111.7249,   67.3309,   40.5769],\n",
       "       [  35.    ,   11.49  ,    7.8   , 1225.    ,  402.15  ,  273.    ,\n",
       "         132.0201,   89.622 ,   60.84  ],\n",
       "       [  28.7   ,    7.59  ,    4.64  ,  823.69  ,  217.833 ,  133.168 ,\n",
       "          57.6081,   35.2176,   21.5296],\n",
       "       [  23.5   ,    6.28  ,    3.72  ,  552.25  ,  147.58  ,   87.42  ,\n",
       "          39.4384,   23.3616,   13.8384],\n",
       "       [  39.    ,   11.14  ,    6.    , 1521.    ,  434.46  ,  234.    ,\n",
       "         124.0996,   66.84  ,   36.    ],\n",
       "       [  21.    ,    5.69  ,    3.56  ,  441.    ,  119.49  ,   74.76  ,\n",
       "          32.3761,   20.2564,   12.6736],\n",
       "       [  23.    ,    5.22  ,    3.63  ,  529.    ,  120.06  ,   83.49  ,\n",
       "          27.2484,   18.9486,   13.1769],\n",
       "       [  22.    ,    5.52  ,    4.    ,  484.    ,  121.44  ,   88.    ,\n",
       "          30.4704,   22.08  ,   16.    ],\n",
       "       [  44.    ,   12.49  ,    7.6   , 1936.    ,  549.56  ,  334.4   ,\n",
       "         156.0001,   94.924 ,   57.76  ],\n",
       "       [  22.5   ,    6.79  ,    3.62  ,  506.25  ,  152.775 ,   81.45  ,\n",
       "          46.1041,   24.5798,   13.1044],\n",
       "       [  19.    ,    5.64  ,    3.05  ,  361.    ,  107.16  ,   57.95  ,\n",
       "          31.8096,   17.202 ,    9.3025],\n",
       "       [  37.    ,   10.84  ,    6.26  , 1369.    ,  401.08  ,  231.62  ,\n",
       "         117.5056,   67.8584,   39.1876],\n",
       "       [  22.    ,    6.11  ,    3.41  ,  484.    ,  134.42  ,   75.02  ,\n",
       "          37.3321,   20.8351,   11.6281],\n",
       "       [  25.6   ,    6.56  ,    4.24  ,  655.36  ,  167.936 ,  108.544 ,\n",
       "          43.0336,   27.8144,   17.9776],\n",
       "       [  42.    ,   12.8   ,    6.87  , 1764.    ,  537.6   ,  288.54  ,\n",
       "         163.84  ,   87.936 ,   47.1969],\n",
       "       [  34.5   ,   10.26  ,    6.39  , 1190.25  ,  353.97  ,  220.455 ,\n",
       "         105.2676,   65.5614,   40.8321]])"
      ]
     },
     "execution_count": 73,
     "metadata": {},
     "output_type": "execute_result"
    }
   ],
   "source": [
    "## 특성항목 조합패턴 : 기본적인 조합은 2차원을 사용 \n",
    "## degree = 2 \n",
    "\n",
    "# 객체생성 (모델)\n",
    "poly = PolynomialFeatures(include_bias = False)\n",
    "\n",
    "# 훈련시키기\n",
    "train_poly = poly.fit(train_input)\n",
    "\n",
    "# 훈련데이터 변환히기\n",
    "train_poly = poly.transform(train_input)\n",
    "\n",
    "# 테스트데이터 변환하기\n",
    "test_poly = poly.transform(test_input)\n",
    "\n",
    "print(train_poly.shape)\n",
    "print(test_poly.shape)"
   ]
  },
  {
   "cell_type": "code",
   "execution_count": 14,
   "id": "3facb9c3",
   "metadata": {},
   "outputs": [
    {
     "data": {
      "text/plain": [
       "array(['x0', 'x1', 'x2', 'x0^2', 'x0 x1', 'x0 x2', 'x1^2', 'x1 x2',\n",
       "       'x2^2'], dtype=object)"
      ]
     },
     "execution_count": 14,
     "metadata": {},
     "output_type": "execute_result"
    }
   ],
   "source": [
    "# 훈련모델이 사용된 조합의 패턴을 가지고 있다\n",
    "poly.get_feature_names()\n",
    "poly.get_feature_names_out()\n",
    "\n",
    "# 원래값 x0, x1, x2 "
   ]
  },
  {
   "cell_type": "markdown",
   "id": "6fff1575",
   "metadata": {},
   "source": [
    "## 다중회귀 모델 훈련하기 : 훈련모델 생성 "
   ]
  },
  {
   "cell_type": "code",
   "execution_count": null,
   "id": "ffc0ea44",
   "metadata": {},
   "outputs": [],
   "source": [
    "### 훈련데이터와 테스트데이터 결정값 확인"
   ]
  },
  {
   "cell_type": "code",
   "execution_count": 16,
   "id": "f68991ee",
   "metadata": {},
   "outputs": [],
   "source": [
    "from sklearn.linear_model import LinearRegression"
   ]
  },
  {
   "cell_type": "code",
   "execution_count": 18,
   "id": "aa52bb8c",
   "metadata": {},
   "outputs": [
    {
     "name": "stdout",
     "output_type": "stream",
     "text": [
      "훈련 =  0.9903183436982126\n",
      "테스트 =  0.9714559911594125\n"
     ]
    }
   ],
   "source": [
    "# 객체생성(모델생성)\n",
    "lr = LinearRegression()\n",
    "\n",
    "# 훈련모델생성\n",
    "lr.fit(train_poly, train_target)\n",
    "\n",
    "#결정값 확인 \n",
    "print('훈련 = ',lr.score(train_poly, train_target))\n",
    "print('테스트 = ',lr.score(test_poly, test_target))"
   ]
  },
  {
   "cell_type": "code",
   "execution_count": 19,
   "id": "7e8f9e08",
   "metadata": {},
   "outputs": [
    {
     "name": "stdout",
     "output_type": "stream",
     "text": [
      "(42, 55)\n",
      "(14, 55)\n"
     ]
    }
   ],
   "source": [
    "# 객체생성 (모델)\n",
    "poly = PolynomialFeatures(degree=5, include_bias = False)\n",
    "\n",
    "# 훈련시키기\n",
    "train_poly = poly.fit(train_input)\n",
    "\n",
    "# 훈련데이터 변환히기\n",
    "train_poly = poly.transform(train_input)\n",
    "\n",
    "# 테스트데이터 변환하기\n",
    "test_poly = poly.transform(test_input)\n",
    "\n",
    "print(train_poly.shape)\n",
    "print(test_poly.shape)"
   ]
  },
  {
   "cell_type": "code",
   "execution_count": 22,
   "id": "8381ce95",
   "metadata": {},
   "outputs": [
    {
     "data": {
      "text/plain": [
       "array(['x0', 'x1', 'x2', 'x0^2', 'x0 x1', 'x0 x2', 'x1^2', 'x1 x2',\n",
       "       'x2^2', 'x0^3', 'x0^2 x1', 'x0^2 x2', 'x0 x1^2', 'x0 x1 x2',\n",
       "       'x0 x2^2', 'x1^3', 'x1^2 x2', 'x1 x2^2', 'x2^3', 'x0^4', 'x0^3 x1',\n",
       "       'x0^3 x2', 'x0^2 x1^2', 'x0^2 x1 x2', 'x0^2 x2^2', 'x0 x1^3',\n",
       "       'x0 x1^2 x2', 'x0 x1 x2^2', 'x0 x2^3', 'x1^4', 'x1^3 x2',\n",
       "       'x1^2 x2^2', 'x1 x2^3', 'x2^4', 'x0^5', 'x0^4 x1', 'x0^4 x2',\n",
       "       'x0^3 x1^2', 'x0^3 x1 x2', 'x0^3 x2^2', 'x0^2 x1^3',\n",
       "       'x0^2 x1^2 x2', 'x0^2 x1 x2^2', 'x0^2 x2^3', 'x0 x1^4',\n",
       "       'x0 x1^3 x2', 'x0 x1^2 x2^2', 'x0 x1 x2^3', 'x0 x2^4', 'x1^5',\n",
       "       'x1^4 x2', 'x1^3 x2^2', 'x1^2 x2^3', 'x1 x2^4', 'x2^5'],\n",
       "      dtype=object)"
      ]
     },
     "execution_count": 22,
     "metadata": {},
     "output_type": "execute_result"
    }
   ],
   "source": [
    "poly.get_feature_names_out()"
   ]
  },
  {
   "cell_type": "code",
   "execution_count": 23,
   "id": "b66b873a",
   "metadata": {},
   "outputs": [
    {
     "name": "stdout",
     "output_type": "stream",
     "text": [
      "훈련 0.9999999999997232\n",
      "테스트 -144.40564483377855\n"
     ]
    }
   ],
   "source": [
    "lr.fit(train_poly, train_target)\n",
    "print('훈련', lr.score(train_poly, train_target))\n",
    "print('테스트',lr.score(test_poly, test_target))"
   ]
  },
  {
   "cell_type": "markdown",
   "id": "cf5098a7",
   "metadata": {},
   "source": [
    "### [해석]\n",
    "##### - 테스트 평가결과는 매우 큰 음수값 발생\n",
    "##### - 훈련 평가결과는 매우 좋다\n",
    "##### - 이 모델 훈련결과가 좋을수록 테스트결과가 안좋게 나오는 결과를 보일 수 있습니다\n",
    "##### - 과대적합"
   ]
  },
  {
   "cell_type": "markdown",
   "id": "d0817ccc",
   "metadata": {},
   "source": [
    "## 과적합을 줄이는 방법 :규제\n",
    "#### - 규제 : 과대적합이 일어나지 않도록 제어한느 개념\n",
    "#### - 계수(기울기포함)의 값을 줄이는 방법을 규제라고 합니다\n",
    "#### - 규제 개념이 적용된 모델 : 릿지(ridge)회귀모델, 라쏘(lasso)회귀모델\n",
    "#### - 주로 릿지(ridge)회귀모델을 선호하는 편\n",
    "\n",
    "## <규제순서>\n",
    "#### 1. 정규화 : 스케일이 달느 항목들을 표준점수로 동일하게 표준화 합니다.\n",
    "#### - 표준점수는 sklearn에서 제공하는 클래스 사용\n",
    "#### 2. 릿지 및 라쏘 모델 적용\n",
    "## 릿지(ridge)\n",
    "#### - 계수를 제곱한 값을 기준으로 규제를 적용\n",
    "#### - 사용패키지 : sklearn.linear_model\n",
    "#### - 사용클래스(모델) : Ridge\n",
    "#### - 훈련, 평가, 테스트 : 기존과 동일한 함수 사용\n",
    "## 라쏘(lasso)\n",
    "#### - 계수의 절대값을 기준으로 규제를 적용\n",
    "#### 계수의 값을 0으로 만들수도 있다\n",
    "#### - 사용패키지 : sklearn.linear_model\n",
    "#### - 사용클래스 (모델) : Lasso\n",
    "#### - 훈련, 평가, 테스트 : 기존과 동일한 함수 사용 "
   ]
  },
  {
   "cell_type": "code",
   "execution_count": 24,
   "id": "7aa72396",
   "metadata": {},
   "outputs": [],
   "source": [
    "### 정규화(또는 표준화)\n",
    "\n",
    "### 사용패키지 \n",
    "from sklearn.preprocessing import StandardScaler"
   ]
  },
  {
   "cell_type": "code",
   "execution_count": 25,
   "id": "843fccf2",
   "metadata": {},
   "outputs": [],
   "source": [
    "### 클래스 (모델) 생성하기\n",
    "ss = StandardScaler()"
   ]
  },
  {
   "cell_type": "code",
   "execution_count": null,
   "id": "52f28051",
   "metadata": {},
   "outputs": [],
   "source": [
    "ss.fit(train_poly, train_target)"
   ]
  },
  {
   "cell_type": "code",
   "execution_count": 30,
   "id": "8c87a940",
   "metadata": {},
   "outputs": [
    {
     "name": "stdout",
     "output_type": "stream",
     "text": [
      "[2.84452381e+01 8.04238095e+00 4.82047619e+00 8.85315000e+02\n",
      " 2.53486881e+02 1.51959000e+02 7.29365000e+01 4.36999452e+01\n",
      " 2.62868381e+01 2.97326070e+04 8.59817581e+03 5.15200651e+03\n",
      " 2.49680043e+03 1.49567194e+03 8.99184494e+02 7.27945149e+02\n",
      " 4.36019840e+02 2.62115117e+02 1.58141990e+02 1.05917983e+06\n",
      " 3.08429517e+05 1.84644673e+05 9.01239554e+04 5.39478286e+04\n",
      " 3.23998082e+04 2.64224658e+04 1.58167367e+04 9.49991053e+03\n",
      " 5.72489005e+03 7.77162422e+03 4.65285399e+03 2.79521756e+03\n",
      " 1.68494739e+03 1.01911272e+03 3.93876111e+07 1.15192532e+07\n",
      " 6.88842737e+06 3.37865413e+06 2.02034307e+06 1.21184517e+06\n",
      " 9.93774754e+05 5.94291271e+05 3.56516573e+05 2.14541208e+05\n",
      " 2.93110780e+05 1.75313851e+05 1.05196649e+05 6.33244641e+04\n",
      " 3.82394901e+04 8.66870097e+04 5.18625239e+04 3.11308026e+04\n",
      " 1.87477065e+04 1.13270112e+04 6.86569419e+03] [8.72831196e+00 2.87343151e+00 1.74638123e+00 5.24782988e+02\n",
      " 1.60836428e+02 9.64793789e+01 4.95165749e+01 2.97578956e+01\n",
      " 1.81139412e+01 2.50155373e+04 7.49275582e+03 4.47153009e+03\n",
      " 2.25433695e+03 1.34683566e+03 8.11988865e+02 6.81265335e+02\n",
      " 4.07639942e+02 2.46263218e+02 1.50164227e+02 1.10854579e+06\n",
      " 3.28247889e+05 1.95342267e+05 9.76153931e+04 5.81064317e+04\n",
      " 3.48472685e+04 2.91591483e+04 1.73674986e+04 1.04273041e+04\n",
      " 6.30922253e+03 8.75059964e+03 5.21694989e+03 3.13701782e+03\n",
      " 1.90225250e+03 1.16311955e+03 4.77814865e+07 1.40483165e+07\n",
      " 8.34702250e+06 4.14736151e+06 2.46313653e+06 1.47240427e+06\n",
      " 1.22970655e+06 7.30196641e+05 4.36628701e+05 2.62841007e+05\n",
      " 3.66270535e+05 2.17518714e+05 1.30152823e+05 7.84482709e+04\n",
      " 4.76246733e+04 1.09609367e+05 6.51258832e+04 3.90090183e+04\n",
      " 2.35520992e+04 1.43325296e+04 8.79122582e+03]\n"
     ]
    }
   ],
   "source": [
    "## 훈련데이터 표준점수로 변환하기\n",
    "train_scaled = ss.transform(train_poly)\n",
    "test_scaled = ss.transform(test_poly)\n",
    "\n",
    "# print(train_scaled)\n",
    "# print(test_scaled)\n",
    "\n",
    "# 각 데이터는 55개씩\n",
    "# 평균 및 표준편차 확인하기\n",
    "print(ss.mean_,ss.scale_)"
   ]
  },
  {
   "cell_type": "code",
   "execution_count": null,
   "id": "a01f9da2",
   "metadata": {},
   "outputs": [],
   "source": [
    "## 릿지모델과 라쏘모델을 이용해서\n",
    "## 각각 모델에 대한 훈련/테스트 결정계수 확인 "
   ]
  },
  {
   "cell_type": "code",
   "execution_count": 32,
   "id": "8d44972c",
   "metadata": {},
   "outputs": [],
   "source": [
    "from sklearn.linear_model import Ridge"
   ]
  },
  {
   "cell_type": "code",
   "execution_count": 41,
   "id": "853ac3d4",
   "metadata": {},
   "outputs": [
    {
     "name": "stdout",
     "output_type": "stream",
     "text": [
      "ridge model 훈련 = 0.9896101671037343\n",
      "ridge model 테스트 = 0.9790693977615387\n"
     ]
    }
   ],
   "source": [
    "# Ridge 모델\n",
    "# 객체 생성하기 \n",
    "rdg = Ridge()\n",
    "\n",
    "# 훈련 시키기\n",
    "rdg.fit(train_scaled,train_target)\n",
    "\n",
    "# 결정계수\n",
    "print('ridge model 훈련 =',rdg.score(train_scaled,train_target))\n",
    "print('ridge model 테스트 =',rdg.score(test_scaled,test_target))"
   ]
  },
  {
   "cell_type": "code",
   "execution_count": 33,
   "id": "9d3f6567",
   "metadata": {},
   "outputs": [],
   "source": [
    "from sklearn.linear_model import Lasso"
   ]
  },
  {
   "cell_type": "code",
   "execution_count": 42,
   "id": "d0ee6c29",
   "metadata": {},
   "outputs": [
    {
     "name": "stdout",
     "output_type": "stream",
     "text": [
      "lasso model 테스트 = 0.989789897208096\n",
      "lasso model 테스트 = 0.9800593698421883\n"
     ]
    }
   ],
   "source": [
    "# Lasso 모델\n",
    "las = Lasso()\n",
    "\n",
    "# 훈련 시키기\n",
    "las.fit(train_scaled,train_target)\n",
    "\n",
    "# 결정계수\n",
    "print('lasso model 테스트 =',las.score(train_scaled,train_target))\n",
    "print('lasso model 테스트 =',las.score(test_scaled,test_target))"
   ]
  },
  {
   "cell_type": "markdown",
   "id": "bbbc4eec",
   "metadata": {},
   "source": [
    "## 규제강도 조절하기 \n",
    "#### - Ridge 및 Lasso 모델의 경우 규제에 대한 강도를 조절하는 속성이 있다\n",
    "#### - alpha 속성을 사용\n",
    "#### - 규제강도 alpha 속성에 들어가는 값을 알려주는 라이브러리는 없다\n",
    "#### - 사람이 직접 넣어주어야 한다 \n",
    "#### - 보통 모델 함수 속성중에 사람이 직접 값을 넣어주는 속성들을 '하이퍼파라미터' 라고 한다\n",
    "#### - 파라미터 또는 하이퍼파라미터 라는 용어를 간혹 쓰시는 분들이 있다\n",
    "\n",
    "## <alpha 조절값 찾는 방법>\n",
    "#### - 정해진 방법 없다\n",
    "#### - 일반적으로 훈련데이터와 학습데이터로 각각 훈련모델을 생성한 후 평가를 통해 결정계수 값을 이용, 그래프를 그린후에\n",
    "####    훈련데이터와 테스트 데이터의 결정계수 값이 가장 가까워지는 지점의 x 축값을 이용해서 alpha값으로 결정"
   ]
  },
  {
   "cell_type": "code",
   "execution_count": 43,
   "id": "98e4326c",
   "metadata": {},
   "outputs": [],
   "source": [
    "### alpha 강도 조절값 찾아보기\n",
    "import matplotlib.pyplot as plt "
   ]
  },
  {
   "cell_type": "code",
   "execution_count": 52,
   "id": "1e7441df",
   "metadata": {},
   "outputs": [
    {
     "data": {
      "image/png": "[encoded data removed]",
      "text/plain": [
       "<Figure size 576x360 with 1 Axes>"
      ]
     },
     "metadata": {
      "needs_background": "light"
     },
     "output_type": "display_data"
    }
   ],
   "source": [
    "# 훈련시 발생하는 결정계수를 저장할 리스트\n",
    "train_score=[]\n",
    "# 테스트 시 발생하는 결정계수를 저장할 리스트\n",
    "test_score=[]\n",
    "\n",
    "# 임의의 alpha값(x축으로 설정합니다) 설정(범위설정)\n",
    "alpha_list = [0.001, 0.01,0.1, 1,10, 100]\n",
    "\n",
    "### 훈련 및 테스트 결정계수 데이터 조회하기\n",
    "for alpha in alpha_list :\n",
    "    # 릿지 모델\n",
    "    ridge = Ridge(alpha = alpha) # 규제강도 속성 \n",
    "    ridge.fit(train_scaled, train_target)\n",
    "    train_score.append(ridge.score(train_scaled, train_target))\n",
    "    test_score.append(ridge.score(test_scaled, test_target))\n",
    "    \n",
    "\n",
    "## 그래프로 시작화\n",
    "# log10 : 지수로 표현 \n",
    "plt.rc('font',family = 'Malgun Gothic')\n",
    "plt.rcParams['axes.unicode_minus'] = False ## 음수부호 표시하기\n",
    "plt.figure(figsize = (8,5))\n",
    "plt.plot(np.log10(alpha_list), train_score)\n",
    "plt.plot(np.log10(alpha_list),test_score)\n",
    "plt.xlabel('10의 지수')\n",
    "plt.show()\n",
    "\n",
    "# 파랑 : 훈련데이터 \n",
    "# 주황 : 테슽데이터\n",
    "# 테스트데이터가 -2 이하일때, 0이상일떄 : 과소적합 "
   ]
  },
  {
   "cell_type": "code",
   "execution_count": 64,
   "id": "fd009e1a",
   "metadata": {},
   "outputs": [
    {
     "name": "stdout",
     "output_type": "stream",
     "text": [
      "Ridge model 훈련 =  0.9903815817570367\n",
      "Ridge model 테스트 =  0.9827976465386928\n"
     ]
    }
   ],
   "source": [
    "# Ridge 모델 \n",
    "# x 축이 -1 일때 가장 가까운 값 10^-1 = 0.1 이기 때문에 alpha = 0.1 대입 \n",
    "ridge = Ridge(alpha = 0.1)\n",
    "ridge.fit(train_scaled, train_target)\n",
    "print('Ridge model 훈련 = ',ridge.score(train_scaled, train_target))\n",
    "print('Ridge model 테스트 = ',ridge.score(test_scaled, test_target))"
   ]
  },
  {
   "cell_type": "code",
   "execution_count": 57,
   "id": "3953a5c0",
   "metadata": {},
   "outputs": [
    {
     "name": "stderr",
     "output_type": "stream",
     "text": [
      "C:\\Users\\82102\\ml\\lib\\site-packages\\sklearn\\linear_model\\_coordinate_descent.py:648: ConvergenceWarning: Objective did not converge. You might want to increase the number of iterations, check the scale of the features or consider increasing regularisation. Duality gap: 2.336e+04, tolerance: 5.183e+02\n",
      "  model = cd_fast.enet_coordinate_descent(\n",
      "C:\\Users\\82102\\ml\\lib\\site-packages\\sklearn\\linear_model\\_coordinate_descent.py:648: ConvergenceWarning: Objective did not converge. You might want to increase the number of iterations, check the scale of the features or consider increasing regularisation. Duality gap: 2.025e+04, tolerance: 5.183e+02\n",
      "  model = cd_fast.enet_coordinate_descent(\n",
      "C:\\Users\\82102\\ml\\lib\\site-packages\\sklearn\\linear_model\\_coordinate_descent.py:648: ConvergenceWarning: Objective did not converge. You might want to increase the number of iterations, check the scale of the features or consider increasing regularisation. Duality gap: 8.062e+02, tolerance: 5.183e+02\n",
      "  model = cd_fast.enet_coordinate_descent(\n"
     ]
    },
    {
     "data": {
      "image/png": "[encoded data removed]",
      "text/plain": [
       "<Figure size 576x360 with 1 Axes>"
      ]
     },
     "metadata": {
      "needs_background": "light"
     },
     "output_type": "display_data"
    }
   ],
   "source": [
    "# 훈련시 발생하는 결정계수를 저장할 리스트\n",
    "train_score=[]\n",
    "# 테스트 시 발생하는 결정계수를 저장할 리스트\n",
    "test_score=[]\n",
    "\n",
    "# 임의의 alpha값(x축으로 설정합니다) 설정(범위설정)\n",
    "alpha_list = [0.001, 0.01,0.1, 1,10, 100]\n",
    "\n",
    "### 훈련 및 테스트 결정계수 데이터 조회하기\n",
    "for alpha in alpha_list :\n",
    "    # 릿지 모델\n",
    "    lasso = Lasso(alpha = alpha) # 규제강도 속성 \n",
    "    lasso.fit(train_scaled, train_target)\n",
    "    train_score.append(lasso.score(train_scaled, train_target))\n",
    "    test_score.append(lasso.score(test_scaled, test_target))\n",
    "    \n",
    "\n",
    "## 그래프로 시작화\n",
    "# log10 : 지수로 표현 \n",
    "plt.rc('font',family = 'Malgun Gothic')\n",
    "plt.rcParams['axes.unicode_minus'] = False ## 음수부호 표시하기\n",
    "plt.figure(figsize = (8,5))\n",
    "plt.plot(np.log10(alpha_list), train_score)\n",
    "plt.plot(np.log10(alpha_list),test_score)\n",
    "plt.xlabel('10의 지수')\n",
    "plt.show()\n",
    "\n",
    "# 1이후부터 훈련모델 테스트 모델 둘다 과소적합 "
   ]
  },
  {
   "cell_type": "code",
   "execution_count": 63,
   "id": "c7b598e2",
   "metadata": {},
   "outputs": [
    {
     "name": "stdout",
     "output_type": "stream",
     "text": [
      "Lasso model 훈련 =  0.9888067471131867\n",
      "Lasso model 테스트 =  0.9824470598706695\n"
     ]
    }
   ],
   "source": [
    "# Lasso 모델 \n",
    "# x 축이 1일때 가장 가까운 값 10^1 = 10 이기 때문에 alpha = 10 대입 \n",
    "lasso = Lasso(alpha = 10)\n",
    "lasso.fit(train_scaled, train_target)\n",
    "print('Lasso model 훈련 = ',lasso.score(train_scaled, train_target))\n",
    "print('Lasso model 테스트 = ',lasso.score(test_scaled, test_target))"
   ]
  },
  {
   "cell_type": "markdown",
   "id": "e8521c34",
   "metadata": {},
   "source": [
    "#### ridge model 훈련 = 0.9896101671037343\n",
    "#### ridge model 테스트 = 0.9790693977615387\n",
    "#### lasso model 테스트 = 0.989789897208096\n",
    "#### lasso model 테스트 = 0.9800593698421883\n",
    "#### -------------------규제강도 조절 후 --------------------\n",
    "#### Ridge model 훈련 =  0.9903815817570367 **\n",
    "#### Ridge model 테스트 =  0.9827976465386928 **\n",
    "#### Lasso model 훈련 =  0.9888067471131867\n",
    "#### Lasso model 테스트 =  0.9824470598706695\n",
    "# >> 릿지모델로 결정 <<"
   ]
  },
  {
   "cell_type": "markdown",
   "id": "56e3039b",
   "metadata": {},
   "source": [
    "## [문제]\n",
    "#### - 테스트 데이터 : length = 50 , height = 16.49, width=10.6\n",
    "#### - 위 다중, 릿지,라쏘 모두 예측해보기 "
   ]
  },
  {
   "cell_type": "markdown",
   "id": "9f3d0770",
   "metadata": {},
   "source": [
    "> 다중회귀"
   ]
  },
  {
   "cell_type": "code",
   "execution_count": 99,
   "id": "584398b1",
   "metadata": {
    "scrolled": true
   },
   "outputs": [
    {
     "data": {
      "text/plain": [
       "array([-562042.17698383])"
      ]
     },
     "execution_count": 99,
     "metadata": {},
     "output_type": "execute_result"
    }
   ],
   "source": [
    "# 객체생성 (모델)\n",
    "poly = PolynomialFeatures(degree=5,include_bias = False)\n",
    "\n",
    "# 훈련시키기\n",
    "train_poly = poly.fit(train_input)\n",
    "\n",
    "# 훈련데이터 변환히기\n",
    "train_poly = poly.transform(train_input)\n",
    "\n",
    "# 테스트데이터 변환하기\n",
    "test_poly = poly.transform(test_input)\n",
    "\n",
    "# sample 데이터 변환하기\n",
    "sample_poly = poly.transform([[50,16.49,10.6]])\n",
    "\n",
    "# 객체생성(모델생성)\n",
    "lr = LinearRegression()\n",
    "\n",
    "# 훈련모델생성\n",
    "lr.fit(train_poly, train_target)\n",
    "\n",
    "# 테스트 하기\n",
    "lr.score(test_poly, test_target)\n",
    "\n",
    "#예측하기\n",
    "lr.predict(sample_poly)\n",
    "\n"
   ]
  },
  {
   "cell_type": "markdown",
   "id": "d4334d96",
   "metadata": {},
   "source": [
    "> Ridge 모델"
   ]
  },
  {
   "cell_type": "code",
   "execution_count": 100,
   "id": "276b0f7d",
   "metadata": {},
   "outputs": [],
   "source": [
    "from sklearn.preprocessing import StandardScaler"
   ]
  },
  {
   "cell_type": "code",
   "execution_count": 101,
   "id": "a14794f5",
   "metadata": {},
   "outputs": [
    {
     "data": {
      "text/plain": [
       "array([2365.94632465])"
      ]
     },
     "execution_count": 101,
     "metadata": {},
     "output_type": "execute_result"
    }
   ],
   "source": [
    "ss = StandardScaler()\n",
    "ss.fit(train_poly, train_target)\n",
    "\n",
    "## 훈련데이터 표준점수로 변환하기\n",
    "train_scaled = ss.transform(train_poly)\n",
    "test_scaled = ss.transform(test_poly)\n",
    "\n",
    "# sample 데이터 변환\n",
    "sample_new = ss.transform(sample_poly)\n",
    "\n",
    "# Ridge 모델 사용 \n",
    "from sklearn.linear_model import Ridge\n",
    "rdg = Ridge()\n",
    "\n",
    "# 훈련 시키기\n",
    "rdg.fit(train_scaled,train_target)\n",
    "\n",
    "rdg.predict(sample_new)\n",
    "\n",
    "# 결정계수\n",
    "# print('ridge model 훈련 =',rdg.score(train_scaled,train_target))\n",
    "# print('ridge model 테스트 =',rdg.score(test_scaled,test_target))"
   ]
  },
  {
   "cell_type": "markdown",
   "id": "536525e1",
   "metadata": {},
   "source": [
    "> Lasso 모델"
   ]
  },
  {
   "cell_type": "code",
   "execution_count": 108,
   "id": "8e7d3dcc",
   "metadata": {},
   "outputs": [],
   "source": [
    "from sklearn.preprocessing import StandardScaler"
   ]
  },
  {
   "cell_type": "code",
   "execution_count": 109,
   "id": "2bf28d35",
   "metadata": {},
   "outputs": [
    {
     "data": {
      "text/plain": [
       "array([2391.07427405])"
      ]
     },
     "execution_count": 109,
     "metadata": {},
     "output_type": "execute_result"
    }
   ],
   "source": [
    "from sklearn.linear_model import Lasso\n",
    "# Lasso 모델\n",
    "las = Lasso()\n",
    "\n",
    "# 훈련 시키기\n",
    "las.fit(train_scaled,train_target)\n",
    "las.score(test_scaled , test_target)\n",
    "las.predict(sample_new)\n",
    "\n",
    "\n",
    "# 결정계수\n",
    "# print('lasso model 테스트 =',las.score(train_scaled,train_target))\n",
    "# print('lasso model 테스트 =',las.score(test_scaled,test_target))"
   ]
  },
  {
   "cell_type": "markdown",
   "id": "be7562e6",
   "metadata": {},
   "source": [
    "> 규제 강도 조절 후 Ridge 모델 "
   ]
  },
  {
   "cell_type": "code",
   "execution_count": 110,
   "id": "5e16b20b",
   "metadata": {},
   "outputs": [
    {
     "data": {
      "text/plain": [
       "array([2259.84739892])"
      ]
     },
     "execution_count": 110,
     "metadata": {},
     "output_type": "execute_result"
    }
   ],
   "source": [
    "# Ridge 모델 \n",
    "# x 축이 -1 일때 가장 가까운 값 10^-1 = 0.1 이기 때문에 alpha = 0.1 대입 \n",
    "rdg = Ridge(alpha = 0.1)\n",
    "rdg.fit(train_scaled, train_target)\n",
    "rdg.predict(sample_new)"
   ]
  },
  {
   "cell_type": "markdown",
   "id": "6fe07a42",
   "metadata": {},
   "source": [
    "> 규제강도 조절 후 Lasso 모델"
   ]
  },
  {
   "cell_type": "code",
   "execution_count": 111,
   "id": "47f796f0",
   "metadata": {},
   "outputs": [
    {
     "data": {
      "text/plain": [
       "array([2232.10145456])"
      ]
     },
     "execution_count": 111,
     "metadata": {},
     "output_type": "execute_result"
    }
   ],
   "source": [
    "# Lasso 모델 \n",
    "# x 축이 1일때 가장 가까운 값 10^1 = 10 이기 때문에 alpha = 10 대입 \n",
    "las = Lasso(alpha = 10)\n",
    "las.fit(train_scaled, train_target)\n",
    "las.predict(sample_new)"
   ]
  },
  {
   "cell_type": "markdown",
   "id": "b732ec1e",
   "metadata": {},
   "source": [
    "## [문제]"
   ]
  },
  {
   "cell_type": "code",
   "execution_count": 126,
   "id": "0624a905",
   "metadata": {},
   "outputs": [
    {
     "data": {
      "text/html": [
       "<div>\n",
       "<style scoped>\n",
       "    .dataframe tbody tr th:only-of-type {\n",
       "        vertical-align: middle;\n",
       "    }\n",
       "\n",
       "    .dataframe tbody tr th {\n",
       "        vertical-align: top;\n",
       "    }\n",
       "\n",
       "    .dataframe thead th {\n",
       "        text-align: right;\n",
       "    }\n",
       "</style>\n",
       "<table border=\"1\" class=\"dataframe\">\n",
       "  <thead>\n",
       "    <tr style=\"text-align: right;\">\n",
       "      <th></th>\n",
       "      <th>친밀도</th>\n",
       "      <th>적절성</th>\n",
       "      <th>만족도</th>\n",
       "    </tr>\n",
       "  </thead>\n",
       "  <tbody>\n",
       "    <tr>\n",
       "      <th>0</th>\n",
       "      <td>3</td>\n",
       "      <td>4</td>\n",
       "      <td>3</td>\n",
       "    </tr>\n",
       "    <tr>\n",
       "      <th>1</th>\n",
       "      <td>3</td>\n",
       "      <td>3</td>\n",
       "      <td>2</td>\n",
       "    </tr>\n",
       "    <tr>\n",
       "      <th>2</th>\n",
       "      <td>4</td>\n",
       "      <td>4</td>\n",
       "      <td>4</td>\n",
       "    </tr>\n",
       "    <tr>\n",
       "      <th>3</th>\n",
       "      <td>2</td>\n",
       "      <td>2</td>\n",
       "      <td>2</td>\n",
       "    </tr>\n",
       "    <tr>\n",
       "      <th>4</th>\n",
       "      <td>2</td>\n",
       "      <td>2</td>\n",
       "      <td>2</td>\n",
       "    </tr>\n",
       "  </tbody>\n",
       "</table>\n",
       "</div>"
      ],
      "text/plain": [
       "   친밀도  적절성  만족도\n",
       "0    3    4    3\n",
       "1    3    3    2\n",
       "2    4    4    4\n",
       "3    2    2    2\n",
       "4    2    2    2"
      ]
     },
     "execution_count": 126,
     "metadata": {},
     "output_type": "execute_result"
    }
   ],
   "source": [
    "data = pd.read_csv('./data/04_(문제)_회귀모델_drinking_water.csv')\n",
    "data.head()"
   ]
  },
  {
   "cell_type": "code",
   "execution_count": 132,
   "id": "37978c80",
   "metadata": {},
   "outputs": [
    {
     "data": {
      "text/html": [
       "<div>\n",
       "<style scoped>\n",
       "    .dataframe tbody tr th:only-of-type {\n",
       "        vertical-align: middle;\n",
       "    }\n",
       "\n",
       "    .dataframe tbody tr th {\n",
       "        vertical-align: top;\n",
       "    }\n",
       "\n",
       "    .dataframe thead th {\n",
       "        text-align: right;\n",
       "    }\n",
       "</style>\n",
       "<table border=\"1\" class=\"dataframe\">\n",
       "  <thead>\n",
       "    <tr style=\"text-align: right;\">\n",
       "      <th></th>\n",
       "      <th>친밀도</th>\n",
       "      <th>적절성</th>\n",
       "    </tr>\n",
       "  </thead>\n",
       "  <tbody>\n",
       "    <tr>\n",
       "      <th>0</th>\n",
       "      <td>3</td>\n",
       "      <td>4</td>\n",
       "    </tr>\n",
       "    <tr>\n",
       "      <th>1</th>\n",
       "      <td>3</td>\n",
       "      <td>3</td>\n",
       "    </tr>\n",
       "    <tr>\n",
       "      <th>2</th>\n",
       "      <td>4</td>\n",
       "      <td>4</td>\n",
       "    </tr>\n",
       "    <tr>\n",
       "      <th>3</th>\n",
       "      <td>2</td>\n",
       "      <td>2</td>\n",
       "    </tr>\n",
       "    <tr>\n",
       "      <th>4</th>\n",
       "      <td>2</td>\n",
       "      <td>2</td>\n",
       "    </tr>\n",
       "    <tr>\n",
       "      <th>...</th>\n",
       "      <td>...</td>\n",
       "      <td>...</td>\n",
       "    </tr>\n",
       "    <tr>\n",
       "      <th>259</th>\n",
       "      <td>3</td>\n",
       "      <td>4</td>\n",
       "    </tr>\n",
       "    <tr>\n",
       "      <th>260</th>\n",
       "      <td>3</td>\n",
       "      <td>4</td>\n",
       "    </tr>\n",
       "    <tr>\n",
       "      <th>261</th>\n",
       "      <td>4</td>\n",
       "      <td>4</td>\n",
       "    </tr>\n",
       "    <tr>\n",
       "      <th>262</th>\n",
       "      <td>4</td>\n",
       "      <td>4</td>\n",
       "    </tr>\n",
       "    <tr>\n",
       "      <th>263</th>\n",
       "      <td>2</td>\n",
       "      <td>3</td>\n",
       "    </tr>\n",
       "  </tbody>\n",
       "</table>\n",
       "<p>264 rows × 2 columns</p>\n",
       "</div>"
      ],
      "text/plain": [
       "     친밀도  적절성\n",
       "0      3    4\n",
       "1      3    3\n",
       "2      4    4\n",
       "3      2    2\n",
       "4      2    2\n",
       "..   ...  ...\n",
       "259    3    4\n",
       "260    3    4\n",
       "261    4    4\n",
       "262    4    4\n",
       "263    2    3\n",
       "\n",
       "[264 rows x 2 columns]"
      ]
     },
     "execution_count": 132,
     "metadata": {},
     "output_type": "execute_result"
    }
   ],
   "source": [
    "data_1 = data[['친밀도','적절성']]\n",
    "data_2 = data[['만족도']]"
   ]
  },
  {
   "cell_type": "code",
   "execution_count": 133,
   "id": "aff1b969",
   "metadata": {},
   "outputs": [],
   "source": [
    "data_1 = data_1.to_numpy()\n",
    "data_2 = data_2.to_numpy()"
   ]
  },
  {
   "cell_type": "code",
   "execution_count": 135,
   "id": "1d316773",
   "metadata": {
    "collapsed": true
   },
   "outputs": [
    {
     "name": "stdout",
     "output_type": "stream",
     "text": [
      "[[3 2]\n",
      " [4 4]\n",
      " [3 2]\n",
      " [4 4]\n",
      " [3 3]\n",
      " [3 3]\n",
      " [3 3]\n",
      " [3 2]\n",
      " [4 4]\n",
      " [3 3]\n",
      " [1 2]\n",
      " [4 4]\n",
      " [3 4]\n",
      " [1 3]\n",
      " [4 3]\n",
      " [3 4]\n",
      " [3 3]\n",
      " [3 3]\n",
      " [4 4]\n",
      " [4 4]\n",
      " [2 3]\n",
      " [5 5]\n",
      " [3 3]\n",
      " [1 4]\n",
      " [3 3]\n",
      " [3 3]\n",
      " [1 3]\n",
      " [3 2]\n",
      " [4 4]\n",
      " [3 2]\n",
      " [1 3]\n",
      " [2 2]\n",
      " [3 3]\n",
      " [3 4]\n",
      " [3 3]\n",
      " [3 2]\n",
      " [3 4]\n",
      " [3 3]\n",
      " [3 3]\n",
      " [1 4]\n",
      " [4 4]\n",
      " [4 4]\n",
      " [2 3]\n",
      " [1 1]\n",
      " [3 1]\n",
      " [3 2]\n",
      " [2 3]\n",
      " [3 4]\n",
      " [4 3]\n",
      " [4 4]\n",
      " [2 3]\n",
      " [4 4]\n",
      " [1 4]\n",
      " [3 3]\n",
      " [2 3]\n",
      " [4 3]\n",
      " [4 3]\n",
      " [3 4]\n",
      " [1 2]\n",
      " [1 1]\n",
      " [3 3]\n",
      " [2 2]\n",
      " [3 2]\n",
      " [3 3]\n",
      " [4 4]\n",
      " [3 3]\n",
      " [2 3]\n",
      " [1 2]\n",
      " [1 1]\n",
      " [3 4]\n",
      " [3 3]\n",
      " [5 5]\n",
      " [3 2]\n",
      " [3 3]\n",
      " [1 4]\n",
      " [2 3]\n",
      " [4 4]\n",
      " [2 2]\n",
      " [4 4]\n",
      " [4 4]\n",
      " [4 4]\n",
      " [5 5]\n",
      " [4 3]\n",
      " [1 2]\n",
      " [2 2]\n",
      " [3 2]\n",
      " [3 4]\n",
      " [4 4]\n",
      " [3 2]\n",
      " [3 3]\n",
      " [3 3]\n",
      " [3 4]\n",
      " [4 5]\n",
      " [3 3]\n",
      " [1 2]\n",
      " [3 3]\n",
      " [3 3]\n",
      " [3 3]\n",
      " [3 3]\n",
      " [3 3]\n",
      " [2 3]\n",
      " [3 3]\n",
      " [3 3]\n",
      " [3 3]\n",
      " [4 4]\n",
      " [2 4]\n",
      " [3 3]\n",
      " [1 4]\n",
      " [3 3]\n",
      " [4 4]\n",
      " [3 3]\n",
      " [1 4]\n",
      " [3 3]\n",
      " [3 4]\n",
      " [3 2]\n",
      " [3 3]\n",
      " [3 3]\n",
      " [2 2]\n",
      " [4 3]\n",
      " [3 3]\n",
      " [3 4]\n",
      " [3 3]\n",
      " [3 2]\n",
      " [4 3]\n",
      " [3 2]\n",
      " [3 3]\n",
      " [4 5]\n",
      " [3 4]\n",
      " [4 4]\n",
      " [2 2]\n",
      " [2 3]\n",
      " [3 4]\n",
      " [3 3]\n",
      " [1 4]\n",
      " [3 3]\n",
      " [1 2]\n",
      " [4 4]\n",
      " [4 4]\n",
      " [3 2]\n",
      " [3 2]\n",
      " [3 3]\n",
      " [3 3]\n",
      " [3 3]\n",
      " [2 3]\n",
      " [2 2]\n",
      " [4 3]\n",
      " [3 4]\n",
      " [3 3]\n",
      " [4 4]\n",
      " [4 4]\n",
      " [3 3]\n",
      " [2 1]\n",
      " [3 2]\n",
      " [2 3]\n",
      " [3 3]\n",
      " [2 2]\n",
      " [1 1]\n",
      " [3 2]\n",
      " [2 2]\n",
      " [5 5]\n",
      " [3 4]\n",
      " [3 3]\n",
      " [3 2]\n",
      " [4 5]\n",
      " [4 4]\n",
      " [3 3]\n",
      " [3 4]\n",
      " [3 4]\n",
      " [3 4]\n",
      " [4 4]\n",
      " [4 4]\n",
      " [3 4]\n",
      " [3 3]\n",
      " [4 4]\n",
      " [3 4]\n",
      " [3 3]\n",
      " [4 4]\n",
      " [3 4]\n",
      " [3 3]\n",
      " [3 3]\n",
      " [3 3]\n",
      " [3 2]\n",
      " [4 3]\n",
      " [2 3]\n",
      " [3 3]\n",
      " [1 4]\n",
      " [1 3]\n",
      " [2 3]\n",
      " [5 5]\n",
      " [3 3]\n",
      " [4 4]\n",
      " [3 3]\n",
      " [2 3]\n",
      " [3 2]\n",
      " [4 3]\n",
      " [3 3]\n",
      " [2 3]\n",
      " [4 3]]\n",
      "[[3]\n",
      " [4]\n",
      " [2]\n",
      " [3]\n",
      " [3]\n",
      " [3]\n",
      " [3]\n",
      " [3]\n",
      " [4]\n",
      " [3]\n",
      " [2]\n",
      " [4]\n",
      " [4]\n",
      " [4]\n",
      " [4]\n",
      " [4]\n",
      " [3]\n",
      " [3]\n",
      " [4]\n",
      " [4]\n",
      " [3]\n",
      " [5]\n",
      " [3]\n",
      " [4]\n",
      " [3]\n",
      " [3]\n",
      " [3]\n",
      " [3]\n",
      " [4]\n",
      " [2]\n",
      " [4]\n",
      " [2]\n",
      " [3]\n",
      " [3]\n",
      " [3]\n",
      " [3]\n",
      " [3]\n",
      " [3]\n",
      " [3]\n",
      " [4]\n",
      " [3]\n",
      " [4]\n",
      " [3]\n",
      " [1]\n",
      " [1]\n",
      " [2]\n",
      " [3]\n",
      " [3]\n",
      " [3]\n",
      " [4]\n",
      " [3]\n",
      " [4]\n",
      " [3]\n",
      " [3]\n",
      " [3]\n",
      " [4]\n",
      " [4]\n",
      " [3]\n",
      " [2]\n",
      " [1]\n",
      " [3]\n",
      " [2]\n",
      " [3]\n",
      " [3]\n",
      " [4]\n",
      " [3]\n",
      " [3]\n",
      " [2]\n",
      " [1]\n",
      " [3]\n",
      " [3]\n",
      " [4]\n",
      " [3]\n",
      " [2]\n",
      " [4]\n",
      " [3]\n",
      " [4]\n",
      " [3]\n",
      " [3]\n",
      " [5]\n",
      " [4]\n",
      " [4]\n",
      " [3]\n",
      " [2]\n",
      " [2]\n",
      " [2]\n",
      " [4]\n",
      " [3]\n",
      " [3]\n",
      " [3]\n",
      " [3]\n",
      " [4]\n",
      " [4]\n",
      " [4]\n",
      " [2]\n",
      " [3]\n",
      " [3]\n",
      " [3]\n",
      " [2]\n",
      " [3]\n",
      " [3]\n",
      " [3]\n",
      " [1]\n",
      " [3]\n",
      " [4]\n",
      " [4]\n",
      " [3]\n",
      " [4]\n",
      " [3]\n",
      " [4]\n",
      " [3]\n",
      " [4]\n",
      " [2]\n",
      " [3]\n",
      " [1]\n",
      " [3]\n",
      " [3]\n",
      " [2]\n",
      " [4]\n",
      " [3]\n",
      " [3]\n",
      " [2]\n",
      " [2]\n",
      " [3]\n",
      " [2]\n",
      " [3]\n",
      " [4]\n",
      " [4]\n",
      " [4]\n",
      " [2]\n",
      " [3]\n",
      " [3]\n",
      " [3]\n",
      " [4]\n",
      " [3]\n",
      " [2]\n",
      " [5]\n",
      " [4]\n",
      " [3]\n",
      " [2]\n",
      " [3]\n",
      " [3]\n",
      " [3]\n",
      " [3]\n",
      " [2]\n",
      " [3]\n",
      " [3]\n",
      " [3]\n",
      " [4]\n",
      " [4]\n",
      " [3]\n",
      " [1]\n",
      " [2]\n",
      " [2]\n",
      " [3]\n",
      " [3]\n",
      " [1]\n",
      " [3]\n",
      " [2]\n",
      " [4]\n",
      " [4]\n",
      " [3]\n",
      " [2]\n",
      " [5]\n",
      " [4]\n",
      " [2]\n",
      " [2]\n",
      " [4]\n",
      " [3]\n",
      " [4]\n",
      " [3]\n",
      " [4]\n",
      " [2]\n",
      " [3]\n",
      " [4]\n",
      " [3]\n",
      " [4]\n",
      " [2]\n",
      " [2]\n",
      " [2]\n",
      " [3]\n",
      " [2]\n",
      " [3]\n",
      " [3]\n",
      " [3]\n",
      " [4]\n",
      " [2]\n",
      " [3]\n",
      " [4]\n",
      " [3]\n",
      " [4]\n",
      " [3]\n",
      " [3]\n",
      " [3]\n",
      " [4]\n",
      " [3]\n",
      " [3]\n",
      " [4]]\n"
     ]
    }
   ],
   "source": [
    "from sklearn.model_selection import train_test_split\n",
    "train_input,test_input, train_target,test_target = train_test_split(data_1, data_2, random_state=42)\n",
    "\n",
    "print(train_input)\n",
    "print(train_target)"
   ]
  },
  {
   "cell_type": "code",
   "execution_count": 144,
   "id": "013e60fb",
   "metadata": {},
   "outputs": [
    {
     "name": "stdout",
     "output_type": "stream",
     "text": [
      "0.5995961077787295\n",
      "0.589220642902726\n"
     ]
    },
    {
     "data": {
      "text/plain": [
       "array([[3.04837474]])"
      ]
     },
     "execution_count": 144,
     "metadata": {},
     "output_type": "execute_result"
    }
   ],
   "source": [
    "from sklearn.linear_model import LinearRegression\n",
    "\n",
    "lr = LinearRegression()\n",
    "lr.fit(train_input, train_target)\n",
    "\n",
    "print(lr.score(test_input, test_target))\n",
    "print(lr.score(train_input, train_target))\n",
    "\n",
    "lr.predict([[4,3]])"
   ]
  },
  {
   "cell_type": "markdown",
   "id": "279b8914",
   "metadata": {},
   "source": [
    "> 다중회귀모델"
   ]
  },
  {
   "cell_type": "code",
   "execution_count": 146,
   "id": "b31ea280",
   "metadata": {},
   "outputs": [
    {
     "name": "stdout",
     "output_type": "stream",
     "text": [
      "0.6686865960782669\n",
      "-1.0195702935601885\n"
     ]
    },
    {
     "data": {
      "text/plain": [
       "array([[3.54545455]])"
      ]
     },
     "execution_count": 146,
     "metadata": {},
     "output_type": "execute_result"
    }
   ],
   "source": [
    "# 객체생성 (모델)\n",
    "poly = PolynomialFeatures(degree=5,include_bias = False)\n",
    "\n",
    "# 훈련시키기\n",
    "train_poly = poly.fit(train_input)\n",
    "\n",
    "# 훈련데이터 변환히기\n",
    "train_poly = poly.transform(train_input)\n",
    "\n",
    "# 테스트데이터 변환하기\n",
    "test_poly = poly.transform(test_input)\n",
    "\n",
    "# sample 데이터 변환하기\n",
    "sample_poly = poly.transform([[4,3]])\n",
    "\n",
    "# 객체생성(모델생성)\n",
    "lr = LinearRegression()\n",
    "\n",
    "# 훈련모델생성\n",
    "lr.fit(train_poly, train_target)\n",
    "\n",
    "# 테스트 하기\n",
    "print(lr.score(train_poly, train_target))\n",
    "print(lr.score(test_poly, test_target))\n",
    "\n",
    "#예측하기\n",
    "lr.predict(sample_poly)\n"
   ]
  },
  {
   "cell_type": "markdown",
   "id": "92e1c733",
   "metadata": {},
   "source": [
    "> ridge 모델 "
   ]
  },
  {
   "cell_type": "code",
   "execution_count": 149,
   "id": "47fa94f2",
   "metadata": {},
   "outputs": [
    {
     "name": "stdout",
     "output_type": "stream",
     "text": [
      "0.6428834595890419\n",
      "0.6342200586076697\n"
     ]
    },
    {
     "data": {
      "text/plain": [
       "array([[3.5289231]])"
      ]
     },
     "execution_count": 149,
     "metadata": {},
     "output_type": "execute_result"
    }
   ],
   "source": [
    "ss = StandardScaler()\n",
    "ss.fit(train_poly, train_target)\n",
    "\n",
    "## 훈련데이터 표준점수로 변환하기\n",
    "train_scaled = ss.transform(train_poly)\n",
    "test_scaled = ss.transform(test_poly)\n",
    "\n",
    "# sample 데이터 변환\n",
    "sample_new = ss.transform(sample_poly)\n",
    "\n",
    "# Ridge 모델 사용 \n",
    "from sklearn.linear_model import Ridge\n",
    "rdg = Ridge()\n",
    "\n",
    "# 훈련 시키기\n",
    "rdg.fit(train_scaled,train_target)\n",
    "\n",
    "\n",
    "\n",
    "print(rdg.score(train_scaled,train_target))\n",
    "print(rdg.score(test_scaled, test_target))\n",
    "\n",
    "# 예측하기\n",
    "rdg.predict(sample_new)"
   ]
  },
  {
   "cell_type": "markdown",
   "id": "24d1c425",
   "metadata": {},
   "source": [
    "> Lasso 모델 "
   ]
  },
  {
   "cell_type": "code",
   "execution_count": 150,
   "id": "c874189f",
   "metadata": {},
   "outputs": [
    {
     "name": "stdout",
     "output_type": "stream",
     "text": [
      "lasso model 테스트 = 0.0\n",
      "lasso model 테스트 = -0.03759780907668264\n"
     ]
    }
   ],
   "source": [
    "from sklearn.linear_model import Lasso\n",
    "# Lasso 모델\n",
    "las = Lasso()\n",
    "\n",
    "# 훈련 시키기\n",
    "las.fit(train_scaled,train_target)\n",
    "las.score(test_scaled , test_target)\n",
    "las.predict(sample_new)\n",
    "\n",
    "\n",
    "# 결정계수\n",
    "print('lasso model 테스트 =',las.score(train_scaled,train_target))\n",
    "print('lasso model 테스트 =',las.score(test_scaled,test_target))"
   ]
  },
  {
   "cell_type": "markdown",
   "id": "b7e01d6d",
   "metadata": {},
   "source": [
    "> alpha 값 구하기 : Ridge 모델"
   ]
  },
  {
   "cell_type": "code",
   "execution_count": 158,
   "id": "1bf72be7",
   "metadata": {},
   "outputs": [
    {
     "data": {
      "image/png": "[encoded data removed]",
      "text/plain": [
       "<Figure size 576x360 with 1 Axes>"
      ]
     },
     "metadata": {
      "needs_background": "light"
     },
     "output_type": "display_data"
    }
   ],
   "source": [
    "# 훈련시 발생하는 결정계수를 저장할 리스트\n",
    "train_score=[]\n",
    "# 테스트 시 발생하는 결정계수를 저장할 리스트\n",
    "test_score=[]\n",
    "\n",
    "# 임의의 alpha값(x축으로 설정합니다) 설정(범위설정)\n",
    "alpha_list = [0.001, 0.01,0.1, 1,10, 100]\n",
    "\n",
    "### 훈련 및 테스트 결정계수 데이터 조회하기\n",
    "for alpha in alpha_list :\n",
    "    # 릿지 모델\n",
    "    ridge = Ridge(alpha = alpha) # 규제강도 속성 \n",
    "    ridge.fit(train_scaled, train_target)\n",
    "    train_score.append(ridge.score(train_scaled, train_target))\n",
    "    test_score.append(ridge.score(test_scaled, test_target))\n",
    "    \n",
    "\n",
    "## 그래프로 시작화\n",
    "# log10 : 지수로 표현 \n",
    "plt.rc('font',family = 'Malgun Gothic')\n",
    "plt.rcParams['axes.unicode_minus'] = False ## 음수부호 표시하기\n",
    "plt.figure(figsize = (8,5))\n",
    "plt.plot(np.log10(alpha_list), train_score)\n",
    "plt.plot(np.log10(alpha_list),test_score)\n",
    "plt.xlabel('10의 지수')\n",
    "plt.show()\n",
    "\n",
    "# 그래프 기울기가 양수면 = 과대적합\n",
    "# 그래프 기울기가 음수면 = 과소적합\n"
   ]
  },
  {
   "cell_type": "markdown",
   "id": "2fe4b83a",
   "metadata": {},
   "source": [
    "### 1. 과대적합 : 훈련데이터의 평가결과가 너무 높고, 테스트데이터의 평가가 너무 낮을 경우\n",
    "### 2. 과소적합 : 훈련데이터의 평가 결과가 낮고 ,테스트데이터의 평가가 높은 경우"
   ]
  },
  {
   "cell_type": "code",
   "execution_count": 160,
   "id": "75567c26",
   "metadata": {},
   "outputs": [
    {
     "name": "stdout",
     "output_type": "stream",
     "text": [
      "0.6491945185325882\n",
      "0.6206095429241811\n"
     ]
    }
   ],
   "source": [
    "# Ridge 모델 \n",
    "# x 축이 -1 일때 가장 가까운 값 10^-1 = 0.1 이기 때문에 alpha = 0.1 대입 \n",
    "rdg = Ridge(alpha = 0.)\n",
    "rdg.fit(train_scaled, train_target)\n",
    "rdg.predict(sample_new)\n",
    "\n",
    "print(rdg.score(train_scaled, train_target))\n",
    "print(rdg.score(test_scaled, test_target))\n"
   ]
  },
  {
   "cell_type": "markdown",
   "id": "7efd55fd",
   "metadata": {},
   "source": [
    "> alpha값 구하기 Lasso 모델 "
   ]
  },
  {
   "cell_type": "code",
   "execution_count": 156,
   "id": "4f82f3a1",
   "metadata": {},
   "outputs": [
    {
     "name": "stderr",
     "output_type": "stream",
     "text": [
      "C:\\Users\\82102\\ml\\lib\\site-packages\\sklearn\\linear_model\\_coordinate_descent.py:648: ConvergenceWarning: Objective did not converge. You might want to increase the number of iterations, check the scale of the features or consider increasing regularisation. Duality gap: 7.100e-01, tolerance: 1.364e-02\n",
      "  model = cd_fast.enet_coordinate_descent(\n"
     ]
    },
    {
     "data": {
      "text/plain": [
       "Text(0.5, 0, '10의 지수')"
      ]
     },
     "execution_count": 156,
     "metadata": {},
     "output_type": "execute_result"
    },
    {
     "data": {
      "image/png": "[encoded data removed]",
      "text/plain": [
       "<Figure size 576x360 with 1 Axes>"
      ]
     },
     "metadata": {
      "needs_background": "light"
     },
     "output_type": "display_data"
    }
   ],
   "source": [
    "# 훈련시 발생하는 결정계수를 저장할 리스트\n",
    "train_score=[]\n",
    "# 테스트 시 발생하는 결정계수를 저장할 리스트\n",
    "test_score=[]\n",
    "\n",
    "# 임의의 alpha값(x축으로 설정합니다) 설정(범위설정)\n",
    "alpha_list = [0.001, 0.01,0.1, 1,10, 100]\n",
    "\n",
    "### 훈련 및 테스트 결정계수 데이터 조회하기\n",
    "for alpha in alpha_list :\n",
    "    # 릿지 모델\n",
    "    lasso = Lasso(alpha = alpha) # 규제강도 속성 \n",
    "    lasso.fit(train_scaled, train_target)\n",
    "    train_score.append(lasso.score(train_scaled, train_target))\n",
    "    test_score.append(lasso.score(test_scaled, test_target))\n",
    "    \n",
    "\n",
    "## 그래프로 시작화\n",
    "# log10 : 지수로 표현 \n",
    "plt.rc('font',family = 'Malgun Gothic')\n",
    "plt.rcParams['axes.unicode_minus'] = False ## 음수부호 표시하기\n",
    "plt.figure(figsize = (8,5))\n",
    "plt.plot(np.log10(alpha_list), train_score)\n",
    "plt.plot(np.log10(alpha_list),test_score)\n",
    "plt.xlabel('10의 지수')"
   ]
  },
  {
   "cell_type": "code",
   "execution_count": 166,
   "id": "b7541944",
   "metadata": {},
   "outputs": [
    {
     "name": "stdout",
     "output_type": "stream",
     "text": [
      "0.640155344737469\n",
      "0.6441082537540066\n"
     ]
    },
    {
     "name": "stderr",
     "output_type": "stream",
     "text": [
      "C:\\Users\\82102\\ml\\lib\\site-packages\\sklearn\\linear_model\\_coordinate_descent.py:648: ConvergenceWarning: Objective did not converge. You might want to increase the number of iterations, check the scale of the features or consider increasing regularisation. Duality gap: 1.031e-01, tolerance: 1.364e-02\n",
      "  model = cd_fast.enet_coordinate_descent(\n"
     ]
    }
   ],
   "source": [
    "# Lasso 모델 \n",
    "# x 축이 1일때 가장 가까운 값 10^1 = 10 이기 때문에 alpha = 10 대입 \n",
    "las = Lasso(alpha = 0.0032)\n",
    "las.fit(train_scaled, train_target)\n",
    "las.predict(sample_new)\n",
    "print(las.score(train_scaled, train_target))\n",
    "print(las.score(test_scaled, test_target))"
   ]
  },
  {
   "cell_type": "code",
   "execution_count": null,
   "id": "97451cdb",
   "metadata": {},
   "outputs": [],
   "source": []
  },
  {
   "cell_type": "code",
   "execution_count": null,
   "id": "2b4fac73",
   "metadata": {},
   "outputs": [],
   "source": []
  },
  {
   "cell_type": "code",
   "execution_count": null,
   "id": "80ee11e8",
   "metadata": {},
   "outputs": [],
   "source": []
  },
  {
   "cell_type": "code",
   "execution_count": null,
   "id": "8eaa8c6b",
   "metadata": {},
   "outputs": [],
   "source": []
  }
 ],
 "metadata": {
  "kernelspec": {
   "display_name": "ml_kernel",
   "language": "python",
   "name": "ml"
  },
  "language_info": {
   "codemirror_mode": {
    "name": "ipython",
    "version": 3
   },
   "file_extension": ".py",
   "mimetype": "text/x-python",
   "name": "python",
   "nbconvert_exporter": "python",
   "pygments_lexer": "ipython3",
   "version": "3.9.12"
  }
 },
 "nbformat": 4,
 "nbformat_minor": 5
}
