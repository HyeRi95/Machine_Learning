{
 "cells": [
  {
   "cell_type": "code",
   "execution_count": 1,
   "id": "037dd03c",
   "metadata": {},
   "outputs": [],
   "source": [
    "# 최근접 로지스틱 이중분류, 다중분류 연습하기 "
   ]
  },
  {
   "cell_type": "code",
   "execution_count": 2,
   "id": "23e092ed",
   "metadata": {},
   "outputs": [],
   "source": [
    "# [문제] 붓꽃 품종 데이터를 이용해서 품종 분류하기\n",
    "\n",
    "from sklearn.datasets import load_iris\n",
    "### 붓꽃 품종 데이터\n",
    "# - 품종 : setosa, versicolor, viginica\n",
    "# - sepal length   : 꽃받침 길이\n",
    "# - sepal width   : 꽃받침 폭\n",
    "# - petal length : 꽃잎 길이\n",
    "# - petal width : 꽃잎 폭 "
   ]
  },
  {
   "cell_type": "code",
   "execution_count": 3,
   "id": "3cd151a3",
   "metadata": {},
   "outputs": [
    {
     "name": "stdout",
     "output_type": "stream",
     "text": [
      "{'data': array([[5.1, 3.5, 1.4, 0.2],\n",
      "       [4.9, 3. , 1.4, 0.2],\n",
      "       [4.7, 3.2, 1.3, 0.2],\n",
      "       [4.6, 3.1, 1.5, 0.2],\n",
      "       [5. , 3.6, 1.4, 0.2],\n",
      "       [5.4, 3.9, 1.7, 0.4],\n",
      "       [4.6, 3.4, 1.4, 0.3],\n",
      "       [5. , 3.4, 1.5, 0.2],\n",
      "       [4.4, 2.9, 1.4, 0.2],\n",
      "       [4.9, 3.1, 1.5, 0.1],\n",
      "       [5.4, 3.7, 1.5, 0.2],\n",
      "       [4.8, 3.4, 1.6, 0.2],\n",
      "       [4.8, 3. , 1.4, 0.1],\n",
      "       [4.3, 3. , 1.1, 0.1],\n",
      "       [5.8, 4. , 1.2, 0.2],\n",
      "       [5.7, 4.4, 1.5, 0.4],\n",
      "       [5.4, 3.9, 1.3, 0.4],\n",
      "       [5.1, 3.5, 1.4, 0.3],\n",
      "       [5.7, 3.8, 1.7, 0.3],\n",
      "       [5.1, 3.8, 1.5, 0.3],\n",
      "       [5.4, 3.4, 1.7, 0.2],\n",
      "       [5.1, 3.7, 1.5, 0.4],\n",
      "       [4.6, 3.6, 1. , 0.2],\n",
      "       [5.1, 3.3, 1.7, 0.5],\n",
      "       [4.8, 3.4, 1.9, 0.2],\n",
      "       [5. , 3. , 1.6, 0.2],\n",
      "       [5. , 3.4, 1.6, 0.4],\n",
      "       [5.2, 3.5, 1.5, 0.2],\n",
      "       [5.2, 3.4, 1.4, 0.2],\n",
      "       [4.7, 3.2, 1.6, 0.2],\n",
      "       [4.8, 3.1, 1.6, 0.2],\n",
      "       [5.4, 3.4, 1.5, 0.4],\n",
      "       [5.2, 4.1, 1.5, 0.1],\n",
      "       [5.5, 4.2, 1.4, 0.2],\n",
      "       [4.9, 3.1, 1.5, 0.2],\n",
      "       [5. , 3.2, 1.2, 0.2],\n",
      "       [5.5, 3.5, 1.3, 0.2],\n",
      "       [4.9, 3.6, 1.4, 0.1],\n",
      "       [4.4, 3. , 1.3, 0.2],\n",
      "       [5.1, 3.4, 1.5, 0.2],\n",
      "       [5. , 3.5, 1.3, 0.3],\n",
      "       [4.5, 2.3, 1.3, 0.3],\n",
      "       [4.4, 3.2, 1.3, 0.2],\n",
      "       [5. , 3.5, 1.6, 0.6],\n",
      "       [5.1, 3.8, 1.9, 0.4],\n",
      "       [4.8, 3. , 1.4, 0.3],\n",
      "       [5.1, 3.8, 1.6, 0.2],\n",
      "       [4.6, 3.2, 1.4, 0.2],\n",
      "       [5.3, 3.7, 1.5, 0.2],\n",
      "       [5. , 3.3, 1.4, 0.2],\n",
      "       [7. , 3.2, 4.7, 1.4],\n",
      "       [6.4, 3.2, 4.5, 1.5],\n",
      "       [6.9, 3.1, 4.9, 1.5],\n",
      "       [5.5, 2.3, 4. , 1.3],\n",
      "       [6.5, 2.8, 4.6, 1.5],\n",
      "       [5.7, 2.8, 4.5, 1.3],\n",
      "       [6.3, 3.3, 4.7, 1.6],\n",
      "       [4.9, 2.4, 3.3, 1. ],\n",
      "       [6.6, 2.9, 4.6, 1.3],\n",
      "       [5.2, 2.7, 3.9, 1.4],\n",
      "       [5. , 2. , 3.5, 1. ],\n",
      "       [5.9, 3. , 4.2, 1.5],\n",
      "       [6. , 2.2, 4. , 1. ],\n",
      "       [6.1, 2.9, 4.7, 1.4],\n",
      "       [5.6, 2.9, 3.6, 1.3],\n",
      "       [6.7, 3.1, 4.4, 1.4],\n",
      "       [5.6, 3. , 4.5, 1.5],\n",
      "       [5.8, 2.7, 4.1, 1. ],\n",
      "       [6.2, 2.2, 4.5, 1.5],\n",
      "       [5.6, 2.5, 3.9, 1.1],\n",
      "       [5.9, 3.2, 4.8, 1.8],\n",
      "       [6.1, 2.8, 4. , 1.3],\n",
      "       [6.3, 2.5, 4.9, 1.5],\n",
      "       [6.1, 2.8, 4.7, 1.2],\n",
      "       [6.4, 2.9, 4.3, 1.3],\n",
      "       [6.6, 3. , 4.4, 1.4],\n",
      "       [6.8, 2.8, 4.8, 1.4],\n",
      "       [6.7, 3. , 5. , 1.7],\n",
      "       [6. , 2.9, 4.5, 1.5],\n",
      "       [5.7, 2.6, 3.5, 1. ],\n",
      "       [5.5, 2.4, 3.8, 1.1],\n",
      "       [5.5, 2.4, 3.7, 1. ],\n",
      "       [5.8, 2.7, 3.9, 1.2],\n",
      "       [6. , 2.7, 5.1, 1.6],\n",
      "       [5.4, 3. , 4.5, 1.5],\n",
      "       [6. , 3.4, 4.5, 1.6],\n",
      "       [6.7, 3.1, 4.7, 1.5],\n",
      "       [6.3, 2.3, 4.4, 1.3],\n",
      "       [5.6, 3. , 4.1, 1.3],\n",
      "       [5.5, 2.5, 4. , 1.3],\n",
      "       [5.5, 2.6, 4.4, 1.2],\n",
      "       [6.1, 3. , 4.6, 1.4],\n",
      "       [5.8, 2.6, 4. , 1.2],\n",
      "       [5. , 2.3, 3.3, 1. ],\n",
      "       [5.6, 2.7, 4.2, 1.3],\n",
      "       [5.7, 3. , 4.2, 1.2],\n",
      "       [5.7, 2.9, 4.2, 1.3],\n",
      "       [6.2, 2.9, 4.3, 1.3],\n",
      "       [5.1, 2.5, 3. , 1.1],\n",
      "       [5.7, 2.8, 4.1, 1.3],\n",
      "       [6.3, 3.3, 6. , 2.5],\n",
      "       [5.8, 2.7, 5.1, 1.9],\n",
      "       [7.1, 3. , 5.9, 2.1],\n",
      "       [6.3, 2.9, 5.6, 1.8],\n",
      "       [6.5, 3. , 5.8, 2.2],\n",
      "       [7.6, 3. , 6.6, 2.1],\n",
      "       [4.9, 2.5, 4.5, 1.7],\n",
      "       [7.3, 2.9, 6.3, 1.8],\n",
      "       [6.7, 2.5, 5.8, 1.8],\n",
      "       [7.2, 3.6, 6.1, 2.5],\n",
      "       [6.5, 3.2, 5.1, 2. ],\n",
      "       [6.4, 2.7, 5.3, 1.9],\n",
      "       [6.8, 3. , 5.5, 2.1],\n",
      "       [5.7, 2.5, 5. , 2. ],\n",
      "       [5.8, 2.8, 5.1, 2.4],\n",
      "       [6.4, 3.2, 5.3, 2.3],\n",
      "       [6.5, 3. , 5.5, 1.8],\n",
      "       [7.7, 3.8, 6.7, 2.2],\n",
      "       [7.7, 2.6, 6.9, 2.3],\n",
      "       [6. , 2.2, 5. , 1.5],\n",
      "       [6.9, 3.2, 5.7, 2.3],\n",
      "       [5.6, 2.8, 4.9, 2. ],\n",
      "       [7.7, 2.8, 6.7, 2. ],\n",
      "       [6.3, 2.7, 4.9, 1.8],\n",
      "       [6.7, 3.3, 5.7, 2.1],\n",
      "       [7.2, 3.2, 6. , 1.8],\n",
      "       [6.2, 2.8, 4.8, 1.8],\n",
      "       [6.1, 3. , 4.9, 1.8],\n",
      "       [6.4, 2.8, 5.6, 2.1],\n",
      "       [7.2, 3. , 5.8, 1.6],\n",
      "       [7.4, 2.8, 6.1, 1.9],\n",
      "       [7.9, 3.8, 6.4, 2. ],\n",
      "       [6.4, 2.8, 5.6, 2.2],\n",
      "       [6.3, 2.8, 5.1, 1.5],\n",
      "       [6.1, 2.6, 5.6, 1.4],\n",
      "       [7.7, 3. , 6.1, 2.3],\n",
      "       [6.3, 3.4, 5.6, 2.4],\n",
      "       [6.4, 3.1, 5.5, 1.8],\n",
      "       [6. , 3. , 4.8, 1.8],\n",
      "       [6.9, 3.1, 5.4, 2.1],\n",
      "       [6.7, 3.1, 5.6, 2.4],\n",
      "       [6.9, 3.1, 5.1, 2.3],\n",
      "       [5.8, 2.7, 5.1, 1.9],\n",
      "       [6.8, 3.2, 5.9, 2.3],\n",
      "       [6.7, 3.3, 5.7, 2.5],\n",
      "       [6.7, 3. , 5.2, 2.3],\n",
      "       [6.3, 2.5, 5. , 1.9],\n",
      "       [6.5, 3. , 5.2, 2. ],\n",
      "       [6.2, 3.4, 5.4, 2.3],\n",
      "       [5.9, 3. , 5.1, 1.8]]), 'target': array([0, 0, 0, 0, 0, 0, 0, 0, 0, 0, 0, 0, 0, 0, 0, 0, 0, 0, 0, 0, 0, 0,\n",
      "       0, 0, 0, 0, 0, 0, 0, 0, 0, 0, 0, 0, 0, 0, 0, 0, 0, 0, 0, 0, 0, 0,\n",
      "       0, 0, 0, 0, 0, 0, 1, 1, 1, 1, 1, 1, 1, 1, 1, 1, 1, 1, 1, 1, 1, 1,\n",
      "       1, 1, 1, 1, 1, 1, 1, 1, 1, 1, 1, 1, 1, 1, 1, 1, 1, 1, 1, 1, 1, 1,\n",
      "       1, 1, 1, 1, 1, 1, 1, 1, 1, 1, 1, 1, 2, 2, 2, 2, 2, 2, 2, 2, 2, 2,\n",
      "       2, 2, 2, 2, 2, 2, 2, 2, 2, 2, 2, 2, 2, 2, 2, 2, 2, 2, 2, 2, 2, 2,\n",
      "       2, 2, 2, 2, 2, 2, 2, 2, 2, 2, 2, 2, 2, 2, 2, 2, 2, 2]), 'frame': None, 'target_names': array(['setosa', 'versicolor', 'virginica'], dtype='<U10'), 'DESCR': '.. _iris_dataset:\\n\\nIris plants dataset\\n--------------------\\n\\n**Data Set Characteristics:**\\n\\n    :Number of Instances: 150 (50 in each of three classes)\\n    :Number of Attributes: 4 numeric, predictive attributes and the class\\n    :Attribute Information:\\n        - sepal length in cm\\n        - sepal width in cm\\n        - petal length in cm\\n        - petal width in cm\\n        - class:\\n                - Iris-Setosa\\n                - Iris-Versicolour\\n                - Iris-Virginica\\n                \\n    :Summary Statistics:\\n\\n    ============== ==== ==== ======= ===== ====================\\n                    Min  Max   Mean    SD   Class Correlation\\n    ============== ==== ==== ======= ===== ====================\\n    sepal length:   4.3  7.9   5.84   0.83    0.7826\\n    sepal width:    2.0  4.4   3.05   0.43   -0.4194\\n    petal length:   1.0  6.9   3.76   1.76    0.9490  (high!)\\n    petal width:    0.1  2.5   1.20   0.76    0.9565  (high!)\\n    ============== ==== ==== ======= ===== ====================\\n\\n    :Missing Attribute Values: None\\n    :Class Distribution: 33.3% for each of 3 classes.\\n    :Creator: R.A. Fisher\\n    :Donor: Michael Marshall (MARSHALL%PLU@io.arc.nasa.gov)\\n    :Date: July, 1988\\n\\nThe famous Iris database, first used by Sir R.A. Fisher. The dataset is taken\\nfrom Fisher\\'s paper. Note that it\\'s the same as in R, but not as in the UCI\\nMachine Learning Repository, which has two wrong data points.\\n\\nThis is perhaps the best known database to be found in the\\npattern recognition literature.  Fisher\\'s paper is a classic in the field and\\nis referenced frequently to this day.  (See Duda & Hart, for example.)  The\\ndata set contains 3 classes of 50 instances each, where each class refers to a\\ntype of iris plant.  One class is linearly separable from the other 2; the\\nlatter are NOT linearly separable from each other.\\n\\n.. topic:: References\\n\\n   - Fisher, R.A. \"The use of multiple measurements in taxonomic problems\"\\n     Annual Eugenics, 7, Part II, 179-188 (1936); also in \"Contributions to\\n     Mathematical Statistics\" (John Wiley, NY, 1950).\\n   - Duda, R.O., & Hart, P.E. (1973) Pattern Classification and Scene Analysis.\\n     (Q327.D83) John Wiley & Sons.  ISBN 0-471-22361-1.  See page 218.\\n   - Dasarathy, B.V. (1980) \"Nosing Around the Neighborhood: A New System\\n     Structure and Classification Rule for Recognition in Partially Exposed\\n     Environments\".  IEEE Transactions on Pattern Analysis and Machine\\n     Intelligence, Vol. PAMI-2, No. 1, 67-71.\\n   - Gates, G.W. (1972) \"The Reduced Nearest Neighbor Rule\".  IEEE Transactions\\n     on Information Theory, May 1972, 431-433.\\n   - See also: 1988 MLC Proceedings, 54-64.  Cheeseman et al\"s AUTOCLASS II\\n     conceptual clustering system finds 3 classes in the data.\\n   - Many, many more ...', 'feature_names': ['sepal length (cm)', 'sepal width (cm)', 'petal length (cm)', 'petal width (cm)'], 'filename': 'iris.csv', 'data_module': 'sklearn.datasets.data'}\n"
     ]
    }
   ],
   "source": [
    "iris_조혜리 = load_iris()\n",
    "print(iris_조혜리)"
   ]
  },
  {
   "cell_type": "code",
   "execution_count": 4,
   "id": "1a864080",
   "metadata": {},
   "outputs": [
    {
     "name": "stdout",
     "output_type": "stream",
     "text": [
      "[[5.1 3.5 1.4 0.2]\n",
      " [4.9 3.  1.4 0.2]\n",
      " [4.7 3.2 1.3 0.2]\n",
      " [4.6 3.1 1.5 0.2]\n",
      " [5.  3.6 1.4 0.2]\n",
      " [5.4 3.9 1.7 0.4]\n",
      " [4.6 3.4 1.4 0.3]\n",
      " [5.  3.4 1.5 0.2]\n",
      " [4.4 2.9 1.4 0.2]\n",
      " [4.9 3.1 1.5 0.1]\n",
      " [5.4 3.7 1.5 0.2]\n",
      " [4.8 3.4 1.6 0.2]\n",
      " [4.8 3.  1.4 0.1]\n",
      " [4.3 3.  1.1 0.1]\n",
      " [5.8 4.  1.2 0.2]\n",
      " [5.7 4.4 1.5 0.4]\n",
      " [5.4 3.9 1.3 0.4]\n",
      " [5.1 3.5 1.4 0.3]\n",
      " [5.7 3.8 1.7 0.3]\n",
      " [5.1 3.8 1.5 0.3]\n",
      " [5.4 3.4 1.7 0.2]\n",
      " [5.1 3.7 1.5 0.4]\n",
      " [4.6 3.6 1.  0.2]\n",
      " [5.1 3.3 1.7 0.5]\n",
      " [4.8 3.4 1.9 0.2]\n",
      " [5.  3.  1.6 0.2]\n",
      " [5.  3.4 1.6 0.4]\n",
      " [5.2 3.5 1.5 0.2]\n",
      " [5.2 3.4 1.4 0.2]\n",
      " [4.7 3.2 1.6 0.2]\n",
      " [4.8 3.1 1.6 0.2]\n",
      " [5.4 3.4 1.5 0.4]\n",
      " [5.2 4.1 1.5 0.1]\n",
      " [5.5 4.2 1.4 0.2]\n",
      " [4.9 3.1 1.5 0.2]\n",
      " [5.  3.2 1.2 0.2]\n",
      " [5.5 3.5 1.3 0.2]\n",
      " [4.9 3.6 1.4 0.1]\n",
      " [4.4 3.  1.3 0.2]\n",
      " [5.1 3.4 1.5 0.2]\n",
      " [5.  3.5 1.3 0.3]\n",
      " [4.5 2.3 1.3 0.3]\n",
      " [4.4 3.2 1.3 0.2]\n",
      " [5.  3.5 1.6 0.6]\n",
      " [5.1 3.8 1.9 0.4]\n",
      " [4.8 3.  1.4 0.3]\n",
      " [5.1 3.8 1.6 0.2]\n",
      " [4.6 3.2 1.4 0.2]\n",
      " [5.3 3.7 1.5 0.2]\n",
      " [5.  3.3 1.4 0.2]\n",
      " [7.  3.2 4.7 1.4]\n",
      " [6.4 3.2 4.5 1.5]\n",
      " [6.9 3.1 4.9 1.5]\n",
      " [5.5 2.3 4.  1.3]\n",
      " [6.5 2.8 4.6 1.5]\n",
      " [5.7 2.8 4.5 1.3]\n",
      " [6.3 3.3 4.7 1.6]\n",
      " [4.9 2.4 3.3 1. ]\n",
      " [6.6 2.9 4.6 1.3]\n",
      " [5.2 2.7 3.9 1.4]\n",
      " [5.  2.  3.5 1. ]\n",
      " [5.9 3.  4.2 1.5]\n",
      " [6.  2.2 4.  1. ]\n",
      " [6.1 2.9 4.7 1.4]\n",
      " [5.6 2.9 3.6 1.3]\n",
      " [6.7 3.1 4.4 1.4]\n",
      " [5.6 3.  4.5 1.5]\n",
      " [5.8 2.7 4.1 1. ]\n",
      " [6.2 2.2 4.5 1.5]\n",
      " [5.6 2.5 3.9 1.1]\n",
      " [5.9 3.2 4.8 1.8]\n",
      " [6.1 2.8 4.  1.3]\n",
      " [6.3 2.5 4.9 1.5]\n",
      " [6.1 2.8 4.7 1.2]\n",
      " [6.4 2.9 4.3 1.3]\n",
      " [6.6 3.  4.4 1.4]\n",
      " [6.8 2.8 4.8 1.4]\n",
      " [6.7 3.  5.  1.7]\n",
      " [6.  2.9 4.5 1.5]\n",
      " [5.7 2.6 3.5 1. ]\n",
      " [5.5 2.4 3.8 1.1]\n",
      " [5.5 2.4 3.7 1. ]\n",
      " [5.8 2.7 3.9 1.2]\n",
      " [6.  2.7 5.1 1.6]\n",
      " [5.4 3.  4.5 1.5]\n",
      " [6.  3.4 4.5 1.6]\n",
      " [6.7 3.1 4.7 1.5]\n",
      " [6.3 2.3 4.4 1.3]\n",
      " [5.6 3.  4.1 1.3]\n",
      " [5.5 2.5 4.  1.3]\n",
      " [5.5 2.6 4.4 1.2]\n",
      " [6.1 3.  4.6 1.4]\n",
      " [5.8 2.6 4.  1.2]\n",
      " [5.  2.3 3.3 1. ]\n",
      " [5.6 2.7 4.2 1.3]\n",
      " [5.7 3.  4.2 1.2]\n",
      " [5.7 2.9 4.2 1.3]\n",
      " [6.2 2.9 4.3 1.3]\n",
      " [5.1 2.5 3.  1.1]\n",
      " [5.7 2.8 4.1 1.3]\n",
      " [6.3 3.3 6.  2.5]\n",
      " [5.8 2.7 5.1 1.9]\n",
      " [7.1 3.  5.9 2.1]\n",
      " [6.3 2.9 5.6 1.8]\n",
      " [6.5 3.  5.8 2.2]\n",
      " [7.6 3.  6.6 2.1]\n",
      " [4.9 2.5 4.5 1.7]\n",
      " [7.3 2.9 6.3 1.8]\n",
      " [6.7 2.5 5.8 1.8]\n",
      " [7.2 3.6 6.1 2.5]\n",
      " [6.5 3.2 5.1 2. ]\n",
      " [6.4 2.7 5.3 1.9]\n",
      " [6.8 3.  5.5 2.1]\n",
      " [5.7 2.5 5.  2. ]\n",
      " [5.8 2.8 5.1 2.4]\n",
      " [6.4 3.2 5.3 2.3]\n",
      " [6.5 3.  5.5 1.8]\n",
      " [7.7 3.8 6.7 2.2]\n",
      " [7.7 2.6 6.9 2.3]\n",
      " [6.  2.2 5.  1.5]\n",
      " [6.9 3.2 5.7 2.3]\n",
      " [5.6 2.8 4.9 2. ]\n",
      " [7.7 2.8 6.7 2. ]\n",
      " [6.3 2.7 4.9 1.8]\n",
      " [6.7 3.3 5.7 2.1]\n",
      " [7.2 3.2 6.  1.8]\n",
      " [6.2 2.8 4.8 1.8]\n",
      " [6.1 3.  4.9 1.8]\n",
      " [6.4 2.8 5.6 2.1]\n",
      " [7.2 3.  5.8 1.6]\n",
      " [7.4 2.8 6.1 1.9]\n",
      " [7.9 3.8 6.4 2. ]\n",
      " [6.4 2.8 5.6 2.2]\n",
      " [6.3 2.8 5.1 1.5]\n",
      " [6.1 2.6 5.6 1.4]\n",
      " [7.7 3.  6.1 2.3]\n",
      " [6.3 3.4 5.6 2.4]\n",
      " [6.4 3.1 5.5 1.8]\n",
      " [6.  3.  4.8 1.8]\n",
      " [6.9 3.1 5.4 2.1]\n",
      " [6.7 3.1 5.6 2.4]\n",
      " [6.9 3.1 5.1 2.3]\n",
      " [5.8 2.7 5.1 1.9]\n",
      " [6.8 3.2 5.9 2.3]\n",
      " [6.7 3.3 5.7 2.5]\n",
      " [6.7 3.  5.2 2.3]\n",
      " [6.3 2.5 5.  1.9]\n",
      " [6.5 3.  5.2 2. ]\n",
      " [6.2 3.4 5.4 2.3]\n",
      " [5.9 3.  5.1 1.8]]\n",
      "----------------------------------------------------------------------------------\n",
      "[0 0 0 0 0 0 0 0 0 0 0 0 0 0 0 0 0 0 0 0 0 0 0 0 0 0 0 0 0 0 0 0 0 0 0 0 0\n",
      " 0 0 0 0 0 0 0 0 0 0 0 0 0 1 1 1 1 1 1 1 1 1 1 1 1 1 1 1 1 1 1 1 1 1 1 1 1\n",
      " 1 1 1 1 1 1 1 1 1 1 1 1 1 1 1 1 1 1 1 1 1 1 1 1 1 1 2 2 2 2 2 2 2 2 2 2 2\n",
      " 2 2 2 2 2 2 2 2 2 2 2 2 2 2 2 2 2 2 2 2 2 2 2 2 2 2 2 2 2 2 2 2 2 2 2 2 2\n",
      " 2 2]\n"
     ]
    }
   ],
   "source": [
    "data = iris_조혜리['data']\n",
    "target = iris_조혜리['target']\n",
    "print(data)\n",
    "print('----------------------------------------------------------------------------------')\n",
    "print(target)\n"
   ]
  },
  {
   "cell_type": "code",
   "execution_count": 5,
   "id": "df476cc8",
   "metadata": {},
   "outputs": [
    {
     "name": "stdout",
     "output_type": "stream",
     "text": [
      "5.1\n",
      "3.5\n"
     ]
    },
    {
     "data": {
      "text/plain": [
       "[5.1, 3.5]"
      ]
     },
     "execution_count": 5,
     "metadata": {},
     "output_type": "execute_result"
    }
   ],
   "source": [
    "print(data[0][0])\n",
    "print(data[0][1])\n",
    "df = []\n",
    "df = [data[0][0],data[0][1]]\n",
    "df"
   ]
  },
  {
   "cell_type": "markdown",
   "id": "0b853cff",
   "metadata": {},
   "source": [
    "### 꽃받침 길이와 꽃받침 폭으로 종 분류모델 생성 ( KNN )"
   ]
  },
  {
   "cell_type": "code",
   "execution_count": 6,
   "id": "7d42c085",
   "metadata": {},
   "outputs": [
    {
     "name": "stdout",
     "output_type": "stream",
     "text": [
      "[[5.1, 3.5], [4.9, 3.0], [4.7, 3.2], [4.6, 3.1], [5.0, 3.6], [5.4, 3.9], [4.6, 3.4], [5.0, 3.4], [4.4, 2.9], [4.9, 3.1], [5.4, 3.7], [4.8, 3.4], [4.8, 3.0], [4.3, 3.0], [5.8, 4.0], [5.7, 4.4], [5.4, 3.9], [5.1, 3.5], [5.7, 3.8], [5.1, 3.8], [5.4, 3.4], [5.1, 3.7], [4.6, 3.6], [5.1, 3.3], [4.8, 3.4], [5.0, 3.0], [5.0, 3.4], [5.2, 3.5], [5.2, 3.4], [4.7, 3.2], [4.8, 3.1], [5.4, 3.4], [5.2, 4.1], [5.5, 4.2], [4.9, 3.1], [5.0, 3.2], [5.5, 3.5], [4.9, 3.6], [4.4, 3.0], [5.1, 3.4], [5.0, 3.5], [4.5, 2.3], [4.4, 3.2], [5.0, 3.5], [5.1, 3.8], [4.8, 3.0], [5.1, 3.8], [4.6, 3.2], [5.3, 3.7], [5.0, 3.3], [7.0, 3.2], [6.4, 3.2], [6.9, 3.1], [5.5, 2.3], [6.5, 2.8], [5.7, 2.8], [6.3, 3.3], [4.9, 2.4], [6.6, 2.9], [5.2, 2.7], [5.0, 2.0], [5.9, 3.0], [6.0, 2.2], [6.1, 2.9], [5.6, 2.9], [6.7, 3.1], [5.6, 3.0], [5.8, 2.7], [6.2, 2.2], [5.6, 2.5], [5.9, 3.2], [6.1, 2.8], [6.3, 2.5], [6.1, 2.8], [6.4, 2.9], [6.6, 3.0], [6.8, 2.8], [6.7, 3.0], [6.0, 2.9], [5.7, 2.6], [5.5, 2.4], [5.5, 2.4], [5.8, 2.7], [6.0, 2.7], [5.4, 3.0], [6.0, 3.4], [6.7, 3.1], [6.3, 2.3], [5.6, 3.0], [5.5, 2.5], [5.5, 2.6], [6.1, 3.0], [5.8, 2.6], [5.0, 2.3], [5.6, 2.7], [5.7, 3.0], [5.7, 2.9], [6.2, 2.9], [5.1, 2.5], [5.7, 2.8], [6.3, 3.3], [5.8, 2.7], [7.1, 3.0], [6.3, 2.9], [6.5, 3.0], [7.6, 3.0], [4.9, 2.5], [7.3, 2.9], [6.7, 2.5], [7.2, 3.6], [6.5, 3.2], [6.4, 2.7], [6.8, 3.0], [5.7, 2.5], [5.8, 2.8], [6.4, 3.2], [6.5, 3.0], [7.7, 3.8], [7.7, 2.6], [6.0, 2.2], [6.9, 3.2], [5.6, 2.8], [7.7, 2.8], [6.3, 2.7], [6.7, 3.3], [7.2, 3.2], [6.2, 2.8], [6.1, 3.0], [6.4, 2.8], [7.2, 3.0], [7.4, 2.8], [7.9, 3.8], [6.4, 2.8], [6.3, 2.8], [6.1, 2.6], [7.7, 3.0], [6.3, 3.4], [6.4, 3.1], [6.0, 3.0], [6.9, 3.1], [6.7, 3.1], [6.9, 3.1], [5.8, 2.7], [6.8, 3.2], [6.7, 3.3], [6.7, 3.0], [6.3, 2.5], [6.5, 3.0], [6.2, 3.4], [5.9, 3.0]]\n"
     ]
    }
   ],
   "source": [
    "import numpy as np\n",
    "data_input=[]\n",
    "for i in range(len(data)):\n",
    "    data_input.append([data[i][0],data[i][1]])\n",
    "print(data_input)\n",
    "data_input = np.array(data_input)"
   ]
  },
  {
   "cell_type": "code",
   "execution_count": 7,
   "id": "4633f266",
   "metadata": {
    "scrolled": true
   },
   "outputs": [
    {
     "name": "stdout",
     "output_type": "stream",
     "text": [
      "(112, 2)\n",
      "-------------\n",
      "(112,)\n"
     ]
    }
   ],
   "source": [
    "from sklearn.model_selection import train_test_split\n",
    "train_input,test_input,train_target,test_target = train_test_split(data_input,target)\n",
    "print(train_input.shape)\n",
    "print('-------------')\n",
    "print(train_target.shape)"
   ]
  },
  {
   "cell_type": "code",
   "execution_count": 8,
   "id": "3220104a",
   "metadata": {},
   "outputs": [
    {
     "name": "stdout",
     "output_type": "stream",
     "text": [
      "[2]\n",
      "0.8392857142857143\n",
      "0.8157894736842105\n"
     ]
    },
    {
     "name": "stderr",
     "output_type": "stream",
     "text": [
      "C:\\Users\\82102\\ml\\lib\\site-packages\\sklearn\\neighbors\\_classification.py:237: FutureWarning: Unlike other reduction functions (e.g. `skew`, `kurtosis`), the default behavior of `mode` typically preserves the axis it acts along. In SciPy 1.11.0, this behavior will change: the default value of `keepdims` will become False, the `axis` over which the statistic is taken will be eliminated, and the value None will no longer be accepted. Set `keepdims` to True or False to avoid this warning.\n",
      "  mode, _ = stats.mode(_y[neigh_ind, k], axis=1)\n",
      "C:\\Users\\82102\\ml\\lib\\site-packages\\sklearn\\neighbors\\_classification.py:237: FutureWarning: Unlike other reduction functions (e.g. `skew`, `kurtosis`), the default behavior of `mode` typically preserves the axis it acts along. In SciPy 1.11.0, this behavior will change: the default value of `keepdims` will become False, the `axis` over which the statistic is taken will be eliminated, and the value None will no longer be accepted. Set `keepdims` to True or False to avoid this warning.\n",
      "  mode, _ = stats.mode(_y[neigh_ind, k], axis=1)\n",
      "C:\\Users\\82102\\ml\\lib\\site-packages\\sklearn\\neighbors\\_classification.py:237: FutureWarning: Unlike other reduction functions (e.g. `skew`, `kurtosis`), the default behavior of `mode` typically preserves the axis it acts along. In SciPy 1.11.0, this behavior will change: the default value of `keepdims` will become False, the `axis` over which the statistic is taken will be eliminated, and the value None will no longer be accepted. Set `keepdims` to True or False to avoid this warning.\n",
      "  mode, _ = stats.mode(_y[neigh_ind, k], axis=1)\n"
     ]
    }
   ],
   "source": [
    "from sklearn.neighbors import KNeighborsClassifier\n",
    "\n",
    "# KNN 최근접 이웃모델 \n",
    "kn = KNeighborsClassifier()\n",
    "kn.fit(data_input, target)\n",
    "\n",
    "# 예측 (임의의 값)\n",
    "print(kn.predict([[6,3]]))\n",
    "\n",
    "# 결정계수\n",
    "print(kn.score(train_input, train_target))\n",
    "print(kn.score(test_input, test_target))\n",
    "\n",
    "# [해석]\n",
    "# 과대적합\n"
   ]
  },
  {
   "cell_type": "code",
   "execution_count": 9,
   "id": "05f73a3f",
   "metadata": {},
   "outputs": [
    {
     "name": "stdout",
     "output_type": "stream",
     "text": [
      "1 : 0.9464285714285714\n",
      "2 : 0.8660714285714286\n",
      "3 : 0.8839285714285714\n",
      "4 : 0.8660714285714286\n",
      "5 : 0.8571428571428571\n",
      "6 : 0.8303571428571429\n",
      "7 : 0.8482142857142857\n",
      "8 : 0.8392857142857143\n",
      "9 : 0.8214285714285714\n",
      "10 : 0.8214285714285714\n",
      "11 : 0.8214285714285714\n",
      "12 : 0.8214285714285714\n",
      "13 : 0.8214285714285714\n",
      "14 : 0.8214285714285714\n",
      "15 : 0.8214285714285714\n",
      "16 : 0.8214285714285714\n",
      "17 : 0.8214285714285714\n",
      "18 : 0.8214285714285714\n",
      "19 : 0.8214285714285714\n",
      "20 : 0.8214285714285714\n",
      "21 : 0.8303571428571429\n",
      "22 : 0.8303571428571429\n",
      "23 : 0.8303571428571429\n",
      "24 : 0.8303571428571429\n",
      "25 : 0.8303571428571429\n",
      "26 : 0.8214285714285714\n",
      "27 : 0.8303571428571429\n",
      "28 : 0.8303571428571429\n",
      "29 : 0.8303571428571429\n",
      "30 : 0.8392857142857143\n",
      "31 : 0.8392857142857143\n",
      "32 : 0.8392857142857143\n",
      "33 : 0.8392857142857143\n",
      "34 : 0.8571428571428571\n",
      "35 : 0.8392857142857143\n",
      "36 : 0.8482142857142857\n",
      "37 : 0.8571428571428571\n",
      "38 : 0.8482142857142857\n",
      "39 : 0.8392857142857143\n",
      "40 : 0.8482142857142857\n",
      "41 : 0.8392857142857143\n",
      "42 : 0.8571428571428571\n",
      "43 : 0.8482142857142857\n",
      "44 : 0.8482142857142857\n",
      "45 : 0.8482142857142857\n",
      "46 : 0.8392857142857143\n",
      "47 : 0.8392857142857143\n",
      "48 : 0.8125\n",
      "49 : 0.8125\n"
     ]
    },
    {
     "name": "stderr",
     "output_type": "stream",
     "text": [
      "C:\\Users\\82102\\ml\\lib\\site-packages\\sklearn\\neighbors\\_classification.py:237: FutureWarning: Unlike other reduction functions (e.g. `skew`, `kurtosis`), the default behavior of `mode` typically preserves the axis it acts along. In SciPy 1.11.0, this behavior will change: the default value of `keepdims` will become False, the `axis` over which the statistic is taken will be eliminated, and the value None will no longer be accepted. Set `keepdims` to True or False to avoid this warning.\n",
      "  mode, _ = stats.mode(_y[neigh_ind, k], axis=1)\n",
      "C:\\Users\\82102\\ml\\lib\\site-packages\\sklearn\\neighbors\\_classification.py:237: FutureWarning: Unlike other reduction functions (e.g. `skew`, `kurtosis`), the default behavior of `mode` typically preserves the axis it acts along. In SciPy 1.11.0, this behavior will change: the default value of `keepdims` will become False, the `axis` over which the statistic is taken will be eliminated, and the value None will no longer be accepted. Set `keepdims` to True or False to avoid this warning.\n",
      "  mode, _ = stats.mode(_y[neigh_ind, k], axis=1)\n",
      "C:\\Users\\82102\\ml\\lib\\site-packages\\sklearn\\neighbors\\_classification.py:237: FutureWarning: Unlike other reduction functions (e.g. `skew`, `kurtosis`), the default behavior of `mode` typically preserves the axis it acts along. In SciPy 1.11.0, this behavior will change: the default value of `keepdims` will become False, the `axis` over which the statistic is taken will be eliminated, and the value None will no longer be accepted. Set `keepdims` to True or False to avoid this warning.\n",
      "  mode, _ = stats.mode(_y[neigh_ind, k], axis=1)\n",
      "C:\\Users\\82102\\ml\\lib\\site-packages\\sklearn\\neighbors\\_classification.py:237: FutureWarning: Unlike other reduction functions (e.g. `skew`, `kurtosis`), the default behavior of `mode` typically preserves the axis it acts along. In SciPy 1.11.0, this behavior will change: the default value of `keepdims` will become False, the `axis` over which the statistic is taken will be eliminated, and the value None will no longer be accepted. Set `keepdims` to True or False to avoid this warning.\n",
      "  mode, _ = stats.mode(_y[neigh_ind, k], axis=1)\n",
      "C:\\Users\\82102\\ml\\lib\\site-packages\\sklearn\\neighbors\\_classification.py:237: FutureWarning: Unlike other reduction functions (e.g. `skew`, `kurtosis`), the default behavior of `mode` typically preserves the axis it acts along. In SciPy 1.11.0, this behavior will change: the default value of `keepdims` will become False, the `axis` over which the statistic is taken will be eliminated, and the value None will no longer be accepted. Set `keepdims` to True or False to avoid this warning.\n",
      "  mode, _ = stats.mode(_y[neigh_ind, k], axis=1)\n",
      "C:\\Users\\82102\\ml\\lib\\site-packages\\sklearn\\neighbors\\_classification.py:237: FutureWarning: Unlike other reduction functions (e.g. `skew`, `kurtosis`), the default behavior of `mode` typically preserves the axis it acts along. In SciPy 1.11.0, this behavior will change: the default value of `keepdims` will become False, the `axis` over which the statistic is taken will be eliminated, and the value None will no longer be accepted. Set `keepdims` to True or False to avoid this warning.\n",
      "  mode, _ = stats.mode(_y[neigh_ind, k], axis=1)\n",
      "C:\\Users\\82102\\ml\\lib\\site-packages\\sklearn\\neighbors\\_classification.py:237: FutureWarning: Unlike other reduction functions (e.g. `skew`, `kurtosis`), the default behavior of `mode` typically preserves the axis it acts along. In SciPy 1.11.0, this behavior will change: the default value of `keepdims` will become False, the `axis` over which the statistic is taken will be eliminated, and the value None will no longer be accepted. Set `keepdims` to True or False to avoid this warning.\n",
      "  mode, _ = stats.mode(_y[neigh_ind, k], axis=1)\n",
      "C:\\Users\\82102\\ml\\lib\\site-packages\\sklearn\\neighbors\\_classification.py:237: FutureWarning: Unlike other reduction functions (e.g. `skew`, `kurtosis`), the default behavior of `mode` typically preserves the axis it acts along. In SciPy 1.11.0, this behavior will change: the default value of `keepdims` will become False, the `axis` over which the statistic is taken will be eliminated, and the value None will no longer be accepted. Set `keepdims` to True or False to avoid this warning.\n",
      "  mode, _ = stats.mode(_y[neigh_ind, k], axis=1)\n",
      "C:\\Users\\82102\\ml\\lib\\site-packages\\sklearn\\neighbors\\_classification.py:237: FutureWarning: Unlike other reduction functions (e.g. `skew`, `kurtosis`), the default behavior of `mode` typically preserves the axis it acts along. In SciPy 1.11.0, this behavior will change: the default value of `keepdims` will become False, the `axis` over which the statistic is taken will be eliminated, and the value None will no longer be accepted. Set `keepdims` to True or False to avoid this warning.\n",
      "  mode, _ = stats.mode(_y[neigh_ind, k], axis=1)\n",
      "C:\\Users\\82102\\ml\\lib\\site-packages\\sklearn\\neighbors\\_classification.py:237: FutureWarning: Unlike other reduction functions (e.g. `skew`, `kurtosis`), the default behavior of `mode` typically preserves the axis it acts along. In SciPy 1.11.0, this behavior will change: the default value of `keepdims` will become False, the `axis` over which the statistic is taken will be eliminated, and the value None will no longer be accepted. Set `keepdims` to True or False to avoid this warning.\n",
      "  mode, _ = stats.mode(_y[neigh_ind, k], axis=1)\n",
      "C:\\Users\\82102\\ml\\lib\\site-packages\\sklearn\\neighbors\\_classification.py:237: FutureWarning: Unlike other reduction functions (e.g. `skew`, `kurtosis`), the default behavior of `mode` typically preserves the axis it acts along. In SciPy 1.11.0, this behavior will change: the default value of `keepdims` will become False, the `axis` over which the statistic is taken will be eliminated, and the value None will no longer be accepted. Set `keepdims` to True or False to avoid this warning.\n",
      "  mode, _ = stats.mode(_y[neigh_ind, k], axis=1)\n",
      "C:\\Users\\82102\\ml\\lib\\site-packages\\sklearn\\neighbors\\_classification.py:237: FutureWarning: Unlike other reduction functions (e.g. `skew`, `kurtosis`), the default behavior of `mode` typically preserves the axis it acts along. In SciPy 1.11.0, this behavior will change: the default value of `keepdims` will become False, the `axis` over which the statistic is taken will be eliminated, and the value None will no longer be accepted. Set `keepdims` to True or False to avoid this warning.\n",
      "  mode, _ = stats.mode(_y[neigh_ind, k], axis=1)\n",
      "C:\\Users\\82102\\ml\\lib\\site-packages\\sklearn\\neighbors\\_classification.py:237: FutureWarning: Unlike other reduction functions (e.g. `skew`, `kurtosis`), the default behavior of `mode` typically preserves the axis it acts along. In SciPy 1.11.0, this behavior will change: the default value of `keepdims` will become False, the `axis` over which the statistic is taken will be eliminated, and the value None will no longer be accepted. Set `keepdims` to True or False to avoid this warning.\n",
      "  mode, _ = stats.mode(_y[neigh_ind, k], axis=1)\n",
      "C:\\Users\\82102\\ml\\lib\\site-packages\\sklearn\\neighbors\\_classification.py:237: FutureWarning: Unlike other reduction functions (e.g. `skew`, `kurtosis`), the default behavior of `mode` typically preserves the axis it acts along. In SciPy 1.11.0, this behavior will change: the default value of `keepdims` will become False, the `axis` over which the statistic is taken will be eliminated, and the value None will no longer be accepted. Set `keepdims` to True or False to avoid this warning.\n",
      "  mode, _ = stats.mode(_y[neigh_ind, k], axis=1)\n",
      "C:\\Users\\82102\\ml\\lib\\site-packages\\sklearn\\neighbors\\_classification.py:237: FutureWarning: Unlike other reduction functions (e.g. `skew`, `kurtosis`), the default behavior of `mode` typically preserves the axis it acts along. In SciPy 1.11.0, this behavior will change: the default value of `keepdims` will become False, the `axis` over which the statistic is taken will be eliminated, and the value None will no longer be accepted. Set `keepdims` to True or False to avoid this warning.\n",
      "  mode, _ = stats.mode(_y[neigh_ind, k], axis=1)\n",
      "C:\\Users\\82102\\ml\\lib\\site-packages\\sklearn\\neighbors\\_classification.py:237: FutureWarning: Unlike other reduction functions (e.g. `skew`, `kurtosis`), the default behavior of `mode` typically preserves the axis it acts along. In SciPy 1.11.0, this behavior will change: the default value of `keepdims` will become False, the `axis` over which the statistic is taken will be eliminated, and the value None will no longer be accepted. Set `keepdims` to True or False to avoid this warning.\n",
      "  mode, _ = stats.mode(_y[neigh_ind, k], axis=1)\n",
      "C:\\Users\\82102\\ml\\lib\\site-packages\\sklearn\\neighbors\\_classification.py:237: FutureWarning: Unlike other reduction functions (e.g. `skew`, `kurtosis`), the default behavior of `mode` typically preserves the axis it acts along. In SciPy 1.11.0, this behavior will change: the default value of `keepdims` will become False, the `axis` over which the statistic is taken will be eliminated, and the value None will no longer be accepted. Set `keepdims` to True or False to avoid this warning.\n",
      "  mode, _ = stats.mode(_y[neigh_ind, k], axis=1)\n",
      "C:\\Users\\82102\\ml\\lib\\site-packages\\sklearn\\neighbors\\_classification.py:237: FutureWarning: Unlike other reduction functions (e.g. `skew`, `kurtosis`), the default behavior of `mode` typically preserves the axis it acts along. In SciPy 1.11.0, this behavior will change: the default value of `keepdims` will become False, the `axis` over which the statistic is taken will be eliminated, and the value None will no longer be accepted. Set `keepdims` to True or False to avoid this warning.\n",
      "  mode, _ = stats.mode(_y[neigh_ind, k], axis=1)\n",
      "C:\\Users\\82102\\ml\\lib\\site-packages\\sklearn\\neighbors\\_classification.py:237: FutureWarning: Unlike other reduction functions (e.g. `skew`, `kurtosis`), the default behavior of `mode` typically preserves the axis it acts along. In SciPy 1.11.0, this behavior will change: the default value of `keepdims` will become False, the `axis` over which the statistic is taken will be eliminated, and the value None will no longer be accepted. Set `keepdims` to True or False to avoid this warning.\n",
      "  mode, _ = stats.mode(_y[neigh_ind, k], axis=1)\n",
      "C:\\Users\\82102\\ml\\lib\\site-packages\\sklearn\\neighbors\\_classification.py:237: FutureWarning: Unlike other reduction functions (e.g. `skew`, `kurtosis`), the default behavior of `mode` typically preserves the axis it acts along. In SciPy 1.11.0, this behavior will change: the default value of `keepdims` will become False, the `axis` over which the statistic is taken will be eliminated, and the value None will no longer be accepted. Set `keepdims` to True or False to avoid this warning.\n",
      "  mode, _ = stats.mode(_y[neigh_ind, k], axis=1)\n",
      "C:\\Users\\82102\\ml\\lib\\site-packages\\sklearn\\neighbors\\_classification.py:237: FutureWarning: Unlike other reduction functions (e.g. `skew`, `kurtosis`), the default behavior of `mode` typically preserves the axis it acts along. In SciPy 1.11.0, this behavior will change: the default value of `keepdims` will become False, the `axis` over which the statistic is taken will be eliminated, and the value None will no longer be accepted. Set `keepdims` to True or False to avoid this warning.\n",
      "  mode, _ = stats.mode(_y[neigh_ind, k], axis=1)\n",
      "C:\\Users\\82102\\ml\\lib\\site-packages\\sklearn\\neighbors\\_classification.py:237: FutureWarning: Unlike other reduction functions (e.g. `skew`, `kurtosis`), the default behavior of `mode` typically preserves the axis it acts along. In SciPy 1.11.0, this behavior will change: the default value of `keepdims` will become False, the `axis` over which the statistic is taken will be eliminated, and the value None will no longer be accepted. Set `keepdims` to True or False to avoid this warning.\n",
      "  mode, _ = stats.mode(_y[neigh_ind, k], axis=1)\n",
      "C:\\Users\\82102\\ml\\lib\\site-packages\\sklearn\\neighbors\\_classification.py:237: FutureWarning: Unlike other reduction functions (e.g. `skew`, `kurtosis`), the default behavior of `mode` typically preserves the axis it acts along. In SciPy 1.11.0, this behavior will change: the default value of `keepdims` will become False, the `axis` over which the statistic is taken will be eliminated, and the value None will no longer be accepted. Set `keepdims` to True or False to avoid this warning.\n",
      "  mode, _ = stats.mode(_y[neigh_ind, k], axis=1)\n",
      "C:\\Users\\82102\\ml\\lib\\site-packages\\sklearn\\neighbors\\_classification.py:237: FutureWarning: Unlike other reduction functions (e.g. `skew`, `kurtosis`), the default behavior of `mode` typically preserves the axis it acts along. In SciPy 1.11.0, this behavior will change: the default value of `keepdims` will become False, the `axis` over which the statistic is taken will be eliminated, and the value None will no longer be accepted. Set `keepdims` to True or False to avoid this warning.\n",
      "  mode, _ = stats.mode(_y[neigh_ind, k], axis=1)\n",
      "C:\\Users\\82102\\ml\\lib\\site-packages\\sklearn\\neighbors\\_classification.py:237: FutureWarning: Unlike other reduction functions (e.g. `skew`, `kurtosis`), the default behavior of `mode` typically preserves the axis it acts along. In SciPy 1.11.0, this behavior will change: the default value of `keepdims` will become False, the `axis` over which the statistic is taken will be eliminated, and the value None will no longer be accepted. Set `keepdims` to True or False to avoid this warning.\n",
      "  mode, _ = stats.mode(_y[neigh_ind, k], axis=1)\n",
      "C:\\Users\\82102\\ml\\lib\\site-packages\\sklearn\\neighbors\\_classification.py:237: FutureWarning: Unlike other reduction functions (e.g. `skew`, `kurtosis`), the default behavior of `mode` typically preserves the axis it acts along. In SciPy 1.11.0, this behavior will change: the default value of `keepdims` will become False, the `axis` over which the statistic is taken will be eliminated, and the value None will no longer be accepted. Set `keepdims` to True or False to avoid this warning.\n",
      "  mode, _ = stats.mode(_y[neigh_ind, k], axis=1)\n",
      "C:\\Users\\82102\\ml\\lib\\site-packages\\sklearn\\neighbors\\_classification.py:237: FutureWarning: Unlike other reduction functions (e.g. `skew`, `kurtosis`), the default behavior of `mode` typically preserves the axis it acts along. In SciPy 1.11.0, this behavior will change: the default value of `keepdims` will become False, the `axis` over which the statistic is taken will be eliminated, and the value None will no longer be accepted. Set `keepdims` to True or False to avoid this warning.\n",
      "  mode, _ = stats.mode(_y[neigh_ind, k], axis=1)\n",
      "C:\\Users\\82102\\ml\\lib\\site-packages\\sklearn\\neighbors\\_classification.py:237: FutureWarning: Unlike other reduction functions (e.g. `skew`, `kurtosis`), the default behavior of `mode` typically preserves the axis it acts along. In SciPy 1.11.0, this behavior will change: the default value of `keepdims` will become False, the `axis` over which the statistic is taken will be eliminated, and the value None will no longer be accepted. Set `keepdims` to True or False to avoid this warning.\n",
      "  mode, _ = stats.mode(_y[neigh_ind, k], axis=1)\n",
      "C:\\Users\\82102\\ml\\lib\\site-packages\\sklearn\\neighbors\\_classification.py:237: FutureWarning: Unlike other reduction functions (e.g. `skew`, `kurtosis`), the default behavior of `mode` typically preserves the axis it acts along. In SciPy 1.11.0, this behavior will change: the default value of `keepdims` will become False, the `axis` over which the statistic is taken will be eliminated, and the value None will no longer be accepted. Set `keepdims` to True or False to avoid this warning.\n",
      "  mode, _ = stats.mode(_y[neigh_ind, k], axis=1)\n",
      "C:\\Users\\82102\\ml\\lib\\site-packages\\sklearn\\neighbors\\_classification.py:237: FutureWarning: Unlike other reduction functions (e.g. `skew`, `kurtosis`), the default behavior of `mode` typically preserves the axis it acts along. In SciPy 1.11.0, this behavior will change: the default value of `keepdims` will become False, the `axis` over which the statistic is taken will be eliminated, and the value None will no longer be accepted. Set `keepdims` to True or False to avoid this warning.\n",
      "  mode, _ = stats.mode(_y[neigh_ind, k], axis=1)\n",
      "C:\\Users\\82102\\ml\\lib\\site-packages\\sklearn\\neighbors\\_classification.py:237: FutureWarning: Unlike other reduction functions (e.g. `skew`, `kurtosis`), the default behavior of `mode` typically preserves the axis it acts along. In SciPy 1.11.0, this behavior will change: the default value of `keepdims` will become False, the `axis` over which the statistic is taken will be eliminated, and the value None will no longer be accepted. Set `keepdims` to True or False to avoid this warning.\n",
      "  mode, _ = stats.mode(_y[neigh_ind, k], axis=1)\n",
      "C:\\Users\\82102\\ml\\lib\\site-packages\\sklearn\\neighbors\\_classification.py:237: FutureWarning: Unlike other reduction functions (e.g. `skew`, `kurtosis`), the default behavior of `mode` typically preserves the axis it acts along. In SciPy 1.11.0, this behavior will change: the default value of `keepdims` will become False, the `axis` over which the statistic is taken will be eliminated, and the value None will no longer be accepted. Set `keepdims` to True or False to avoid this warning.\n",
      "  mode, _ = stats.mode(_y[neigh_ind, k], axis=1)\n",
      "C:\\Users\\82102\\ml\\lib\\site-packages\\sklearn\\neighbors\\_classification.py:237: FutureWarning: Unlike other reduction functions (e.g. `skew`, `kurtosis`), the default behavior of `mode` typically preserves the axis it acts along. In SciPy 1.11.0, this behavior will change: the default value of `keepdims` will become False, the `axis` over which the statistic is taken will be eliminated, and the value None will no longer be accepted. Set `keepdims` to True or False to avoid this warning.\n",
      "  mode, _ = stats.mode(_y[neigh_ind, k], axis=1)\n",
      "C:\\Users\\82102\\ml\\lib\\site-packages\\sklearn\\neighbors\\_classification.py:237: FutureWarning: Unlike other reduction functions (e.g. `skew`, `kurtosis`), the default behavior of `mode` typically preserves the axis it acts along. In SciPy 1.11.0, this behavior will change: the default value of `keepdims` will become False, the `axis` over which the statistic is taken will be eliminated, and the value None will no longer be accepted. Set `keepdims` to True or False to avoid this warning.\n",
      "  mode, _ = stats.mode(_y[neigh_ind, k], axis=1)\n",
      "C:\\Users\\82102\\ml\\lib\\site-packages\\sklearn\\neighbors\\_classification.py:237: FutureWarning: Unlike other reduction functions (e.g. `skew`, `kurtosis`), the default behavior of `mode` typically preserves the axis it acts along. In SciPy 1.11.0, this behavior will change: the default value of `keepdims` will become False, the `axis` over which the statistic is taken will be eliminated, and the value None will no longer be accepted. Set `keepdims` to True or False to avoid this warning.\n",
      "  mode, _ = stats.mode(_y[neigh_ind, k], axis=1)\n",
      "C:\\Users\\82102\\ml\\lib\\site-packages\\sklearn\\neighbors\\_classification.py:237: FutureWarning: Unlike other reduction functions (e.g. `skew`, `kurtosis`), the default behavior of `mode` typically preserves the axis it acts along. In SciPy 1.11.0, this behavior will change: the default value of `keepdims` will become False, the `axis` over which the statistic is taken will be eliminated, and the value None will no longer be accepted. Set `keepdims` to True or False to avoid this warning.\n",
      "  mode, _ = stats.mode(_y[neigh_ind, k], axis=1)\n",
      "C:\\Users\\82102\\ml\\lib\\site-packages\\sklearn\\neighbors\\_classification.py:237: FutureWarning: Unlike other reduction functions (e.g. `skew`, `kurtosis`), the default behavior of `mode` typically preserves the axis it acts along. In SciPy 1.11.0, this behavior will change: the default value of `keepdims` will become False, the `axis` over which the statistic is taken will be eliminated, and the value None will no longer be accepted. Set `keepdims` to True or False to avoid this warning.\n",
      "  mode, _ = stats.mode(_y[neigh_ind, k], axis=1)\n",
      "C:\\Users\\82102\\ml\\lib\\site-packages\\sklearn\\neighbors\\_classification.py:237: FutureWarning: Unlike other reduction functions (e.g. `skew`, `kurtosis`), the default behavior of `mode` typically preserves the axis it acts along. In SciPy 1.11.0, this behavior will change: the default value of `keepdims` will become False, the `axis` over which the statistic is taken will be eliminated, and the value None will no longer be accepted. Set `keepdims` to True or False to avoid this warning.\n",
      "  mode, _ = stats.mode(_y[neigh_ind, k], axis=1)\n",
      "C:\\Users\\82102\\ml\\lib\\site-packages\\sklearn\\neighbors\\_classification.py:237: FutureWarning: Unlike other reduction functions (e.g. `skew`, `kurtosis`), the default behavior of `mode` typically preserves the axis it acts along. In SciPy 1.11.0, this behavior will change: the default value of `keepdims` will become False, the `axis` over which the statistic is taken will be eliminated, and the value None will no longer be accepted. Set `keepdims` to True or False to avoid this warning.\n",
      "  mode, _ = stats.mode(_y[neigh_ind, k], axis=1)\n",
      "C:\\Users\\82102\\ml\\lib\\site-packages\\sklearn\\neighbors\\_classification.py:237: FutureWarning: Unlike other reduction functions (e.g. `skew`, `kurtosis`), the default behavior of `mode` typically preserves the axis it acts along. In SciPy 1.11.0, this behavior will change: the default value of `keepdims` will become False, the `axis` over which the statistic is taken will be eliminated, and the value None will no longer be accepted. Set `keepdims` to True or False to avoid this warning.\n",
      "  mode, _ = stats.mode(_y[neigh_ind, k], axis=1)\n",
      "C:\\Users\\82102\\ml\\lib\\site-packages\\sklearn\\neighbors\\_classification.py:237: FutureWarning: Unlike other reduction functions (e.g. `skew`, `kurtosis`), the default behavior of `mode` typically preserves the axis it acts along. In SciPy 1.11.0, this behavior will change: the default value of `keepdims` will become False, the `axis` over which the statistic is taken will be eliminated, and the value None will no longer be accepted. Set `keepdims` to True or False to avoid this warning.\n",
      "  mode, _ = stats.mode(_y[neigh_ind, k], axis=1)\n",
      "C:\\Users\\82102\\ml\\lib\\site-packages\\sklearn\\neighbors\\_classification.py:237: FutureWarning: Unlike other reduction functions (e.g. `skew`, `kurtosis`), the default behavior of `mode` typically preserves the axis it acts along. In SciPy 1.11.0, this behavior will change: the default value of `keepdims` will become False, the `axis` over which the statistic is taken will be eliminated, and the value None will no longer be accepted. Set `keepdims` to True or False to avoid this warning.\n",
      "  mode, _ = stats.mode(_y[neigh_ind, k], axis=1)\n",
      "C:\\Users\\82102\\ml\\lib\\site-packages\\sklearn\\neighbors\\_classification.py:237: FutureWarning: Unlike other reduction functions (e.g. `skew`, `kurtosis`), the default behavior of `mode` typically preserves the axis it acts along. In SciPy 1.11.0, this behavior will change: the default value of `keepdims` will become False, the `axis` over which the statistic is taken will be eliminated, and the value None will no longer be accepted. Set `keepdims` to True or False to avoid this warning.\n",
      "  mode, _ = stats.mode(_y[neigh_ind, k], axis=1)\n",
      "C:\\Users\\82102\\ml\\lib\\site-packages\\sklearn\\neighbors\\_classification.py:237: FutureWarning: Unlike other reduction functions (e.g. `skew`, `kurtosis`), the default behavior of `mode` typically preserves the axis it acts along. In SciPy 1.11.0, this behavior will change: the default value of `keepdims` will become False, the `axis` over which the statistic is taken will be eliminated, and the value None will no longer be accepted. Set `keepdims` to True or False to avoid this warning.\n",
      "  mode, _ = stats.mode(_y[neigh_ind, k], axis=1)\n",
      "C:\\Users\\82102\\ml\\lib\\site-packages\\sklearn\\neighbors\\_classification.py:237: FutureWarning: Unlike other reduction functions (e.g. `skew`, `kurtosis`), the default behavior of `mode` typically preserves the axis it acts along. In SciPy 1.11.0, this behavior will change: the default value of `keepdims` will become False, the `axis` over which the statistic is taken will be eliminated, and the value None will no longer be accepted. Set `keepdims` to True or False to avoid this warning.\n",
      "  mode, _ = stats.mode(_y[neigh_ind, k], axis=1)\n",
      "C:\\Users\\82102\\ml\\lib\\site-packages\\sklearn\\neighbors\\_classification.py:237: FutureWarning: Unlike other reduction functions (e.g. `skew`, `kurtosis`), the default behavior of `mode` typically preserves the axis it acts along. In SciPy 1.11.0, this behavior will change: the default value of `keepdims` will become False, the `axis` over which the statistic is taken will be eliminated, and the value None will no longer be accepted. Set `keepdims` to True or False to avoid this warning.\n",
      "  mode, _ = stats.mode(_y[neigh_ind, k], axis=1)\n",
      "C:\\Users\\82102\\ml\\lib\\site-packages\\sklearn\\neighbors\\_classification.py:237: FutureWarning: Unlike other reduction functions (e.g. `skew`, `kurtosis`), the default behavior of `mode` typically preserves the axis it acts along. In SciPy 1.11.0, this behavior will change: the default value of `keepdims` will become False, the `axis` over which the statistic is taken will be eliminated, and the value None will no longer be accepted. Set `keepdims` to True or False to avoid this warning.\n",
      "  mode, _ = stats.mode(_y[neigh_ind, k], axis=1)\n",
      "C:\\Users\\82102\\ml\\lib\\site-packages\\sklearn\\neighbors\\_classification.py:237: FutureWarning: Unlike other reduction functions (e.g. `skew`, `kurtosis`), the default behavior of `mode` typically preserves the axis it acts along. In SciPy 1.11.0, this behavior will change: the default value of `keepdims` will become False, the `axis` over which the statistic is taken will be eliminated, and the value None will no longer be accepted. Set `keepdims` to True or False to avoid this warning.\n",
      "  mode, _ = stats.mode(_y[neigh_ind, k], axis=1)\n",
      "C:\\Users\\82102\\ml\\lib\\site-packages\\sklearn\\neighbors\\_classification.py:237: FutureWarning: Unlike other reduction functions (e.g. `skew`, `kurtosis`), the default behavior of `mode` typically preserves the axis it acts along. In SciPy 1.11.0, this behavior will change: the default value of `keepdims` will become False, the `axis` over which the statistic is taken will be eliminated, and the value None will no longer be accepted. Set `keepdims` to True or False to avoid this warning.\n",
      "  mode, _ = stats.mode(_y[neigh_ind, k], axis=1)\n"
     ]
    }
   ],
   "source": [
    "# 의미..X ...?\n",
    "\n",
    "for i in range (1,50,1):\n",
    "    kn_n = KNeighborsClassifier(n_neighbors=i)\n",
    "    kn_n.fit(train_input, train_target)  \n",
    "    print(i, ':' , kn_n.score(train_input, train_target))"
   ]
  },
  {
   "cell_type": "markdown",
   "id": "e728f4ef",
   "metadata": {},
   "source": [
    "### 꽃잎 길이와 꽃잎 폭으로 종 분류모델 생성 ( KNN )"
   ]
  },
  {
   "cell_type": "code",
   "execution_count": 10,
   "id": "c5947d16",
   "metadata": {},
   "outputs": [
    {
     "name": "stdout",
     "output_type": "stream",
     "text": [
      "[[1.4, 0.2], [1.4, 0.2], [1.3, 0.2], [1.5, 0.2], [1.4, 0.2], [1.7, 0.4], [1.4, 0.3], [1.5, 0.2], [1.4, 0.2], [1.5, 0.1], [1.5, 0.2], [1.6, 0.2], [1.4, 0.1], [1.1, 0.1], [1.2, 0.2], [1.5, 0.4], [1.3, 0.4], [1.4, 0.3], [1.7, 0.3], [1.5, 0.3], [1.7, 0.2], [1.5, 0.4], [1.0, 0.2], [1.7, 0.5], [1.9, 0.2], [1.6, 0.2], [1.6, 0.4], [1.5, 0.2], [1.4, 0.2], [1.6, 0.2], [1.6, 0.2], [1.5, 0.4], [1.5, 0.1], [1.4, 0.2], [1.5, 0.2], [1.2, 0.2], [1.3, 0.2], [1.4, 0.1], [1.3, 0.2], [1.5, 0.2], [1.3, 0.3], [1.3, 0.3], [1.3, 0.2], [1.6, 0.6], [1.9, 0.4], [1.4, 0.3], [1.6, 0.2], [1.4, 0.2], [1.5, 0.2], [1.4, 0.2], [4.7, 1.4], [4.5, 1.5], [4.9, 1.5], [4.0, 1.3], [4.6, 1.5], [4.5, 1.3], [4.7, 1.6], [3.3, 1.0], [4.6, 1.3], [3.9, 1.4], [3.5, 1.0], [4.2, 1.5], [4.0, 1.0], [4.7, 1.4], [3.6, 1.3], [4.4, 1.4], [4.5, 1.5], [4.1, 1.0], [4.5, 1.5], [3.9, 1.1], [4.8, 1.8], [4.0, 1.3], [4.9, 1.5], [4.7, 1.2], [4.3, 1.3], [4.4, 1.4], [4.8, 1.4], [5.0, 1.7], [4.5, 1.5], [3.5, 1.0], [3.8, 1.1], [3.7, 1.0], [3.9, 1.2], [5.1, 1.6], [4.5, 1.5], [4.5, 1.6], [4.7, 1.5], [4.4, 1.3], [4.1, 1.3], [4.0, 1.3], [4.4, 1.2], [4.6, 1.4], [4.0, 1.2], [3.3, 1.0], [4.2, 1.3], [4.2, 1.2], [4.2, 1.3], [4.3, 1.3], [3.0, 1.1], [4.1, 1.3], [6.0, 2.5], [5.1, 1.9], [5.9, 2.1], [5.6, 1.8], [5.8, 2.2], [6.6, 2.1], [4.5, 1.7], [6.3, 1.8], [5.8, 1.8], [6.1, 2.5], [5.1, 2.0], [5.3, 1.9], [5.5, 2.1], [5.0, 2.0], [5.1, 2.4], [5.3, 2.3], [5.5, 1.8], [6.7, 2.2], [6.9, 2.3], [5.0, 1.5], [5.7, 2.3], [4.9, 2.0], [6.7, 2.0], [4.9, 1.8], [5.7, 2.1], [6.0, 1.8], [4.8, 1.8], [4.9, 1.8], [5.6, 2.1], [5.8, 1.6], [6.1, 1.9], [6.4, 2.0], [5.6, 2.2], [5.1, 1.5], [5.6, 1.4], [6.1, 2.3], [5.6, 2.4], [5.5, 1.8], [4.8, 1.8], [5.4, 2.1], [5.6, 2.4], [5.1, 2.3], [5.1, 1.9], [5.9, 2.3], [5.7, 2.5], [5.2, 2.3], [5.0, 1.9], [5.2, 2.0], [5.4, 2.3], [5.1, 1.8]]\n"
     ]
    }
   ],
   "source": [
    "data_input=[]\n",
    "for i in range(len(data)):\n",
    "    data_input.append([data[i][2],data[i][3]])\n",
    "print(data_input)\n",
    "data_input = np.array(data_input)"
   ]
  },
  {
   "cell_type": "code",
   "execution_count": 11,
   "id": "21257aa1",
   "metadata": {},
   "outputs": [
    {
     "name": "stdout",
     "output_type": "stream",
     "text": [
      "(112, 2)\n",
      "-------------\n",
      "(112,)\n"
     ]
    }
   ],
   "source": [
    "from sklearn.model_selection import train_test_split\n",
    "train_input,test_input,train_target,test_target = train_test_split(data_input,target)\n",
    "print(train_input.shape)\n",
    "print('-------------')\n",
    "print(train_target.shape)"
   ]
  },
  {
   "cell_type": "code",
   "execution_count": 12,
   "id": "8a9b1124",
   "metadata": {},
   "outputs": [
    {
     "name": "stdout",
     "output_type": "stream",
     "text": [
      "[2]\n",
      "0.9553571428571429\n",
      "0.9736842105263158\n"
     ]
    },
    {
     "name": "stderr",
     "output_type": "stream",
     "text": [
      "C:\\Users\\82102\\ml\\lib\\site-packages\\sklearn\\neighbors\\_classification.py:237: FutureWarning: Unlike other reduction functions (e.g. `skew`, `kurtosis`), the default behavior of `mode` typically preserves the axis it acts along. In SciPy 1.11.0, this behavior will change: the default value of `keepdims` will become False, the `axis` over which the statistic is taken will be eliminated, and the value None will no longer be accepted. Set `keepdims` to True or False to avoid this warning.\n",
      "  mode, _ = stats.mode(_y[neigh_ind, k], axis=1)\n",
      "C:\\Users\\82102\\ml\\lib\\site-packages\\sklearn\\neighbors\\_classification.py:237: FutureWarning: Unlike other reduction functions (e.g. `skew`, `kurtosis`), the default behavior of `mode` typically preserves the axis it acts along. In SciPy 1.11.0, this behavior will change: the default value of `keepdims` will become False, the `axis` over which the statistic is taken will be eliminated, and the value None will no longer be accepted. Set `keepdims` to True or False to avoid this warning.\n",
      "  mode, _ = stats.mode(_y[neigh_ind, k], axis=1)\n",
      "C:\\Users\\82102\\ml\\lib\\site-packages\\sklearn\\neighbors\\_classification.py:237: FutureWarning: Unlike other reduction functions (e.g. `skew`, `kurtosis`), the default behavior of `mode` typically preserves the axis it acts along. In SciPy 1.11.0, this behavior will change: the default value of `keepdims` will become False, the `axis` over which the statistic is taken will be eliminated, and the value None will no longer be accepted. Set `keepdims` to True or False to avoid this warning.\n",
      "  mode, _ = stats.mode(_y[neigh_ind, k], axis=1)\n"
     ]
    }
   ],
   "source": [
    "from sklearn.neighbors import KNeighborsClassifier\n",
    "\n",
    "# KNN 최근접 이웃모델 \n",
    "kn = KNeighborsClassifier()\n",
    "kn.fit(data_input, target)\n",
    "\n",
    "# 예측 (임의의 값)\n",
    "print(kn.predict([[6,3]]))\n",
    "\n",
    "# 결정계수\n",
    "print(kn.score(train_input, train_target))\n",
    "print(kn.score(test_input, test_target))\n",
    "\n",
    "# [해석]\n",
    "# 과소적합\n"
   ]
  },
  {
   "cell_type": "markdown",
   "id": "324d621b",
   "metadata": {},
   "source": [
    "### 꽃받침 길이와 꽃잎 길이로 종 분류모델 생성 ( KNN )"
   ]
  },
  {
   "cell_type": "code",
   "execution_count": 13,
   "id": "b461725f",
   "metadata": {},
   "outputs": [
    {
     "name": "stdout",
     "output_type": "stream",
     "text": [
      "[[5.1, 1.4], [4.9, 1.4], [4.7, 1.3], [4.6, 1.5], [5.0, 1.4], [5.4, 1.7], [4.6, 1.4], [5.0, 1.5], [4.4, 1.4], [4.9, 1.5], [5.4, 1.5], [4.8, 1.6], [4.8, 1.4], [4.3, 1.1], [5.8, 1.2], [5.7, 1.5], [5.4, 1.3], [5.1, 1.4], [5.7, 1.7], [5.1, 1.5], [5.4, 1.7], [5.1, 1.5], [4.6, 1.0], [5.1, 1.7], [4.8, 1.9], [5.0, 1.6], [5.0, 1.6], [5.2, 1.5], [5.2, 1.4], [4.7, 1.6], [4.8, 1.6], [5.4, 1.5], [5.2, 1.5], [5.5, 1.4], [4.9, 1.5], [5.0, 1.2], [5.5, 1.3], [4.9, 1.4], [4.4, 1.3], [5.1, 1.5], [5.0, 1.3], [4.5, 1.3], [4.4, 1.3], [5.0, 1.6], [5.1, 1.9], [4.8, 1.4], [5.1, 1.6], [4.6, 1.4], [5.3, 1.5], [5.0, 1.4], [7.0, 4.7], [6.4, 4.5], [6.9, 4.9], [5.5, 4.0], [6.5, 4.6], [5.7, 4.5], [6.3, 4.7], [4.9, 3.3], [6.6, 4.6], [5.2, 3.9], [5.0, 3.5], [5.9, 4.2], [6.0, 4.0], [6.1, 4.7], [5.6, 3.6], [6.7, 4.4], [5.6, 4.5], [5.8, 4.1], [6.2, 4.5], [5.6, 3.9], [5.9, 4.8], [6.1, 4.0], [6.3, 4.9], [6.1, 4.7], [6.4, 4.3], [6.6, 4.4], [6.8, 4.8], [6.7, 5.0], [6.0, 4.5], [5.7, 3.5], [5.5, 3.8], [5.5, 3.7], [5.8, 3.9], [6.0, 5.1], [5.4, 4.5], [6.0, 4.5], [6.7, 4.7], [6.3, 4.4], [5.6, 4.1], [5.5, 4.0], [5.5, 4.4], [6.1, 4.6], [5.8, 4.0], [5.0, 3.3], [5.6, 4.2], [5.7, 4.2], [5.7, 4.2], [6.2, 4.3], [5.1, 3.0], [5.7, 4.1], [6.3, 6.0], [5.8, 5.1], [7.1, 5.9], [6.3, 5.6], [6.5, 5.8], [7.6, 6.6], [4.9, 4.5], [7.3, 6.3], [6.7, 5.8], [7.2, 6.1], [6.5, 5.1], [6.4, 5.3], [6.8, 5.5], [5.7, 5.0], [5.8, 5.1], [6.4, 5.3], [6.5, 5.5], [7.7, 6.7], [7.7, 6.9], [6.0, 5.0], [6.9, 5.7], [5.6, 4.9], [7.7, 6.7], [6.3, 4.9], [6.7, 5.7], [7.2, 6.0], [6.2, 4.8], [6.1, 4.9], [6.4, 5.6], [7.2, 5.8], [7.4, 6.1], [7.9, 6.4], [6.4, 5.6], [6.3, 5.1], [6.1, 5.6], [7.7, 6.1], [6.3, 5.6], [6.4, 5.5], [6.0, 4.8], [6.9, 5.4], [6.7, 5.6], [6.9, 5.1], [5.8, 5.1], [6.8, 5.9], [6.7, 5.7], [6.7, 5.2], [6.3, 5.0], [6.5, 5.2], [6.2, 5.4], [5.9, 5.1]]\n"
     ]
    }
   ],
   "source": [
    "import numpy as np\n",
    "data_input=[]\n",
    "for i in range(len(data)):\n",
    "    data_input.append([data[i][0],data[i][2]])\n",
    "print(data_input)\n",
    "data_input = np.array(data_input)"
   ]
  },
  {
   "cell_type": "code",
   "execution_count": 14,
   "id": "03da79bf",
   "metadata": {},
   "outputs": [
    {
     "name": "stdout",
     "output_type": "stream",
     "text": [
      "(112, 2)\n",
      "-------------\n",
      "(112,)\n"
     ]
    }
   ],
   "source": [
    "from sklearn.model_selection import train_test_split\n",
    "train_input,test_input,train_target,test_target = train_test_split(data_input,target)\n",
    "print(train_input.shape)\n",
    "print('-------------')\n",
    "print(train_target.shape)"
   ]
  },
  {
   "cell_type": "code",
   "execution_count": 15,
   "id": "9eedab48",
   "metadata": {},
   "outputs": [
    {
     "name": "stdout",
     "output_type": "stream",
     "text": [
      "[1]\n",
      "0.9553571428571429\n",
      "1.0\n"
     ]
    },
    {
     "name": "stderr",
     "output_type": "stream",
     "text": [
      "C:\\Users\\82102\\ml\\lib\\site-packages\\sklearn\\neighbors\\_classification.py:237: FutureWarning: Unlike other reduction functions (e.g. `skew`, `kurtosis`), the default behavior of `mode` typically preserves the axis it acts along. In SciPy 1.11.0, this behavior will change: the default value of `keepdims` will become False, the `axis` over which the statistic is taken will be eliminated, and the value None will no longer be accepted. Set `keepdims` to True or False to avoid this warning.\n",
      "  mode, _ = stats.mode(_y[neigh_ind, k], axis=1)\n",
      "C:\\Users\\82102\\ml\\lib\\site-packages\\sklearn\\neighbors\\_classification.py:237: FutureWarning: Unlike other reduction functions (e.g. `skew`, `kurtosis`), the default behavior of `mode` typically preserves the axis it acts along. In SciPy 1.11.0, this behavior will change: the default value of `keepdims` will become False, the `axis` over which the statistic is taken will be eliminated, and the value None will no longer be accepted. Set `keepdims` to True or False to avoid this warning.\n",
      "  mode, _ = stats.mode(_y[neigh_ind, k], axis=1)\n",
      "C:\\Users\\82102\\ml\\lib\\site-packages\\sklearn\\neighbors\\_classification.py:237: FutureWarning: Unlike other reduction functions (e.g. `skew`, `kurtosis`), the default behavior of `mode` typically preserves the axis it acts along. In SciPy 1.11.0, this behavior will change: the default value of `keepdims` will become False, the `axis` over which the statistic is taken will be eliminated, and the value None will no longer be accepted. Set `keepdims` to True or False to avoid this warning.\n",
      "  mode, _ = stats.mode(_y[neigh_ind, k], axis=1)\n"
     ]
    }
   ],
   "source": [
    "from sklearn.neighbors import KNeighborsClassifier\n",
    "\n",
    "# KNN 최근접 이웃모델 \n",
    "kn = KNeighborsClassifier()\n",
    "kn.fit(data_input, target)\n",
    "\n",
    "# 예측 (임의의 값)\n",
    "print(kn.predict([[6,3]]))\n",
    "\n",
    "# 결정계수\n",
    "print(kn.score(train_input, train_target))\n",
    "print(kn.score(test_input, test_target))\n",
    "\n",
    "# [해석]\n",
    "# 과소적합\n"
   ]
  },
  {
   "cell_type": "markdown",
   "id": "630655a7",
   "metadata": {},
   "source": [
    "### 꽃받침 폭과 꽃잎 폭으로 종 분류모델 생성 ( KNN )"
   ]
  },
  {
   "cell_type": "code",
   "execution_count": 16,
   "id": "1b192905",
   "metadata": {},
   "outputs": [
    {
     "name": "stdout",
     "output_type": "stream",
     "text": [
      "[[3.5, 0.2], [3.0, 0.2], [3.2, 0.2], [3.1, 0.2], [3.6, 0.2], [3.9, 0.4], [3.4, 0.3], [3.4, 0.2], [2.9, 0.2], [3.1, 0.1], [3.7, 0.2], [3.4, 0.2], [3.0, 0.1], [3.0, 0.1], [4.0, 0.2], [4.4, 0.4], [3.9, 0.4], [3.5, 0.3], [3.8, 0.3], [3.8, 0.3], [3.4, 0.2], [3.7, 0.4], [3.6, 0.2], [3.3, 0.5], [3.4, 0.2], [3.0, 0.2], [3.4, 0.4], [3.5, 0.2], [3.4, 0.2], [3.2, 0.2], [3.1, 0.2], [3.4, 0.4], [4.1, 0.1], [4.2, 0.2], [3.1, 0.2], [3.2, 0.2], [3.5, 0.2], [3.6, 0.1], [3.0, 0.2], [3.4, 0.2], [3.5, 0.3], [2.3, 0.3], [3.2, 0.2], [3.5, 0.6], [3.8, 0.4], [3.0, 0.3], [3.8, 0.2], [3.2, 0.2], [3.7, 0.2], [3.3, 0.2], [3.2, 1.4], [3.2, 1.5], [3.1, 1.5], [2.3, 1.3], [2.8, 1.5], [2.8, 1.3], [3.3, 1.6], [2.4, 1.0], [2.9, 1.3], [2.7, 1.4], [2.0, 1.0], [3.0, 1.5], [2.2, 1.0], [2.9, 1.4], [2.9, 1.3], [3.1, 1.4], [3.0, 1.5], [2.7, 1.0], [2.2, 1.5], [2.5, 1.1], [3.2, 1.8], [2.8, 1.3], [2.5, 1.5], [2.8, 1.2], [2.9, 1.3], [3.0, 1.4], [2.8, 1.4], [3.0, 1.7], [2.9, 1.5], [2.6, 1.0], [2.4, 1.1], [2.4, 1.0], [2.7, 1.2], [2.7, 1.6], [3.0, 1.5], [3.4, 1.6], [3.1, 1.5], [2.3, 1.3], [3.0, 1.3], [2.5, 1.3], [2.6, 1.2], [3.0, 1.4], [2.6, 1.2], [2.3, 1.0], [2.7, 1.3], [3.0, 1.2], [2.9, 1.3], [2.9, 1.3], [2.5, 1.1], [2.8, 1.3], [3.3, 2.5], [2.7, 1.9], [3.0, 2.1], [2.9, 1.8], [3.0, 2.2], [3.0, 2.1], [2.5, 1.7], [2.9, 1.8], [2.5, 1.8], [3.6, 2.5], [3.2, 2.0], [2.7, 1.9], [3.0, 2.1], [2.5, 2.0], [2.8, 2.4], [3.2, 2.3], [3.0, 1.8], [3.8, 2.2], [2.6, 2.3], [2.2, 1.5], [3.2, 2.3], [2.8, 2.0], [2.8, 2.0], [2.7, 1.8], [3.3, 2.1], [3.2, 1.8], [2.8, 1.8], [3.0, 1.8], [2.8, 2.1], [3.0, 1.6], [2.8, 1.9], [3.8, 2.0], [2.8, 2.2], [2.8, 1.5], [2.6, 1.4], [3.0, 2.3], [3.4, 2.4], [3.1, 1.8], [3.0, 1.8], [3.1, 2.1], [3.1, 2.4], [3.1, 2.3], [2.7, 1.9], [3.2, 2.3], [3.3, 2.5], [3.0, 2.3], [2.5, 1.9], [3.0, 2.0], [3.4, 2.3], [3.0, 1.8]]\n"
     ]
    }
   ],
   "source": [
    "import numpy as np\n",
    "data_input=[]\n",
    "for i in range(len(data)):\n",
    "    data_input.append([data[i][1],data[i][3]])\n",
    "print(data_input)\n",
    "data_input = np.array(data_input)"
   ]
  },
  {
   "cell_type": "code",
   "execution_count": 17,
   "id": "df865aa6",
   "metadata": {},
   "outputs": [
    {
     "name": "stdout",
     "output_type": "stream",
     "text": [
      "(112, 2)\n",
      "-------------\n",
      "(112,)\n"
     ]
    }
   ],
   "source": [
    "from sklearn.model_selection import train_test_split\n",
    "train_input,test_input,train_target,test_target = train_test_split(data_input,target)\n",
    "print(train_input.shape)\n",
    "print('-------------')\n",
    "print(train_target.shape)"
   ]
  },
  {
   "cell_type": "code",
   "execution_count": 18,
   "id": "18353a15",
   "metadata": {},
   "outputs": [
    {
     "name": "stdout",
     "output_type": "stream",
     "text": [
      "[2]\n",
      "0.9553571428571429\n",
      "0.9736842105263158\n"
     ]
    },
    {
     "name": "stderr",
     "output_type": "stream",
     "text": [
      "C:\\Users\\82102\\ml\\lib\\site-packages\\sklearn\\neighbors\\_classification.py:237: FutureWarning: Unlike other reduction functions (e.g. `skew`, `kurtosis`), the default behavior of `mode` typically preserves the axis it acts along. In SciPy 1.11.0, this behavior will change: the default value of `keepdims` will become False, the `axis` over which the statistic is taken will be eliminated, and the value None will no longer be accepted. Set `keepdims` to True or False to avoid this warning.\n",
      "  mode, _ = stats.mode(_y[neigh_ind, k], axis=1)\n",
      "C:\\Users\\82102\\ml\\lib\\site-packages\\sklearn\\neighbors\\_classification.py:237: FutureWarning: Unlike other reduction functions (e.g. `skew`, `kurtosis`), the default behavior of `mode` typically preserves the axis it acts along. In SciPy 1.11.0, this behavior will change: the default value of `keepdims` will become False, the `axis` over which the statistic is taken will be eliminated, and the value None will no longer be accepted. Set `keepdims` to True or False to avoid this warning.\n",
      "  mode, _ = stats.mode(_y[neigh_ind, k], axis=1)\n",
      "C:\\Users\\82102\\ml\\lib\\site-packages\\sklearn\\neighbors\\_classification.py:237: FutureWarning: Unlike other reduction functions (e.g. `skew`, `kurtosis`), the default behavior of `mode` typically preserves the axis it acts along. In SciPy 1.11.0, this behavior will change: the default value of `keepdims` will become False, the `axis` over which the statistic is taken will be eliminated, and the value None will no longer be accepted. Set `keepdims` to True or False to avoid this warning.\n",
      "  mode, _ = stats.mode(_y[neigh_ind, k], axis=1)\n"
     ]
    }
   ],
   "source": [
    "from sklearn.neighbors import KNeighborsClassifier\n",
    "\n",
    "# KNN 최근접 이웃모델 \n",
    "kn = KNeighborsClassifier()\n",
    "kn.fit(data_input, target)\n",
    "\n",
    "# 예측 (임의의 값)\n",
    "print(kn.predict([[6,3]]))\n",
    "\n",
    "# 결정계수\n",
    "print(kn.score(train_input, train_target))\n",
    "print(kn.score(test_input, test_target))\n",
    "\n",
    "# [해석]\n",
    "# 과소적합"
   ]
  },
  {
   "cell_type": "markdown",
   "id": "35367ea0",
   "metadata": {},
   "source": [
    "### 로지스틱 이진분류 (꽃받침 폭과 꽃잎 폭)"
   ]
  },
  {
   "cell_type": "code",
   "execution_count": 19,
   "id": "931664a8",
   "metadata": {},
   "outputs": [
    {
     "data": {
      "text/plain": [
       "array([[-0.09379808,  1.1540352 ],\n",
       "       [ 2.05503073, -1.1540352 ],\n",
       "       [-0.33255684,  0.33942212],\n",
       "       [ 0.38371943, -1.42557289],\n",
       "       [-0.09379808,  1.1540352 ]])"
      ]
     },
     "execution_count": 19,
     "metadata": {},
     "output_type": "execute_result"
    }
   ],
   "source": [
    "### 정규화(표준화)  : 스케일 표준화\n",
    "# - 변수 : train_scaled, test_scaled\n",
    "\n",
    "# 라이브러리 생성 \n",
    "from sklearn.preprocessing import StandardScaler\n",
    "\n",
    "# 클래스 모델 생성\n",
    "ss = StandardScaler()\n",
    "\n",
    "# 스스로 표준점수 생성 \n",
    "ss.fit(train_input)\n",
    "\n",
    "## 훈련데이터 표준점수로 변환하기\n",
    "train_scaled = ss.transform(train_input)\n",
    "\n",
    "### 테스트 데이터를 표준점수로 변환하기\n",
    "test_scaled = ss.transform(test_input)\n",
    "\n",
    "# 샘플 5개 행 출력해보기\n",
    "train_scaled[:5]"
   ]
  },
  {
   "cell_type": "code",
   "execution_count": 20,
   "id": "04ce5df8",
   "metadata": {},
   "outputs": [
    {
     "name": "stdout",
     "output_type": "stream",
     "text": [
      "0.9464285714285714\n",
      "0.9473684210526315\n"
     ]
    },
    {
     "name": "stderr",
     "output_type": "stream",
     "text": [
      "C:\\Users\\82102\\ml\\lib\\site-packages\\sklearn\\neighbors\\_classification.py:237: FutureWarning: Unlike other reduction functions (e.g. `skew`, `kurtosis`), the default behavior of `mode` typically preserves the axis it acts along. In SciPy 1.11.0, this behavior will change: the default value of `keepdims` will become False, the `axis` over which the statistic is taken will be eliminated, and the value None will no longer be accepted. Set `keepdims` to True or False to avoid this warning.\n",
      "  mode, _ = stats.mode(_y[neigh_ind, k], axis=1)\n",
      "C:\\Users\\82102\\ml\\lib\\site-packages\\sklearn\\neighbors\\_classification.py:237: FutureWarning: Unlike other reduction functions (e.g. `skew`, `kurtosis`), the default behavior of `mode` typically preserves the axis it acts along. In SciPy 1.11.0, this behavior will change: the default value of `keepdims` will become False, the `axis` over which the statistic is taken will be eliminated, and the value None will no longer be accepted. Set `keepdims` to True or False to avoid this warning.\n",
      "  mode, _ = stats.mode(_y[neigh_ind, k], axis=1)\n"
     ]
    }
   ],
   "source": [
    "### k-최근접이웃분류 모델로 테스트\n",
    "### Classifier : 분류모델  Regressor : 회귀모델 \n",
    "# - 이웃 3개 \n",
    "from sklearn.neighbors import KNeighborsClassifier\n",
    "\n",
    "### 클래스(모델) 이름 :KNeighborsRegressor()\n",
    "kn = KNeighborsClassifier()\n",
    "kn = KNeighborsClassifier(n_neighbors=3)\n",
    "kn.fit(train_scaled,train_target)\n",
    "\n",
    "print(kn.score(train_scaled, train_target))\n",
    "print(kn.score(test_scaled, test_target))\n",
    "\n",
    "# [해석]\n",
    "# 과소적합이나 차이가 작다 "
   ]
  },
  {
   "cell_type": "code",
   "execution_count": 21,
   "id": "1a9c07b0",
   "metadata": {
    "scrolled": true
   },
   "outputs": [
    {
     "name": "stdout",
     "output_type": "stream",
     "text": [
      "[0 0 1 2 0]\n",
      "[0 0 1 1 0]\n"
     ]
    },
    {
     "name": "stderr",
     "output_type": "stream",
     "text": [
      "C:\\Users\\82102\\ml\\lib\\site-packages\\sklearn\\neighbors\\_classification.py:237: FutureWarning: Unlike other reduction functions (e.g. `skew`, `kurtosis`), the default behavior of `mode` typically preserves the axis it acts along. In SciPy 1.11.0, this behavior will change: the default value of `keepdims` will become False, the `axis` over which the statistic is taken will be eliminated, and the value None will no longer be accepted. Set `keepdims` to True or False to avoid this warning.\n",
      "  mode, _ = stats.mode(_y[neigh_ind, k], axis=1)\n",
      "C:\\Users\\82102\\ml\\lib\\site-packages\\sklearn\\neighbors\\_classification.py:237: FutureWarning: Unlike other reduction functions (e.g. `skew`, `kurtosis`), the default behavior of `mode` typically preserves the axis it acts along. In SciPy 1.11.0, this behavior will change: the default value of `keepdims` will become False, the `axis` over which the statistic is taken will be eliminated, and the value None will no longer be accepted. Set `keepdims` to True or False to avoid this warning.\n",
      "  mode, _ = stats.mode(_y[neigh_ind, k], axis=1)\n"
     ]
    },
    {
     "data": {
      "text/plain": [
       "array([[0, 0],\n",
       "       [0, 0],\n",
       "       [1, 1],\n",
       "       [1, 2],\n",
       "       [0, 0]])"
      ]
     },
     "execution_count": 21,
     "metadata": {},
     "output_type": "execute_result"
    }
   ],
   "source": [
    "# 상위 5개 예측하기\n",
    "print(kn.predict(test_scaled[:5]))\n",
    "print(test_target[:5])\n",
    "\n",
    "# [[실제값 , 예측값 ],[실제값, 예측값]...]\n",
    "np.column_stack((test_target[:5], kn.predict(test_scaled[:5])))"
   ]
  },
  {
   "cell_type": "markdown",
   "id": "6d178edd",
   "metadata": {},
   "source": [
    "### 로지스틱 회귀분류모델 (시그모이드 함수 사용) \n",
    "#### - 독립변수 :꽃받침 폭, 꽃잎 폭"
   ]
  },
  {
   "cell_type": "code",
   "execution_count": 22,
   "id": "22c64bb9",
   "metadata": {
    "collapsed": true
   },
   "outputs": [
    {
     "name": "stdout",
     "output_type": "stream",
     "text": [
      "[[ 2.05503073 -1.1540352 ]\n",
      " [-0.33255684  0.33942212]\n",
      " [ 0.38371943 -1.42557289]\n",
      " [ 0.38371943  0.74672866]\n",
      " [ 1.33875446 -1.42557289]\n",
      " [ 0.38371943 -1.42557289]\n",
      " [ 0.14496067  0.33942212]\n",
      " [-1.52635063 -0.33942212]\n",
      " [ 0.86123695 -1.42557289]\n",
      " [ 1.0999957  -1.28980404]\n",
      " [ 1.57751322 -1.42557289]\n",
      " [-0.09379808  0.06788442]\n",
      " [ 0.62247819  0.47519096]\n",
      " [-0.5713156   0.06788442]\n",
      " [ 0.38371943 -1.42557289]\n",
      " [ 0.62247819 -1.42557289]\n",
      " [ 0.14496067 -1.42557289]\n",
      " [-1.04883311 -0.33942212]\n",
      " [-1.04883311 -0.06788442]\n",
      " [ 1.57751322 -1.1540352 ]\n",
      " [-0.33255684 -1.42557289]\n",
      " [-0.09379808 -1.42557289]\n",
      " [-1.04883311 -0.06788442]\n",
      " [-1.52635063 -0.33942212]\n",
      " [-0.09379808  0.61095981]\n",
      " [ 0.38371943 -1.42557289]\n",
      " [-0.09379808  0.33942212]\n",
      " [-0.33255684  0.06788442]\n",
      " [ 0.86123695  0.47519096]\n",
      " [-0.5713156   0.33942212]\n",
      " [-2.00386814  0.33942212]\n",
      " [-0.81007436  0.06788442]\n",
      " [-0.33255684  0.06788442]\n",
      " [-0.5713156   0.06788442]\n",
      " [ 2.771307   -1.42557289]\n",
      " [-0.5713156   0.06788442]\n",
      " [ 1.33875446 -1.56134174]\n",
      " [ 0.14496067  0.20365327]\n",
      " [ 0.86123695 -1.42557289]\n",
      " [ 0.38371943  0.20365327]\n",
      " [-0.33255684  0.06788442]\n",
      " [-0.09379808 -1.28980404]\n",
      " [-0.09379808 -1.56134174]\n",
      " [-0.5713156  -0.06788442]\n",
      " [-1.76510938  0.06788442]\n",
      " [ 3.24882452 -1.1540352 ]\n",
      " [-0.09379808  0.33942212]\n",
      " [ 0.38371943  0.33942212]\n",
      " [-1.76510938 -1.28980404]\n",
      " [ 0.38371943 -1.42557289]\n",
      " [-0.81007436 -0.06788442]\n",
      " [-1.28759187 -0.20365327]\n",
      " [ 1.0999957  -1.28980404]\n",
      " [ 0.86123695 -1.42557289]\n",
      " [ 0.14496067 -1.56134174]\n",
      " [-0.09379808  0.33942212]\n",
      " [ 1.33875446 -1.42557289]\n",
      " [-1.28759187  0.33942212]\n",
      " [-0.33255684  0.06788442]\n",
      " [ 2.29378949 -1.42557289]\n",
      " [-1.28759187  0.06788442]\n",
      " [ 1.0999957  -0.8824975 ]\n",
      " [-0.09379808  0.20365327]\n",
      " [-0.33255684  0.20365327]\n",
      " [ 1.57751322 -1.42557289]\n",
      " [ 0.14496067 -1.42557289]\n",
      " [-1.52635063 -0.20365327]\n",
      " [ 0.86123695 -1.1540352 ]\n",
      " [ 0.86123695 -1.42557289]\n",
      " [-0.5713156   0.20365327]\n",
      " [-0.09379808 -0.06788442]\n",
      " [-0.09379808  0.20365327]\n",
      " [ 2.53254825 -1.56134174]]\n"
     ]
    }
   ],
   "source": [
    "train_setosa_versicolor = train_scaled[(train_target==0) | (train_target==1)]\n",
    "target_setosa_versicolor = train_target[(train_target==0) | (train_target==1)]\n",
    "\n",
    "test_setosa_versicolor = test_scaled[(test_target==0) | (test_target==1)]\n",
    "test_target_setosa_versicolor = test_target[(test_target==0) | (test_target==1)]\n",
    "print(train_setosa_versicolor)"
   ]
  },
  {
   "cell_type": "code",
   "execution_count": 23,
   "id": "9c737831",
   "metadata": {},
   "outputs": [
    {
     "name": "stdout",
     "output_type": "stream",
     "text": [
      "1.0\n",
      "1.0\n"
     ]
    }
   ],
   "source": [
    "## 이진분류 하기\n",
    "## 사용할 패키지 불러 들이기 \n",
    "from sklearn.linear_model import LogisticRegression\n",
    "\n",
    "lr = LogisticRegression()\n",
    "\n",
    "lr.fit(train_setosa_versicolor,target_setosa_versicolor)\n",
    "print(lr.score(train_setosa_versicolor, target_setosa_versicolor))\n",
    "print(lr.score(test_setosa_versicolor,test_target_setosa_versicolor))\n",
    "\n",
    "#[해석]\n",
    "# 완벽...? "
   ]
  },
  {
   "cell_type": "code",
   "execution_count": 24,
   "id": "56997aca",
   "metadata": {},
   "outputs": [
    {
     "data": {
      "text/plain": [
       "array([1, 0, 1, 0, 1])"
      ]
     },
     "execution_count": 24,
     "metadata": {},
     "output_type": "execute_result"
    }
   ],
   "source": [
    "## 예측 상위 5개\n",
    "lr.predict(train_scaled[:5])"
   ]
  },
  {
   "cell_type": "code",
   "execution_count": 25,
   "id": "fe793349",
   "metadata": {},
   "outputs": [
    {
     "name": "stdout",
     "output_type": "stream",
     "text": [
      "[[0.00337498 0.99662502]\n",
      " [0.97280777 0.02719223]\n",
      " [0.03116315 0.96883685]\n",
      " [0.93709277 0.06290723]\n",
      " [0.00337498 0.99662502]]\n"
     ]
    }
   ],
   "source": [
    "## 각각의 확률 조회 \n",
    "print(lr.predict_proba(train_scaled[:5]))\n",
    "\n",
    "## 범주별 확률 조회\n"
   ]
  },
  {
   "cell_type": "code",
   "execution_count": 26,
   "id": "cde573c1",
   "metadata": {},
   "outputs": [
    {
     "name": "stdout",
     "output_type": "stream",
     "text": [
      "[0 1]\n"
     ]
    }
   ],
   "source": [
    "print(lr.classes_)"
   ]
  },
  {
   "cell_type": "code",
   "execution_count": 27,
   "id": "03c5d209",
   "metadata": {},
   "outputs": [
    {
     "name": "stdout",
     "output_type": "stream",
     "text": [
      "[[-1.021853    3.06292759]] [2.05741022]\n"
     ]
    }
   ],
   "source": [
    "# 계수 ( 또는 가중치) 및 y 절편값 조회하기\n",
    "# 사용된 계수 : coef_  y절편 : intercept_\n",
    "\n",
    "print(lr.coef_, lr.intercept_)"
   ]
  },
  {
   "cell_type": "code",
   "execution_count": 28,
   "id": "640e0e60",
   "metadata": {},
   "outputs": [
    {
     "name": "stdout",
     "output_type": "stream",
     "text": [
      "[ 5.68798432 -3.57725535  3.43685979 -2.70112117  5.68798432]\n",
      "-------------------------------------------------------------------\n",
      "[0.99662502 0.02719223 0.96883685 0.06290723 0.99662502]\n"
     ]
    }
   ],
   "source": [
    "# 이진분류에서 z 값 ( 선형방정식의 결과값들)을 0~1로 변환\n",
    "# z 값 조회하기 \n",
    "# 여기서 구한 z 값이 아래 시그모이드 함수 그래프에 z 값이다 z 값에 따른 y 값이 확률\n",
    "# 그래프가 0을 기준으로 음수면 50%이하 , 양수면 50% 이상 확률 \n",
    "# expit(decisions) 값이 확률값 시그모이드 그래프에서 y 값 \n",
    "decisions = lr.decision_function(train_scaled[:5])\n",
    "print(decisions)\n",
    "print('-------------------------------------------------------------------')\n",
    "\n",
    "## 시그모이드 함수 : scipy 패키지의 expit()\n",
    "# 확률 \n",
    "# 왼쪽인덱스(0) :음수 , 오른쪽인덱스(1): 양수 \n",
    "# 왼쪽인덱스(양수) 값들이 exipit 사용시 추출되는 값 \n",
    "from scipy.special import expit\n",
    "print(expit(decisions))"
   ]
  },
  {
   "cell_type": "code",
   "execution_count": 29,
   "id": "c0be00e9",
   "metadata": {
    "scrolled": false
   },
   "outputs": [
    {
     "data": {
      "image/png": "[encoded data removed]",
      "text/plain": [
       "<Figure size 576x360 with 1 Axes>"
      ]
     },
     "metadata": {
      "needs_background": "light"
     },
     "output_type": "display_data"
    }
   ],
   "source": [
    "## 시그모이드 함수 예시\n",
    "import numpy as np\n",
    "import matplotlib.pyplot as plt\n",
    "\n",
    "### 임의의 z 값\n",
    "### decision의 min, max 값을 범위로 그린다 \n",
    "\n",
    "z = np.arange(decisions.min(),decisions.max(),0.1)\n",
    "\n",
    "### 시그모이드 공식 사용\n",
    "# - np.exp() : 0-1지수로 변환하기\n",
    "#            : z값의 스케일을 통일 시키기 위해서 z 값은 음수로 처리 (제곱승 시에 분모로 계산)\n",
    "#            : 2^(-2) = 1(2^2),2^0 = 1\n",
    "phi = 1/(1+np.exp(-z))\n",
    "\n",
    "plt.figure(figsize = (8,5))\n",
    "plt.plot(z,phi)\n",
    "plt.show()\n",
    "# y 축 확률\n",
    "# z = 0 > y=0.5(50%)"
   ]
  },
  {
   "cell_type": "markdown",
   "id": "c2f22876",
   "metadata": {},
   "source": [
    "### 로지스틱 회귀분류모델 (시그모이드 함수 사용) \n",
    "#### - 독립변수 : 꽃받침길이, 꽃받침폭, 꽃잎길이,꽃잎폭"
   ]
  },
  {
   "cell_type": "code",
   "execution_count": 63,
   "id": "098e0335",
   "metadata": {},
   "outputs": [],
   "source": [
    "data = iris_조혜리['data']\n",
    "target = iris_조혜리['target']\n",
    "data = np.array(data)\n",
    "target=np.array(target)\n",
    "\n",
    "train_input,test_input,train_target,test_target = train_test_split(data,target)"
   ]
  },
  {
   "cell_type": "code",
   "execution_count": 64,
   "id": "029b0ec8",
   "metadata": {},
   "outputs": [
    {
     "data": {
      "text/plain": [
       "array([[-1.18240909, -1.57260371, -0.28623216, -0.30826126],\n",
       "       [ 1.62485895,  1.17587404,  1.29409186,  1.63865198],\n",
       "       [ 0.03814223, -0.19836484,  0.72969042,  0.73009247],\n",
       "       [-0.32802317, -0.65644446,  0.61681014,  0.9896809 ],\n",
       "       [-1.06035396, -2.48876296, -0.17335187, -0.30826126]])"
      ]
     },
     "execution_count": 64,
     "metadata": {},
     "output_type": "execute_result"
    }
   ],
   "source": [
    "### 정규화(표준화)  : 스케일 표준화\n",
    "# - 변수 : train_scaled, test_scaled\n",
    "\n",
    "# 라이브러리 생성 \n",
    "from sklearn.preprocessing import StandardScaler\n",
    "\n",
    "# 클래스 모델 생성\n",
    "ss = StandardScaler()\n",
    "\n",
    "# 스스로 표준점수 생성 \n",
    "ss.fit(train_input)\n",
    "\n",
    "## 훈련데이터 표준점수로 변환하기\n",
    "train_scaled = ss.transform(train_input)\n",
    "\n",
    "### 테스트 데이터를 표준점수로 변환하기\n",
    "test_scaled = ss.transform(test_input)\n",
    "\n",
    "# 샘플 5개 행 출력해보기\n",
    "train_scaled[:5]"
   ]
  },
  {
   "cell_type": "code",
   "execution_count": 65,
   "id": "a83b1e88",
   "metadata": {
    "collapsed": true
   },
   "outputs": [
    {
     "name": "stdout",
     "output_type": "stream",
     "text": [
      "[[-1.18240909 -1.57260371 -0.28623216 -0.30826126]\n",
      " [ 1.62485895  1.17587404  1.29409186  1.63865198]\n",
      " [ 0.03814223 -0.19836484  0.72969042  0.73009247]\n",
      " [-0.32802317 -0.65644446  0.61681014  0.9896809 ]\n",
      " [-1.06035396 -2.48876296 -0.17335187 -0.30826126]\n",
      " [ 0.28225249 -1.11452409  1.01189114  0.2109156 ]\n",
      " [-0.8162437  -0.88548428  0.0524087   0.2109156 ]\n",
      " [ 0.16019736 -2.03068334  0.67325028  0.34070982]\n",
      " [ 1.01458329  0.03067497  0.33460942  0.2109156 ]\n",
      " [-0.0839129  -0.88548428  0.0524087  -0.04867283]\n",
      " [ 1.13663842 -0.19836484  0.955451    1.11947511]\n",
      " [ 1.13663842 -0.65644446  0.56036999  0.2109156 ]\n",
      " [-0.20596804 -0.42740465  0.22172913  0.08112139]\n",
      " [ 1.74691408 -0.42740465  1.40697214  0.73009247]\n",
      " [ 1.01458329  0.4887546   1.06833128  1.63865198]\n",
      " [ 1.13663842  0.25971479  1.18121157  1.37906355]\n",
      " [ 0.40430763  0.71779441  0.89901085  1.37906355]\n",
      " [ 1.01458329 -0.19836484  0.78613057  1.37906355]\n",
      " [ 0.28225249 -0.65644446  0.10884885  0.08112139]\n",
      " [ 2.23513461  1.63395366  1.63273272  1.24926933]\n",
      " [ 0.28225249 -0.19836484  0.61681014  0.73009247]\n",
      " [-0.4500783  -1.80164353  0.10884885  0.08112139]\n",
      " [ 0.64841789 -0.88548428  0.84257071  0.85988668]\n",
      " [ 2.23513461 -0.19836484  1.29409186  1.37906355]\n",
      " [ 0.52636276 -0.65644446  0.72969042  0.34070982]\n",
      " [ 1.01458329  0.4887546   1.06833128  1.11947511]\n",
      " [-1.06035396 -1.80164353 -0.28623216 -0.30826126]\n",
      " [ 1.25869355  0.25971479  1.06833128  1.37906355]\n",
      " [-0.0839129  -0.88548428  0.72969042  0.85988668]\n",
      " [-0.20596804 -1.11452409 -0.17335187 -0.30826126]\n",
      " [-0.32802317 -0.19836484  0.39104956  0.34070982]\n",
      " [ 0.89252815 -0.42740465  0.44748971  0.08112139]\n",
      " [ 0.16019736 -0.19836484  0.56036999  0.73009247]\n",
      " [ 0.64841789 -0.65644446  1.01189114  1.24926933]\n",
      " [ 1.01458329  0.03067497  0.50392985  0.34070982]\n",
      " [ 0.16019736  0.71779441  0.39104956  0.47050403]\n",
      " [ 0.40430763 -0.42740465  0.27816928  0.08112139]\n",
      " [ 1.01458329  0.03067497  1.01189114  1.50885776]\n",
      " [ 0.03814223  0.25971479  0.56036999  0.73009247]\n",
      " [-0.20596804 -1.3435639   0.67325028  0.9896809 ]\n",
      " [ 0.40430763 -0.65644446  0.56036999  0.73009247]\n",
      " [ 1.25869355  0.03067497  0.72969042  1.37906355]\n",
      " [ 0.40430763 -2.03068334  0.39104956  0.34070982]\n",
      " [ 0.77047302  0.25971479  0.72969042  0.9896809 ]\n",
      " [ 0.16019736 -2.03068334  0.10884885 -0.30826126]\n",
      " [-0.20596804 -0.65644446  0.39104956  0.08112139]\n",
      " [ 0.52636276 -0.42740465  1.01189114  0.73009247]\n",
      " [-1.18240909 -1.3435639   0.39104956  0.60029825]\n",
      " [ 1.01458329 -0.19836484  0.67325028  0.60029825]\n",
      " [ 1.62485895  0.25971479  1.23765171  0.73009247]\n",
      " [ 0.28225249 -0.19836484  0.44748971  0.2109156 ]\n",
      " [ 1.86896921 -0.65644446  1.29409186  0.85988668]\n",
      " [ 0.16019736 -0.88548428  0.72969042  0.47050403]\n",
      " [ 0.64841789 -0.42740465  0.27816928  0.08112139]\n",
      " [ 0.52636276  0.4887546   0.50392985  0.47050403]\n",
      " [ 0.64841789  0.25971479  0.39104956  0.34070982]\n",
      " [ 2.23513461 -0.65644446  1.63273272  0.9896809 ]\n",
      " [ 1.25869355  0.03067497  0.89901085  1.11947511]\n",
      " [ 1.38074868  0.25971479  0.50392985  0.2109156 ]\n",
      " [-0.0839129  -0.65644446  0.72969042  1.50885776]\n",
      " [ 1.01458329 -1.3435639   1.12477143  0.73009247]\n",
      " [-0.32802317 -0.19836484  0.16528899  0.08112139]\n",
      " [ 0.64841789  0.25971479  0.84257071  1.37906355]\n",
      " [ 0.64841789 -0.65644446  1.01189114  1.11947511]\n",
      " [-0.32802317 -0.42740465 -0.11691173  0.08112139]\n",
      " [-0.57213343 -0.19836484  0.39104956  0.34070982]\n",
      " [ 1.62485895 -0.19836484  1.12477143  0.47050403]\n",
      " [ 0.52636276  0.4887546   1.23765171  1.63865198]\n",
      " [ 0.77047302 -0.19836484  1.12477143  1.24926933]\n",
      " [ 2.23513461 -1.11452409  1.745613    1.37906355]\n",
      " [ 0.77047302 -0.65644446  0.44748971  0.34070982]\n",
      " [ 0.16019736 -0.42740465  0.39104956  0.34070982]\n",
      " [-0.20596804 -0.19836484  0.22172913 -0.04867283]\n",
      " [-0.20596804 -0.65644446  0.16528899  0.08112139]\n",
      " [-0.4500783  -1.11452409  0.33460942 -0.04867283]]\n"
     ]
    }
   ],
   "source": [
    "train_versicolor_viginica = train_scaled[(train_target==1) | (train_target==2)]\n",
    "train_target_versicolor_viginica = train_target[(train_target==1) | (train_target==2)]\n",
    "\n",
    "test_versicolor_viginica = test_scaled[(test_target==1) | (test_target==2)]\n",
    "test_target_versicolor_viginica = test_target[(test_target==1) | (test_target==2)]\n",
    "print(train_versicolor_viginica)"
   ]
  },
  {
   "cell_type": "code",
   "execution_count": 66,
   "id": "0dd98fb6",
   "metadata": {},
   "outputs": [
    {
     "name": "stdout",
     "output_type": "stream",
     "text": [
      "0.9466666666666667\n",
      "1.0\n"
     ]
    }
   ],
   "source": [
    "## 이진분류 하기\n",
    "## 사용할 패키지 불러 들이기 \n",
    "from sklearn.linear_model import LogisticRegression\n",
    "\n",
    "lr = LogisticRegression()\n",
    "\n",
    "lr.fit(train_versicolor_viginica,train_target_versicolor_viginica)\n",
    "print(lr.score(train_versicolor_viginica, train_target_versicolor_viginica))\n",
    "print(lr.score(test_versicolor_viginica, test_target_versicolor_viginica))\n",
    "\n",
    "# [해석]\n",
    "# "
   ]
  },
  {
   "cell_type": "code",
   "execution_count": 67,
   "id": "f445a980",
   "metadata": {},
   "outputs": [
    {
     "data": {
      "text/plain": [
       "array([1, 2, 2, 2, 1])"
      ]
     },
     "execution_count": 67,
     "metadata": {},
     "output_type": "execute_result"
    }
   ],
   "source": [
    "## 예측 상위 5개\n",
    "lr.predict(train_scaled[:5])"
   ]
  },
  {
   "cell_type": "code",
   "execution_count": 68,
   "id": "107add4c",
   "metadata": {},
   "outputs": [
    {
     "name": "stdout",
     "output_type": "stream",
     "text": [
      "[[0.9825153  0.0174847 ]\n",
      " [0.02151447 0.97848553]\n",
      " [0.36828114 0.63171886]\n",
      " [0.23179878 0.76820122]\n",
      " [0.96108057 0.03891943]]\n"
     ]
    }
   ],
   "source": [
    "## 각각의 확률 조회 \n",
    "print(lr.predict_proba(train_scaled[:5]))\n",
    "\n",
    "## 범주별 확률 조회\n"
   ]
  },
  {
   "cell_type": "code",
   "execution_count": 69,
   "id": "c4841db1",
   "metadata": {},
   "outputs": [
    {
     "name": "stdout",
     "output_type": "stream",
     "text": [
      "[1 2]\n"
     ]
    }
   ],
   "source": [
    "print(lr.classes_)"
   ]
  },
  {
   "cell_type": "code",
   "execution_count": 70,
   "id": "36375d84",
   "metadata": {},
   "outputs": [
    {
     "name": "stdout",
     "output_type": "stream",
     "text": [
      "[[ 0.20814843 -0.59428092  2.23567249  2.75411462]] [-3.22833299]\n"
     ]
    }
   ],
   "source": [
    "# 계수 ( 또는 가중치) 및 y 절편값 조회하기\n",
    "# 사용된 계수 : coef_  y절편 : intercept_\n",
    "\n",
    "print(lr.coef_, lr.intercept_)"
   ]
  },
  {
   "cell_type": "code",
   "execution_count": 71,
   "id": "99be8434",
   "metadata": {},
   "outputs": [
    {
     "name": "stdout",
     "output_type": "stream",
     "text": [
      "[-4.02878941  3.81728028  0.53959783  1.19818201 -3.20656451]\n",
      "-------------------------------------------------------------------\n",
      "[0.0174847  0.97848553 0.63171886 0.76820122 0.03891943]\n"
     ]
    }
   ],
   "source": [
    "# 이진분류에서 z 값 ( 선형방정식의 결과값들)을 0~1로 변환\n",
    "# z 값 조회하기 \n",
    "# 여기서 구한 z 값이 아래 시그모이드 함수 그래프에 z 값이다 z 값에 따른 y 값이 확률\n",
    "# 그래프가 0을 기준으로 음수면 50%이하 , 양수면 50% 이상 확률 \n",
    "# expit(decisions) 값이 확률값 시그모이드 그래프에서 y 값 \n",
    "decisions = lr.decision_function(train_scaled[:5])\n",
    "print(decisions)\n",
    "print('-------------------------------------------------------------------')\n",
    "\n",
    "## 시그모이드 함수 : scipy 패키지의 expit()\n",
    "# 확률 \n",
    "# 왼쪽인덱스(0) :음수 , 오른쪽인덱스(1): 양수 \n",
    "# 왼쪽인덱스(양수) 값들이 exipit 사용시 추출되는 값 \n",
    "from scipy.special import expit\n",
    "print(expit(decisions))"
   ]
  },
  {
   "cell_type": "code",
   "execution_count": 72,
   "id": "d48a3b0b",
   "metadata": {},
   "outputs": [
    {
     "data": {
      "image/png": "[encoded data removed]",
      "text/plain": [
       "<Figure size 576x360 with 1 Axes>"
      ]
     },
     "metadata": {
      "needs_background": "light"
     },
     "output_type": "display_data"
    }
   ],
   "source": [
    "## 시그모이드 함수 예시\n",
    "import numpy as np\n",
    "import matplotlib.pyplot as plt\n",
    "\n",
    "### 임의의 z 값\n",
    "### decision의 min, max 값을 범위로 그린다 \n",
    "\n",
    "z = np.arange(decisions.min(),decisions.max(),0.1)\n",
    "\n",
    "### 시그모이드 공식 사용\n",
    "# - np.exp() : 0-1지수로 변환하기\n",
    "#            : z값의 스케일을 통일 시키기 위해서 z 값은 음수로 처리 (제곱승 시에 분모로 계산)\n",
    "#            : 2^(-2) = 1(2^2),2^0 = 1\n",
    "phi = 1/(1+np.exp(-z))\n",
    "\n",
    "plt.figure(figsize = (8,5))\n",
    "plt.plot(z,phi)\n",
    "plt.show()\n",
    "# y 축 확률\n",
    "# z = 0 > y=0.5(50%)"
   ]
  },
  {
   "cell_type": "code",
   "execution_count": null,
   "id": "3f986670",
   "metadata": {},
   "outputs": [],
   "source": []
  },
  {
   "cell_type": "markdown",
   "id": "203f54af",
   "metadata": {},
   "source": [
    "## 로지스틱 다중분류"
   ]
  },
  {
   "cell_type": "code",
   "execution_count": 30,
   "id": "1cd483e2",
   "metadata": {},
   "outputs": [],
   "source": [
    "data = iris_조혜리['data']\n",
    "target = iris_조혜리['target']\n",
    "data = np.array(data)\n",
    "target=np.array(target)\n",
    "\n",
    "train_input,test_input,train_target,test_target = train_test_split(data,target)\n",
    "\n"
   ]
  },
  {
   "cell_type": "code",
   "execution_count": 31,
   "id": "ca2e425f",
   "metadata": {},
   "outputs": [
    {
     "data": {
      "text/plain": [
       "array([[-1.12278719,  1.21312326, -1.27138924, -1.40236194],\n",
       "       [ 1.24542684,  0.05579954,  0.66634241,  0.44390466],\n",
       "       [-1.7148407 , -0.17566521, -1.326753  , -1.27048576],\n",
       "       [-1.59642999, -1.79591843, -1.326753  , -1.13860957],\n",
       "       [-0.88596578,  1.67605276, -1.21602547, -1.13860957]])"
      ]
     },
     "execution_count": 31,
     "metadata": {},
     "output_type": "execute_result"
    }
   ],
   "source": [
    "# 라이브러리 생성 \n",
    "from sklearn.preprocessing import StandardScaler\n",
    "\n",
    "# 클래스 모델 생성\n",
    "ss = StandardScaler()\n",
    "\n",
    "# 스스로 표준점수 생성 \n",
    "ss.fit(train_input)\n",
    "\n",
    "## 훈련데이터 표준점수로 변환하기\n",
    "train_scaled = ss.transform(train_input)\n",
    "\n",
    "### 테스트 데이터를 표준점수로 변환하기\n",
    "test_scaled = ss.transform(test_input)\n",
    "\n",
    "# 샘플 5개 행 출력해보기\n",
    "train_scaled[:5]"
   ]
  },
  {
   "cell_type": "code",
   "execution_count": 32,
   "id": "b07a6c5a",
   "metadata": {},
   "outputs": [
    {
     "name": "stdout",
     "output_type": "stream",
     "text": [
      "0.9821428571428571\n",
      "0.9473684210526315\n"
     ]
    }
   ],
   "source": [
    "from sklearn.linear_model import LogisticRegression\n",
    "\n",
    "lr = LogisticRegression(C=20, max_iter=1000)\n",
    "lr.fit(train_scaled, train_target)\n",
    "\n",
    "print(lr.score(train_scaled, train_target))\n",
    "print(lr.score(test_scaled, test_target))"
   ]
  },
  {
   "cell_type": "code",
   "execution_count": 33,
   "id": "713330df",
   "metadata": {},
   "outputs": [
    {
     "name": "stdout",
     "output_type": "stream",
     "text": [
      "[0 1 2 2 1]\n",
      "----------------------\n",
      "[[1.    0.    0.   ]\n",
      " [0.    0.994 0.006]\n",
      " [0.    0.014 0.986]\n",
      " [0.    0.035 0.965]\n",
      " [0.001 0.993 0.007]]\n",
      "----------------------\n",
      "[0 1 2]\n"
     ]
    }
   ],
   "source": [
    "# 상위 5건으로 예측 진행\n",
    "print(lr.predict(test_scaled[:5]))\n",
    "print('----------------------')\n",
    "# 전체 범주별 확률 확인 \n",
    "proba = lr.predict_proba(test_scaled[:5])\n",
    "print(np.round(proba, decimals=3))\n",
    "print('----------------------')\n",
    "print(lr.classes_)"
   ]
  },
  {
   "cell_type": "code",
   "execution_count": 34,
   "id": "c77423e8",
   "metadata": {},
   "outputs": [
    {
     "name": "stdout",
     "output_type": "stream",
     "text": [
      "[[-1.77851365  2.14975701 -4.02175276 -3.81749192]\n",
      " [ 1.18934381 -0.10689198 -2.38964733 -0.68252636]\n",
      " [ 0.58916984 -2.04286503  6.41140009  4.50001828]]\n",
      "----------------------------------------------------------------------\n",
      "[ 0.8126138   4.73487432 -5.54748812]\n"
     ]
    }
   ],
   "source": [
    "print(lr.coef_)\n",
    "print('----------------------------------------------------------------------')\n",
    "print(lr.intercept_)"
   ]
  },
  {
   "cell_type": "code",
   "execution_count": 35,
   "id": "8d31b759",
   "metadata": {},
   "outputs": [
    {
     "name": "stdout",
     "output_type": "stream",
     "text": [
      "[[ 16.44716004   7.79152976 -24.2386898 ]\n",
      " [ -4.42115339   4.78554852  -0.36439513]\n",
      " [ -9.04242281   2.38525223   6.65717058]\n",
      " [ -7.78979642   2.2400404    5.54975602]\n",
      " [ -3.21570065   4.11515306  -0.89945241]]\n"
     ]
    }
   ],
   "source": [
    "decisions = lr.decision_function(test_scaled[:5])\n",
    "print(decisions)\n",
    "# z 값이 높으면 해당 범주가 선택될 확률도 높다 "
   ]
  },
  {
   "cell_type": "code",
   "execution_count": 36,
   "id": "78873139",
   "metadata": {},
   "outputs": [
    {
     "name": "stdout",
     "output_type": "stream",
     "text": [
      "[[1.    0.    0.   ]\n",
      " [0.    0.994 0.006]\n",
      " [0.    0.014 0.986]\n",
      " [0.    0.035 0.965]\n",
      " [0.001 0.993 0.007]]\n"
     ]
    }
   ],
   "source": [
    "## 소프트 맥스(softmax)\n",
    "# 사용하는 패키지 : scipy.special\n",
    "# 사용하는 모듈 : softmax\n",
    "\n",
    "from scipy.special import softmax\n",
    "\n",
    "# decisions : z 값 \n",
    "# 0~1 사이의 값으로 변환 해준다 \n",
    "proba = softmax(decisions, axis=1)\n",
    "print(np.round(proba , decimals=3))\n",
    "\n",
    "\n",
    "# print(np.round(proba, decimals=3)) 값과 동일하다 ( 이진분류는 동일하지 않음 )"
   ]
  },
  {
   "cell_type": "code",
   "execution_count": 37,
   "id": "790bb428",
   "metadata": {},
   "outputs": [],
   "source": [
    "#### 로지스틱 이진분류 : 두개의 범주의 확률에 따라\n",
    "#### KNN 분류 : 예측하고자 하는 값 주위 이웃이 가지고있는 범주에 따라 \n",
    "\n",
    "#### 모델은 KNeighborsClassifier 똑같이 사용하나 결과값은 다르다 \n",
    "#### 로지스틱은 두개의 범주 전부다 포함시켜서 확률 계산 , \n",
    "#### KNN 은 이웃이 어떠한 범주를 가졌느냐에 따른 확률계산"
   ]
  }
 ],
 "metadata": {
  "kernelspec": {
   "display_name": "ml_kernel",
   "language": "python",
   "name": "ml"
  },
  "language_info": {
   "codemirror_mode": {
    "name": "ipython",
    "version": 3
   },
   "file_extension": ".py",
   "mimetype": "text/x-python",
   "name": "python",
   "nbconvert_exporter": "python",
   "pygments_lexer": "ipython3",
   "version": "3.9.12"
  }
 },
 "nbformat": 4,
 "nbformat_minor": 5
}
