{
 "cells": [
  {
   "cell_type": "markdown",
   "id": "78af47cf",
   "metadata": {},
   "source": [
    "# 로지스틱 회귀분류 모델\n",
    "##### 회귀 : 1차, 2차 방정식 "
   ]
  },
  {
   "cell_type": "code",
   "execution_count": 1,
   "id": "fdb9f204",
   "metadata": {},
   "outputs": [
    {
     "data": {
      "text/html": [
       "<div>\n",
       "<style scoped>\n",
       "    .dataframe tbody tr th:only-of-type {\n",
       "        vertical-align: middle;\n",
       "    }\n",
       "\n",
       "    .dataframe tbody tr th {\n",
       "        vertical-align: top;\n",
       "    }\n",
       "\n",
       "    .dataframe thead th {\n",
       "        text-align: right;\n",
       "    }\n",
       "</style>\n",
       "<table border=\"1\" class=\"dataframe\">\n",
       "  <thead>\n",
       "    <tr style=\"text-align: right;\">\n",
       "      <th></th>\n",
       "      <th>Species</th>\n",
       "      <th>Weight</th>\n",
       "      <th>Length</th>\n",
       "      <th>Diagonal</th>\n",
       "      <th>Height</th>\n",
       "      <th>Width</th>\n",
       "    </tr>\n",
       "  </thead>\n",
       "  <tbody>\n",
       "    <tr>\n",
       "      <th>0</th>\n",
       "      <td>Bream</td>\n",
       "      <td>242.0</td>\n",
       "      <td>25.4</td>\n",
       "      <td>30.0</td>\n",
       "      <td>11.5200</td>\n",
       "      <td>4.0200</td>\n",
       "    </tr>\n",
       "    <tr>\n",
       "      <th>1</th>\n",
       "      <td>Bream</td>\n",
       "      <td>290.0</td>\n",
       "      <td>26.3</td>\n",
       "      <td>31.2</td>\n",
       "      <td>12.4800</td>\n",
       "      <td>4.3056</td>\n",
       "    </tr>\n",
       "    <tr>\n",
       "      <th>2</th>\n",
       "      <td>Bream</td>\n",
       "      <td>340.0</td>\n",
       "      <td>26.5</td>\n",
       "      <td>31.1</td>\n",
       "      <td>12.3778</td>\n",
       "      <td>4.6961</td>\n",
       "    </tr>\n",
       "    <tr>\n",
       "      <th>3</th>\n",
       "      <td>Bream</td>\n",
       "      <td>363.0</td>\n",
       "      <td>29.0</td>\n",
       "      <td>33.5</td>\n",
       "      <td>12.7300</td>\n",
       "      <td>4.4555</td>\n",
       "    </tr>\n",
       "    <tr>\n",
       "      <th>4</th>\n",
       "      <td>Bream</td>\n",
       "      <td>430.0</td>\n",
       "      <td>29.0</td>\n",
       "      <td>34.0</td>\n",
       "      <td>12.4440</td>\n",
       "      <td>5.1340</td>\n",
       "    </tr>\n",
       "  </tbody>\n",
       "</table>\n",
       "</div>"
      ],
      "text/plain": [
       "  Species  Weight  Length  Diagonal   Height   Width\n",
       "0   Bream   242.0    25.4      30.0  11.5200  4.0200\n",
       "1   Bream   290.0    26.3      31.2  12.4800  4.3056\n",
       "2   Bream   340.0    26.5      31.1  12.3778  4.6961\n",
       "3   Bream   363.0    29.0      33.5  12.7300  4.4555\n",
       "4   Bream   430.0    29.0      34.0  12.4440  5.1340"
      ]
     },
     "execution_count": 1,
     "metadata": {},
     "output_type": "execute_result"
    }
   ],
   "source": [
    "import pandas as pd \n",
    "fish = pd.read_csv('./data/05_생선_분류_데이터셋.csv')\n",
    "fish.head()\n",
    "\n",
    "# Species\tWeight\tLength\tDiagonal\tHeight\tWidth\n",
    "# 종류       무게    길이   대각선       높이   두께"
   ]
  },
  {
   "cell_type": "code",
   "execution_count": 2,
   "id": "0186943f",
   "metadata": {},
   "outputs": [
    {
     "name": "stdout",
     "output_type": "stream",
     "text": [
      "['Bream' 'Roach' 'Whitefish' 'Parkki' 'Perch' 'Pike' 'Smelt']\n"
     ]
    }
   ],
   "source": [
    "## 종류 특성의 고유한 값 조회하기 \n",
    "print(pd.unique(fish['Species']))"
   ]
  },
  {
   "cell_type": "code",
   "execution_count": 3,
   "id": "c3469bae",
   "metadata": {},
   "outputs": [],
   "source": [
    "# KNN 모델 : 독립변수 1, 종속변수 1, 범주 2 "
   ]
  },
  {
   "cell_type": "code",
   "execution_count": 4,
   "id": "8f5a7f97",
   "metadata": {},
   "outputs": [
    {
     "data": {
      "text/plain": [
       "array([[242.    ,  25.4   ,  30.    ,  11.52  ,   4.02  ],\n",
       "       [290.    ,  26.3   ,  31.2   ,  12.48  ,   4.3056],\n",
       "       [340.    ,  26.5   ,  31.1   ,  12.3778,   4.6961],\n",
       "       [363.    ,  29.    ,  33.5   ,  12.73  ,   4.4555],\n",
       "       [430.    ,  29.    ,  34.    ,  12.444 ,   5.134 ]])"
      ]
     },
     "execution_count": 4,
     "metadata": {},
     "output_type": "execute_result"
    }
   ],
   "source": [
    "### 독립변수 추출하기 ( 2차원 )\n",
    "# - 변수명은 fish_input\n",
    "# - sklearn훈련에 사용하는 형태로 만들기\n",
    "import numpy as np\n",
    "\n",
    "# 데이터 프레임을 2차원으로 변환 \n",
    "fish_input = fish[['Weight', 'Length', 'Diagonal', 'Height', 'Width']].to_numpy()\n",
    "fish_input\n",
    "\n",
    "# 상위 다섯개 추출하기\n",
    "fish_input[0:5]"
   ]
  },
  {
   "cell_type": "code",
   "execution_count": 5,
   "id": "4b32127f",
   "metadata": {},
   "outputs": [
    {
     "data": {
      "text/plain": [
       "array(['Bream', 'Bream', 'Bream', 'Bream', 'Bream', 'Bream', 'Bream',\n",
       "       'Bream', 'Bream', 'Bream', 'Bream', 'Bream', 'Bream', 'Bream',\n",
       "       'Bream', 'Bream', 'Bream', 'Bream', 'Bream', 'Bream', 'Bream',\n",
       "       'Bream', 'Bream', 'Bream', 'Bream', 'Bream', 'Bream', 'Bream',\n",
       "       'Bream', 'Bream', 'Bream', 'Bream', 'Bream', 'Bream', 'Bream',\n",
       "       'Roach', 'Roach', 'Roach', 'Roach', 'Roach', 'Roach', 'Roach',\n",
       "       'Roach', 'Roach', 'Roach', 'Roach', 'Roach', 'Roach', 'Roach',\n",
       "       'Roach', 'Roach', 'Roach', 'Roach', 'Roach', 'Roach', 'Whitefish',\n",
       "       'Whitefish', 'Whitefish', 'Whitefish', 'Whitefish', 'Whitefish',\n",
       "       'Parkki', 'Parkki', 'Parkki', 'Parkki', 'Parkki', 'Parkki',\n",
       "       'Parkki', 'Parkki', 'Parkki', 'Parkki', 'Parkki', 'Perch', 'Perch',\n",
       "       'Perch', 'Perch', 'Perch', 'Perch', 'Perch', 'Perch', 'Perch',\n",
       "       'Perch', 'Perch', 'Perch', 'Perch', 'Perch', 'Perch', 'Perch',\n",
       "       'Perch', 'Perch', 'Perch', 'Perch', 'Perch', 'Perch', 'Perch',\n",
       "       'Perch', 'Perch', 'Perch', 'Perch', 'Perch', 'Perch', 'Perch',\n",
       "       'Perch', 'Perch', 'Perch', 'Perch', 'Perch', 'Perch', 'Perch',\n",
       "       'Perch', 'Perch', 'Perch', 'Perch', 'Perch', 'Perch', 'Perch',\n",
       "       'Perch', 'Perch', 'Perch', 'Perch', 'Perch', 'Perch', 'Perch',\n",
       "       'Perch', 'Perch', 'Perch', 'Perch', 'Perch', 'Pike', 'Pike',\n",
       "       'Pike', 'Pike', 'Pike', 'Pike', 'Pike', 'Pike', 'Pike', 'Pike',\n",
       "       'Pike', 'Pike', 'Pike', 'Pike', 'Pike', 'Pike', 'Pike', 'Smelt',\n",
       "       'Smelt', 'Smelt', 'Smelt', 'Smelt', 'Smelt', 'Smelt', 'Smelt',\n",
       "       'Smelt', 'Smelt', 'Smelt', 'Smelt', 'Smelt', 'Smelt'], dtype=object)"
      ]
     },
     "execution_count": 5,
     "metadata": {},
     "output_type": "execute_result"
    }
   ],
   "source": [
    "# 종속변수 만들기 (1차원)\n",
    "# - 변수명 : fish_target\n",
    "fish_target = fish['Species'].to_numpy()\n",
    "fish_target"
   ]
  },
  {
   "cell_type": "code",
   "execution_count": 87,
   "id": "d5494410",
   "metadata": {},
   "outputs": [
    {
     "name": "stdout",
     "output_type": "stream",
     "text": [
      "(159, 5)\n",
      "(159,)\n",
      "(40, 5)\n",
      "(40,)\n"
     ]
    }
   ],
   "source": [
    "# 훈련데이터와 테스트데이터 나누기\n",
    "\n",
    "# 사용 패키지 불러들이기\n",
    "from sklearn.model_selection import train_test_split\n",
    "train_input, test_input,train_target,test_target = train_test_split(fish_input,fish_target,random_state=42)\n",
    "\n",
    "print(fish_input.shape)\n",
    "print(fish_target.shape)\n",
    "print(test_input.shape)\n",
    "print(test_target.shape)"
   ]
  },
  {
   "cell_type": "code",
   "execution_count": 7,
   "id": "253a4c9e",
   "metadata": {},
   "outputs": [
    {
     "data": {
      "text/plain": [
       "array([[ 0.91965782,  0.60943175,  0.81041221,  1.85194896,  1.00075672],\n",
       "       [ 0.30041219,  1.54653445,  1.45316551, -0.46981663,  0.27291745],\n",
       "       [-1.0858536 , -1.68646987, -1.70848587, -1.70159849, -2.0044758 ],\n",
       "       [-0.79734143, -0.60880176, -0.67486907, -0.82480589, -0.27631471],\n",
       "       [-0.71289885, -0.73062511, -0.70092664, -0.0802298 , -0.7033869 ]])"
      ]
     },
     "execution_count": 7,
     "metadata": {},
     "output_type": "execute_result"
    }
   ],
   "source": [
    "### 정규화(표준화)  : 스케일 표준화\n",
    "# - 변수 : train_scaled, test_scaled\n",
    "\n",
    "# 라이브러리 생성 \n",
    "from sklearn.preprocessing import StandardScaler\n",
    "\n",
    "# 클래스 모델 생성\n",
    "ss = StandardScaler()\n",
    "\n",
    "# 스스로 표준점수 생성 \n",
    "ss.fit(train_input)\n",
    "\n",
    "## 훈련데이터 표준점수로 변환하기\n",
    "train_scaled = ss.transform(train_input)\n",
    "\n",
    "### 테스트 데이터를 표준점수로 변환하기\n",
    "test_scaled = ss.transform(test_input)\n",
    "\n",
    "# 샘플 5개 행 출력해보기\n",
    "train_scaled[:5]"
   ]
  },
  {
   "cell_type": "code",
   "execution_count": 8,
   "id": "aa90c20e",
   "metadata": {},
   "outputs": [
    {
     "name": "stdout",
     "output_type": "stream",
     "text": [
      "0.8907563025210085\n",
      "0.85\n"
     ]
    },
    {
     "name": "stderr",
     "output_type": "stream",
     "text": [
      "C:\\Users\\82102\\ml\\lib\\site-packages\\sklearn\\neighbors\\_classification.py:237: FutureWarning: Unlike other reduction functions (e.g. `skew`, `kurtosis`), the default behavior of `mode` typically preserves the axis it acts along. In SciPy 1.11.0, this behavior will change: the default value of `keepdims` will become False, the `axis` over which the statistic is taken will be eliminated, and the value None will no longer be accepted. Set `keepdims` to True or False to avoid this warning.\n",
      "  mode, _ = stats.mode(_y[neigh_ind, k], axis=1)\n",
      "C:\\Users\\82102\\ml\\lib\\site-packages\\sklearn\\neighbors\\_classification.py:237: FutureWarning: Unlike other reduction functions (e.g. `skew`, `kurtosis`), the default behavior of `mode` typically preserves the axis it acts along. In SciPy 1.11.0, this behavior will change: the default value of `keepdims` will become False, the `axis` over which the statistic is taken will be eliminated, and the value None will no longer be accepted. Set `keepdims` to True or False to avoid this warning.\n",
      "  mode, _ = stats.mode(_y[neigh_ind, k], axis=1)\n"
     ]
    }
   ],
   "source": [
    "### k-최근접이웃분류 모델로 테스트\n",
    "### Classifier : 분류모델  Regressor : 회귀모델 \n",
    "# - 이웃 3개 n_neighbors=3\n",
    "from sklearn.neighbors import KNeighborsClassifier\n",
    "\n",
    "### 클래스(모델) 이름 :KNeighborsRegressor()\n",
    "kn = KNeighborsClassifier()\n",
    "kn = KNeighborsClassifier(n_neighbors=3)\n",
    "kn.fit(train_scaled,train_target)\n",
    "\n",
    "print(kn.score(train_scaled, train_target))\n",
    "print(kn.score(test_scaled, test_target))\n"
   ]
  },
  {
   "cell_type": "code",
   "execution_count": 9,
   "id": "dd94bfe0",
   "metadata": {},
   "outputs": [
    {
     "name": "stdout",
     "output_type": "stream",
     "text": [
      "['Perch' 'Smelt' 'Pike' 'Perch' 'Perch']\n",
      "['Perch' 'Smelt' 'Pike' 'Whitefish' 'Perch']\n"
     ]
    },
    {
     "name": "stderr",
     "output_type": "stream",
     "text": [
      "C:\\Users\\82102\\ml\\lib\\site-packages\\sklearn\\neighbors\\_classification.py:237: FutureWarning: Unlike other reduction functions (e.g. `skew`, `kurtosis`), the default behavior of `mode` typically preserves the axis it acts along. In SciPy 1.11.0, this behavior will change: the default value of `keepdims` will become False, the `axis` over which the statistic is taken will be eliminated, and the value None will no longer be accepted. Set `keepdims` to True or False to avoid this warning.\n",
      "  mode, _ = stats.mode(_y[neigh_ind, k], axis=1)\n",
      "C:\\Users\\82102\\ml\\lib\\site-packages\\sklearn\\neighbors\\_classification.py:237: FutureWarning: Unlike other reduction functions (e.g. `skew`, `kurtosis`), the default behavior of `mode` typically preserves the axis it acts along. In SciPy 1.11.0, this behavior will change: the default value of `keepdims` will become False, the `axis` over which the statistic is taken will be eliminated, and the value None will no longer be accepted. Set `keepdims` to True or False to avoid this warning.\n",
      "  mode, _ = stats.mode(_y[neigh_ind, k], axis=1)\n"
     ]
    },
    {
     "data": {
      "text/plain": [
       "array([['Perch', 'Perch'],\n",
       "       ['Smelt', 'Smelt'],\n",
       "       ['Pike', 'Pike'],\n",
       "       ['Whitefish', 'Perch'],\n",
       "       ['Perch', 'Perch']], dtype=object)"
      ]
     },
     "execution_count": 9,
     "metadata": {},
     "output_type": "execute_result"
    }
   ],
   "source": [
    "# 상위 5개 예측하기\n",
    "print(kn.predict(test_scaled[:5]))\n",
    "print(test_target[:5])\n",
    "\n",
    "# [[실제값 , 예측값 ],[실제값, 예측값]...]\n",
    "import numpy as np\n",
    "\n",
    "np.column_stack((test_target[:5], kn.predict(test_scaled[:5])))"
   ]
  },
  {
   "cell_type": "code",
   "execution_count": 10,
   "id": "2d67d864",
   "metadata": {
    "scrolled": true
   },
   "outputs": [
    {
     "data": {
      "text/plain": [
       "array([[0.    , 0.    , 1.    , 0.    , 0.    , 0.    , 0.    ],\n",
       "       [0.    , 0.    , 0.    , 0.    , 0.    , 1.    , 0.    ],\n",
       "       [0.    , 0.    , 0.    , 1.    , 0.    , 0.    , 0.    ],\n",
       "       [0.    , 0.    , 0.6667, 0.    , 0.3333, 0.    , 0.    ],\n",
       "       [0.    , 0.    , 0.6667, 0.    , 0.3333, 0.    , 0.    ]])"
      ]
     },
     "execution_count": 10,
     "metadata": {},
     "output_type": "execute_result"
    }
   ],
   "source": [
    "## 각행의 범주들의 확률값 확인\n",
    "# - 확률값의 범위 : 0~1 (0%~100%)\n",
    "# - 확률값 조회 함수 : predict_proba(테스트데이터)\n",
    "# - sklearn 분류모델 공통으로 사용 \n",
    "\n",
    "proba = kn.predict_proba(test_scaled[:5])\n",
    "np.round(proba, decimals=4)\n",
    "\n",
    "# 훈련모델의 범주의 순서 \n",
    "#     ['Bream' 'Parkki' 'Perch' 'Pike' 'Roach' 'Smelt' 'Whitefish']\n",
    "#array( [[0.   , 0.    , 1.    , 0.    , 0.    , 0.    , 0.    ],\n",
    "#       [0.    , 0.    , 0.    , 0.    , 0.    , 1.    , 0.    ],\n",
    "#       [0.    , 0.    , 0.    , 1.    , 0.    , 0.    , 0.    ],\n",
    "#       [0.    , 0.    , 0.6667, 0.    , 0.3333, 0.    , 0.    ],\n",
    "#       [0.    , 0.    , 0.6667, 0.    , 0.3333, 0.    , 0.    ]])\n",
    "\n",
    "\n",
    "# 첫번째 예측값의 결과는 perch\n",
    "# 두번째 예측값의 결과는 smelt\n",
    "# 세번째 예측값의 결과는 pike\n",
    "# 네번째 예측값의 결과는 perch와 roach 가 67%, 33% 확률로 결과값이 나온다\n",
    "# 다섯번째 예측값의 결과는 perch와 roach 가 67%, 33% 확률로 결과값이 나온다"
   ]
  },
  {
   "cell_type": "code",
   "execution_count": 11,
   "id": "a6e55498",
   "metadata": {},
   "outputs": [
    {
     "name": "stdout",
     "output_type": "stream",
     "text": [
      "['Bream' 'Roach' 'Whitefish' 'Parkki' 'Perch' 'Pike' 'Smelt']\n"
     ]
    }
   ],
   "source": [
    "print(pd.unique(fish['Species']))"
   ]
  },
  {
   "cell_type": "code",
   "execution_count": 12,
   "id": "4b4faaa1",
   "metadata": {},
   "outputs": [
    {
     "name": "stdout",
     "output_type": "stream",
     "text": [
      "['Bream' 'Parkki' 'Perch' 'Pike' 'Roach' 'Smelt' 'Whitefish']\n"
     ]
    }
   ],
   "source": [
    "### 훈련모델이 가지고 있는 범주의 리스트값 확인\n",
    "## 종속변수 범주의 항목을 의미 \n",
    "## 데이터가 가진 범주와 훈련모델이 가지고있는 순서 다르다\n",
    "## 훈련모델은 범주를 오름차순으로 정렬후 가지고있다 \n",
    "print(kn.classes_)"
   ]
  },
  {
   "cell_type": "code",
   "execution_count": 13,
   "id": "7055ab92",
   "metadata": {},
   "outputs": [
    {
     "name": "stdout",
     "output_type": "stream",
     "text": [
      "[[ 39  64  63]\n",
      " [ 93  99  43]\n",
      " [100 105  27]\n",
      " [104 115 106]\n",
      " [ 72  26  68]]\n",
      "[['Perch' 'Perch' 'Perch']]\n",
      "[['Smelt' 'Smelt' 'Smelt']]\n",
      "[['Pike' 'Pike' 'Pike']]\n",
      "[['Roach' 'Perch' 'Perch']]\n",
      "[['Perch' 'Perch' 'Roach']]\n",
      "-------------------------------\n",
      "[['Perch' 'Perch' 'Roach']]\n"
     ]
    }
   ],
   "source": [
    "## 5개의 데이터의 이웃들 확인하기\n",
    "# - 각 행마다 이웃이 3개씩\n",
    "# - 이웃의 갯수 많아지면 복잡도 감소 \n",
    "distance, indexes = kn.kneighbors(test_scaled[:5])\n",
    "print(indexes)\n",
    "\n",
    "for test_data in test_scaled[:5]:\n",
    "    distance, indexes = kn.kneighbors([test_data])\n",
    "    print(train_target[indexes])\n",
    "print('-------------------------------')\n",
    "\n",
    "\n",
    "print(train_target[indexes])"
   ]
  },
  {
   "cell_type": "markdown",
   "id": "88f40594",
   "metadata": {},
   "source": [
    "# 로지스틱 회귀분류(Logistic Regression)"
   ]
  },
  {
   "cell_type": "markdown",
   "id": "7162c2f2",
   "metadata": {},
   "source": [
    "#### 선형방정식 사용 : 다중회귀 방정식과 동일\n",
    "####  z = a* x1 + b*x2 + .... + y절편\n",
    "#### - z 값 구하는 함수  : decision_function(훈련데이터)\n",
    "#### - z 값의 범위: 0보다 작거나 크거나 \n",
    "#### 확률 : 0 ~ 1 사이값을 사용 (0%~100%)\n",
    "#### - 따라서 z 값은 확률의 0~1사이의 값으로 변환하는 작업이 필요\n",
    " - 이때 사용하는 방법\n",
    ": 시그모이드 방식(이진분류방식), 소프트맥스 방식(다중분류방식) :  ( 모두 함수 지원됨 )"
   ]
  },
  {
   "cell_type": "markdown",
   "id": "586cf883",
   "metadata": {},
   "source": [
    "## 로지스틱 회귀로 이진분류\n",
    "#### - 시그모이드 함수 사용 \n",
    "####  ( 이진분류 방식은 2개의 범주만 사용가능)"
   ]
  },
  {
   "cell_type": "code",
   "execution_count": 14,
   "id": "4d9fd43c",
   "metadata": {},
   "outputs": [
    {
     "data": {
      "text/plain": [
       "array(['Bream', 'Pike', 'Smelt', 'Perch', 'Parkki', 'Roach', 'Perch',\n",
       "       'Bream', 'Perch', 'Perch', 'Perch', 'Bream', 'Perch', 'Parkki',\n",
       "       'Perch', 'Bream', 'Smelt', 'Perch', 'Roach', 'Bream', 'Pike',\n",
       "       'Bream', 'Pike', 'Perch', 'Parkki', 'Bream', 'Perch', 'Pike',\n",
       "       'Bream', 'Perch', 'Parkki', 'Roach', 'Perch', 'Bream', 'Roach',\n",
       "       'Perch', 'Bream', 'Bream', 'Perch', 'Perch', 'Roach', 'Pike',\n",
       "       'Perch', 'Smelt', 'Pike', 'Roach', 'Perch', 'Parkki', 'Perch',\n",
       "       'Bream', 'Perch', 'Smelt', 'Perch', 'Parkki', 'Smelt', 'Perch',\n",
       "       'Perch', 'Roach', 'Bream', 'Perch', 'Perch', 'Roach', 'Roach',\n",
       "       'Perch', 'Perch', 'Bream', 'Roach', 'Bream', 'Roach', 'Parkki',\n",
       "       'Perch', 'Perch', 'Perch', 'Perch', 'Pike', 'Pike', 'Perch',\n",
       "       'Bream', 'Perch', 'Bream', 'Whitefish', 'Pike', 'Bream', 'Bream',\n",
       "       'Roach', 'Perch', 'Pike', 'Bream', 'Pike', 'Parkki', 'Roach',\n",
       "       'Perch', 'Roach', 'Smelt', 'Whitefish', 'Roach', 'Perch', 'Bream',\n",
       "       'Whitefish', 'Smelt', 'Pike', 'Roach', 'Smelt', 'Bream', 'Roach',\n",
       "       'Pike', 'Perch', 'Perch', 'Perch', 'Perch', 'Perch', 'Perch',\n",
       "       'Smelt', 'Bream', 'Parkki', 'Perch', 'Bream', 'Perch', 'Perch'],\n",
       "      dtype=object)"
      ]
     },
     "execution_count": 14,
     "metadata": {},
     "output_type": "execute_result"
    }
   ],
   "source": [
    "train_scaled\n",
    "train_target"
   ]
  },
  {
   "cell_type": "code",
   "execution_count": 44,
   "id": "d0e9f3a3",
   "metadata": {},
   "outputs": [
    {
     "name": "stdout",
     "output_type": "stream",
     "text": [
      "(33, 5)\n",
      "(33,)\n"
     ]
    }
   ],
   "source": [
    "### 이진분류 방식은 2개의 범주만 사용가능합니다\n",
    "# - 기존 데이터에서 2개 (Bream과 Smelt) 범주만 추출하여 사용\n",
    "# 독립변수명 : train_bream_smelt\n",
    "# 종속변수명 : target_bream_smelt\n",
    "\n",
    "train_bream_smelt =[]\n",
    "target_bream_smelt =[]\n",
    "for i in range (len(train_target)):\n",
    "    if train_target[i] == 'Bream' or train_target[i] == 'Smelt':\n",
    "        train_bream_smelt.append(train_scaled[i])\n",
    "        target_bream_smelt.append(train_target[i])\n",
    "    else:\n",
    "        pass\n",
    "\n",
    "train_bream_smelt = np.array(train_bream_smelt)\n",
    "target_bream_smelt = np.array(target_bream_smelt)\n",
    "\n",
    "print(train_bream_smelt.shape)\n",
    "print(target_bream_smelt.shape)\n"
   ]
  },
  {
   "cell_type": "code",
   "execution_count": 42,
   "id": "92810b8b",
   "metadata": {},
   "outputs": [
    {
     "data": {
      "text/plain": [
       "(33, 5)"
      ]
     },
     "execution_count": 42,
     "metadata": {},
     "output_type": "execute_result"
    }
   ],
   "source": [
    "train_bream_smelt = train_scaled[(train_target=='Bream') | (train_target=='Smelt')]\n",
    "train_bream_smelt.shape"
   ]
  },
  {
   "cell_type": "code",
   "execution_count": 46,
   "id": "a1dc42d9",
   "metadata": {},
   "outputs": [
    {
     "data": {
      "text/plain": [
       "(33,)"
      ]
     },
     "execution_count": 46,
     "metadata": {},
     "output_type": "execute_result"
    }
   ],
   "source": [
    "target_bream_smelt = train_target[(train_target=='Bream') | (train_target=='Smelt')]\n",
    "target_bream_smelt.shape"
   ]
  },
  {
   "cell_type": "code",
   "execution_count": 47,
   "id": "3f54ce75",
   "metadata": {},
   "outputs": [
    {
     "data": {
      "text/plain": [
       "1.0"
      ]
     },
     "execution_count": 47,
     "metadata": {},
     "output_type": "execute_result"
    }
   ],
   "source": [
    "## 이진분류 하기\n",
    "## 사용할 패키지 불러 들이기 \n",
    "from sklearn.linear_model import LogisticRegression\n",
    "\n",
    "lr = LogisticRegression()\n",
    "\n",
    "lr.fit(train_bream_smelt,target_bream_smelt)\n",
    "lr.score(train_bream_smelt,target_bream_smelt)\n"
   ]
  },
  {
   "cell_type": "code",
   "execution_count": 48,
   "id": "2c0a4250",
   "metadata": {},
   "outputs": [
    {
     "data": {
      "text/plain": [
       "array(['Bream', 'Smelt', 'Bream', 'Bream', 'Bream'], dtype=object)"
      ]
     },
     "execution_count": 48,
     "metadata": {},
     "output_type": "execute_result"
    }
   ],
   "source": [
    "## 예측 상위 5개\n",
    "lr.predict(train_bream_smelt[:5])"
   ]
  },
  {
   "cell_type": "code",
   "execution_count": 53,
   "id": "73754c54",
   "metadata": {},
   "outputs": [
    {
     "name": "stdout",
     "output_type": "stream",
     "text": [
      "[[0.99759855 0.00240145]\n",
      " [0.02735183 0.97264817]\n",
      " [0.99486072 0.00513928]\n",
      " [0.98584202 0.01415798]\n",
      " [0.99767269 0.00232731]]\n"
     ]
    }
   ],
   "source": [
    "## 각각의 확률 조회 \n",
    "print(lr.predict_proba(train_bream_smelt[:5]))\n",
    "\n",
    "## 범주별 확률 조회\n",
    "#       ['Bream'       'Smelt']\n",
    "#     [[0.99759855 0.00240145]\n",
    "#      [0.02735183 0.97264817]\n",
    "#      [0.99486072 0.00513928]\n",
    "#      [0.98584202 0.01415798]\n",
    "#      [0.99767269 0.00232731]]\n"
   ]
  },
  {
   "cell_type": "code",
   "execution_count": 54,
   "id": "aae2d884",
   "metadata": {},
   "outputs": [
    {
     "name": "stdout",
     "output_type": "stream",
     "text": [
      "['Bream' 'Smelt']\n"
     ]
    }
   ],
   "source": [
    "print(lr.classes_)"
   ]
  },
  {
   "cell_type": "code",
   "execution_count": 55,
   "id": "df5c463b",
   "metadata": {},
   "outputs": [
    {
     "name": "stdout",
     "output_type": "stream",
     "text": [
      "[[-0.4037798  -0.57620209 -0.66280298 -1.01290277 -0.73168947]] [-2.16155132]\n"
     ]
    }
   ],
   "source": [
    "# 계수 ( 또는 가중치) 및 y 절편값 조회하기\n",
    "# 사용된 계수 : coef_  y절편 : intercept_\n",
    "\n",
    "print(lr.coef_, lr.intercept_)"
   ]
  },
  {
   "cell_type": "code",
   "execution_count": null,
   "id": "03e3bb2e",
   "metadata": {},
   "outputs": [],
   "source": [
    "# 방정식\n",
    "# -0.4037798*Diagonal+(-0.57620209*Height)+(-0.66280298*Length)+\n",
    "    (-1.01290277*Weight)+(-0.73168947*Width) -2.16155132"
   ]
  },
  {
   "cell_type": "code",
   "execution_count": 88,
   "id": "a62703c7",
   "metadata": {},
   "outputs": [
    {
     "name": "stdout",
     "output_type": "stream",
     "text": [
      "[[ 13.07725394   5.67942253  -3.35342016  -3.31345866   2.17369154\n",
      "  -20.94262085   6.67913166]\n",
      " [-11.87102251   2.30251194   5.38261668  -3.16149417   3.19000759\n",
      "    8.30347116  -4.1460907 ]\n",
      " [ 12.33862972   5.65081112  -4.66940509  -2.1462275    1.70364657\n",
      "  -17.38226266   4.50480785]\n",
      " [ 10.54151592   6.1097114   -4.81187015  -2.96240308   2.29034183\n",
      "  -14.96405353   3.79675761]\n",
      " [ 13.67853192   5.73153986  -4.25491951  -2.5508803    1.73530999\n",
      "  -20.2483173    5.90873535]]\n",
      "-------------------------------------------------------------------\n",
      "[[9.99997908e-01 9.96596096e-01 3.37833449e-02 3.51123532e-02\n",
      "  8.97862000e-01 8.03036577e-10 9.98744709e-01]\n",
      " [6.99000352e-06 9.09084864e-01 9.95425244e-01 4.06407574e-02\n",
      "  9.60456509e-01 9.99752406e-01 1.55795997e-02]\n",
      " [9.99995621e-01 9.96497645e-01 9.29071989e-03 1.04684275e-01\n",
      "  8.46010398e-01 2.82474489e-08 9.89065178e-01]\n",
      " [9.99973584e-01 9.97783731e-01 8.06703002e-03 4.91535705e-02\n",
      "  9.08073989e-01 3.17098355e-07 9.78049226e-01]\n",
      " [9.99998853e-01 9.96768396e-01 1.39955767e-02 7.23673684e-02\n",
      "  8.50090367e-01 1.60793144e-09 9.97291736e-01]]\n"
     ]
    }
   ],
   "source": [
    "# 이진분류에서 z 값 ( 선형방정식의 결과값들)을 0~1로 변환\n",
    "# z 값 조회하기 \n",
    "# 여기서 구한 z 값이 아래 시그모이드 함수 그래프에 z 값이다 z 값에 따른 y 값이 확률\n",
    "# 그래프가 0을 기준으로 음수면 50%이하 , 양수면 50% 이상 확률 \n",
    "# expit(decisions) 값이 확률값 시그모이드 그래프에서 y 값 \n",
    "decisions = lr.decision_function(train_bream_smelt[:5])\n",
    "print(decisions)\n",
    "print('-------------------------------------------------------------------')\n",
    "\n",
    "## 시그모이드 함수 : scipy 패키지의 expit()\n",
    "# 확률 \n",
    "# 왼쪽인덱스(0) :음수 , 오른쪽인덱스(1): 양수 \n",
    "#       ['Bream'       'Smelt']\n",
    "#     [[0.99759855 0.00240145*]\n",
    "#      [0.02735183 0.97264817*]\n",
    "#      [0.99486072 0.00513928*]\n",
    "#      [0.98584202 0.01415798*]\n",
    "#      [0.99767269 0.00232731*]]\n",
    "# 왼쪽인덱스(양수) 값들이 exipit 사용시 추출되는 값 \n",
    "from scipy.special import expit\n",
    "print(expit(decisions))"
   ]
  },
  {
   "cell_type": "markdown",
   "id": "5c3e6b24",
   "metadata": {},
   "source": [
    "## <시그모이드 함수(sigmoid function) 또는 로지스틱함수>\n",
    "#### - 이진 분류라고 합니다 (이진분류 : 범주 2개)\n",
    "#### - 범주가 2개일때 주로 사용\n",
    "\n",
    "#### - 사용패키지 : from scipy.special\n",
    "#### - 사용모둘 : import expit\n",
    "#### - 사용함수 : expit(z값)\n",
    "\n",
    "####   0/1. Y/N 처럼 둘중 하나로 분류할 때\n",
    "####  ( 기존에 KNN에서 사용했었다)\n",
    "####  - 시그모이드 값의 범위 : 0과 1 사잇값 ( 0%~ 100%)\n",
    "####  - 범주들의 z 값을 기준으로 0과 1의 사잇값으로 변환하여 반환한다\n",
    "####  - 변환공식 : 1/(1+np.exp^(-z))\n",
    "####    : np.exp : 지수값으로 변화하는 함수 (0-1)\n",
    "####   : -z : z 값은 음수 사용\n",
    "####   : z = 0 일때, 확률은 0.5(50%)\n",
    "####   : z > 0 일때, 확률 > 0.5(51%이상) ---> 예측확률이 높다\n",
    "####   : z < 0 일때, 확률은 <0.5(49프로 미만) \n",
    "####  - 여러개 범주들 중에 확률이 가장 높은 범주 선택 "
   ]
  },
  {
   "cell_type": "code",
   "execution_count": 90,
   "id": "701ec354",
   "metadata": {},
   "outputs": [
    {
     "data": {
      "image/png": "[encoded data removed]",
      "text/plain": [
       "<Figure size 432x288 with 1 Axes>"
      ]
     },
     "metadata": {
      "needs_background": "light"
     },
     "output_type": "display_data"
    }
   ],
   "source": [
    "## 시그모이드 함수 예시\n",
    "import numpy as np\n",
    "import matplotlib.pyplot as plt\n",
    "\n",
    "### 임의의 z 값\n",
    "### decision의 min, max 값을 범위로 그린다 \n",
    "z = np.arange(decisions.min(),decisions.max(),0.1)\n",
    "\n",
    "### 시그모이드 공식 사용\n",
    "# - np.exp() : 0-1지수로 변환하기\n",
    "#            : z값의 스케일을 통일 시키기 위해서 z 값은 음수로 처리 (제곱승 시에 분모로 계산)\n",
    "#            : 2^(-2) = 1(2^2),2^0 = 1\n",
    "phi = 1/(1+np.exp(-z))\n",
    "\n",
    "plt.plot(z,phi)\n",
    "plt.show()\n",
    "# y 축 확률\n",
    "# z = 0 > y=0.5(50%)\n"
   ]
  },
  {
   "cell_type": "markdown",
   "id": "d43b6d1a",
   "metadata": {},
   "source": [
    "## 다중분류\n",
    "##### - 다중분류는 모든 범주를 사용합니다\n",
    "##### - 독립변수도 모든 특성을 사용합니다\n",
    "##### - 모든 특성을 사용하다 보니 복잡도에 대한 부분을 고려해야 합니다\n",
    "#####  (너무 복잡해도 안되고, 느슨해도 안되고 적당히)\n",
    "##### - 사용하는 클래스 : 이진분류와 동일\n",
    "##### - 복잡도를 강약으로 조절하기 위해 규제강도 조절값 사용\n",
    "##### - 규제강도 조절값 속성명 : C (대문자), 기존의 alpha와 같음\n",
    "##### - 훈련반복횟수 사용\n",
    "##### : 훈련모델은 정확도를 높이기 위해 일반적으로 반복 수행을 합니다\n",
    "##### : 기본 반복횟수 : 100회\n",
    "##### : 훈련 중에 100회보다 더 해야하는 경우 경고 창이 뜨는 경우가 있음 \n",
    "##### : 독립변수의 특성이 많을 수록 훈련반복횟수가 늘어나는 경우 발생 \n",
    "##### : 반복횟수 속성값: max_iter\n",
    "##### : 보통 반복횟수를 1000으로 놓고 진행하는 경우가 많음\n",
    "##### - 이외 모든 훈련함수는 기존과 동일 "
   ]
  },
  {
   "cell_type": "code",
   "execution_count": 63,
   "id": "1eaf3f5d",
   "metadata": {},
   "outputs": [
    {
     "name": "stdout",
     "output_type": "stream",
     "text": [
      "0.9327731092436975\n",
      "0.925\n"
     ]
    }
   ],
   "source": [
    "### 규제강도 = 20\n",
    "### 반복횟수 = 1000회\n",
    "### 훈련데이터와 테스트데이터에 대한 정확도 확인 \n",
    "\n",
    "from sklearn.linear_model import LogisticRegression\n",
    "\n",
    "lr = LogisticRegression(C=20, max_iter=1000)\n",
    "lr.fit(train_scaled, train_target)\n",
    "\n",
    "print(lr.score(train_scaled, train_target))\n",
    "print(lr.score(test_scaled, test_target))\n"
   ]
  },
  {
   "cell_type": "code",
   "execution_count": 71,
   "id": "6d3efd20",
   "metadata": {},
   "outputs": [
    {
     "name": "stdout",
     "output_type": "stream",
     "text": [
      "['Perch' 'Smelt' 'Pike' 'Roach' 'Perch']\n",
      "[[0.    0.014 0.841 0.    0.136 0.007 0.003]\n",
      " [0.    0.003 0.044 0.    0.007 0.946 0.   ]\n",
      " [0.    0.    0.034 0.935 0.015 0.016 0.   ]\n",
      " [0.011 0.034 0.306 0.007 0.567 0.    0.076]\n",
      " [0.    0.    0.904 0.002 0.089 0.002 0.001]]\n",
      "['Bream' 'Parkki' 'Perch' 'Pike' 'Roach' 'Smelt' 'Whitefish']\n"
     ]
    }
   ],
   "source": [
    "# 상위 5건으로 예측 진행\n",
    "print(lr.predict(test_scaled[:5]))\n",
    "# 전체 범주별 확률 확인 \n",
    "proba = lr.predict_proba(test_scaled[:5])\n",
    "print(np.round(proba, decimals=3))\n",
    "print(lr.classes_)"
   ]
  },
  {
   "cell_type": "code",
   "execution_count": 79,
   "id": "d78edc1b",
   "metadata": {},
   "outputs": [
    {
     "name": "stdout",
     "output_type": "stream",
     "text": [
      "[[-1.49001669 -1.02911188  2.59344182  7.70358216 -1.20070535]\n",
      " [ 0.19618154 -2.01070049 -3.77975316  6.50491991 -1.99481795]\n",
      " [ 3.56280088  6.34356158 -8.48970479 -5.75757495  3.79306719]\n",
      " [-0.10458248  3.60320123  3.93067908 -3.61738454 -1.75069682]\n",
      " [-1.40061602 -6.07502954  5.2596964  -0.87219392  1.86043801]\n",
      " [-1.38526513  1.49213827  1.39225555 -5.67734539 -4.40097836]\n",
      " [ 0.62149789 -2.32405917 -0.90661489  1.71599673  3.69369327]]\n",
      "----------------------------------------------------------------------\n",
      "[-0.09205102 -0.26290669  3.25101219 -0.14742096  2.65498547 -6.78784574\n",
      "  1.38422676]\n"
     ]
    }
   ],
   "source": [
    "# 사용된 계수 출력\n",
    "print(lr.coef_)\n",
    "print('----------------------------------------------------------------------')\n",
    "print(lr.intercept_)"
   ]
  },
  {
   "cell_type": "code",
   "execution_count": 81,
   "id": "75ab9ce0",
   "metadata": {},
   "outputs": [
    {
     "name": "stdout",
     "output_type": "stream",
     "text": [
      "[[ -6.49811219   1.03222359   5.16363084  -2.72864981   3.33886449\n",
      "    0.32652617  -0.63448309]\n",
      " [-10.85948553   1.92716781   4.77101627  -2.39845749   2.97807376\n",
      "    7.84136341  -4.25967822]\n",
      " [ -4.33529078  -6.23308584   3.17445769   6.48673486   2.35757909\n",
      "    2.42115468  -3.87154969]\n",
      " [ -0.68336508   0.4527285    2.64700205  -1.18666466   3.26454111\n",
      "   -5.75276345   1.25852152]\n",
      " [ -6.39707808  -1.99274742   5.81574323  -0.11032399   3.50282236\n",
      "   -0.11162157  -0.70679453]]\n"
     ]
    }
   ],
   "source": [
    "decisions = lr.decision_function(test_scaled[:5])\n",
    "print(decisions)"
   ]
  },
  {
   "cell_type": "code",
   "execution_count": 85,
   "id": "f67edff8",
   "metadata": {},
   "outputs": [
    {
     "name": "stdout",
     "output_type": "stream",
     "text": [
      "[[0.    0.014 0.841 0.    0.136 0.007 0.003]\n",
      " [0.    0.003 0.044 0.    0.007 0.946 0.   ]\n",
      " [0.    0.    0.034 0.935 0.015 0.016 0.   ]\n",
      " [0.011 0.034 0.306 0.007 0.567 0.    0.076]\n",
      " [0.    0.    0.904 0.002 0.089 0.002 0.001]]\n"
     ]
    }
   ],
   "source": [
    "## 소프트 맥스(softmax)\n",
    "# 사용하는 패키지 : scipy.special\n",
    "# 사용하는 모듈 : softmax\n",
    "\n",
    "from scipy.special import softmax\n",
    "\n",
    "# decisions : z 값 \n",
    "# 0~1 사이의 값으로 변환 해준다 \n",
    "proba = softmax(decisions, axis=1)\n",
    "print(np.round(proba , decimals=3))\n",
    "\n",
    "\n",
    "# print(np.round(proba, decimals=3)) 값과 동일하다 ( 이진분류는 동일하지 않음 )"
   ]
  },
  {
   "cell_type": "markdown",
   "id": "18a6fd60",
   "metadata": {},
   "source": [
    "## 범주의 갯수에 따라 자동으로 판별하여 결정하고 사용\n",
    "### *이진분류 시그모이드\n",
    "### *다중분류 소프트맥스"
   ]
  }
 ],
 "metadata": {
  "kernelspec": {
   "display_name": "ml_kernel",
   "language": "python",
   "name": "ml"
  },
  "language_info": {
   "codemirror_mode": {
    "name": "ipython",
    "version": 3
   },
   "file_extension": ".py",
   "mimetype": "text/x-python",
   "name": "python",
   "nbconvert_exporter": "python",
   "pygments_lexer": "ipython3",
   "version": "3.9.12"
  }
 },
 "nbformat": 4,
 "nbformat_minor": 5
}
